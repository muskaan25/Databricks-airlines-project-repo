{
 "cells": [
  {
   "cell_type": "code",
   "execution_count": 0,
   "metadata": {
    "application/vnd.databricks.v1+cell": {
     "cellMetadata": {
      "byteLimit": 2048000,
      "rowLimit": 10000
     },
     "inputWidgets": {},
     "nuid": "19beee4e-48cd-4ad6-bf03-267bf66ebe80",
     "showTitle": false,
     "tableResultSettingsMap": {},
     "title": ""
    }
   },
   "outputs": [],
   "source": [
    "from pyspark.sql.functions import *\n",
    "from pyspark.sql.types import *"
   ]
  },
  {
   "cell_type": "markdown",
   "metadata": {
    "application/vnd.databricks.v1+cell": {
     "cellMetadata": {
      "byteLimit": 2048000,
      "rowLimit": 10000
     },
     "inputWidgets": {},
     "nuid": "3d917d1a-6507-49ad-93ef-c5e43fee1fea",
     "showTitle": false,
     "tableResultSettingsMap": {},
     "title": ""
    }
   },
   "source": [
    "### **Parameters**"
   ]
  },
  {
   "cell_type": "code",
   "execution_count": 0,
   "metadata": {
    "application/vnd.databricks.v1+cell": {
     "cellMetadata": {
      "byteLimit": 2048000,
      "rowLimit": 10000
     },
     "inputWidgets": {},
     "nuid": "8acbabce-d0a8-4703-881a-4318c9830cb3",
     "showTitle": false,
     "tableResultSettingsMap": {},
     "title": ""
    }
   },
   "outputs": [],
   "source": [
    "# # Catalog name\n",
    "# catalog = \"workspace\"\n",
    "\n",
    "# # Key Cols list\n",
    "# key_cols = \"['flight_id']\"\n",
    "# key_cols_list = eval(key_cols)\n",
    "\n",
    "# # CDC Cols\n",
    "# cdc_col = \"modified_date\"\n",
    "\n",
    "# # BACKDATED REFRESH\n",
    "# backdated_refresh = \"\"\n",
    "\n",
    "# # SOURCE OBJECT\n",
    "# source_object = \"silver_flights\"\n",
    "\n",
    "# # SOURCE SCHEMA\n",
    "# source_schema = \"silver\"\n",
    "\n",
    "# # TARGET OBJECT\n",
    "# target_object = \"DimFlights\"\n",
    "\n",
    "# # TARGET SCHEMA\n",
    "# target_schema = \"gold\"\n",
    "\n",
    "# # Surrogate Key\n",
    "# surrogate_key = \"DimFlightsKey\""
   ]
  },
  {
   "cell_type": "code",
   "execution_count": 0,
   "metadata": {
    "application/vnd.databricks.v1+cell": {
     "cellMetadata": {
      "byteLimit": 2048000,
      "rowLimit": 10000
     },
     "inputWidgets": {},
     "nuid": "90167c2c-05bb-4b8e-948a-9b4754998b82",
     "showTitle": false,
     "tableResultSettingsMap": {},
     "title": ""
    }
   },
   "outputs": [],
   "source": [
    "# # Catalog Name\n",
    "# catalog = \"workspace\"\n",
    "\n",
    "# # Key Cols List\n",
    "# key_cols = \"['airport_id']\"\n",
    "# key_cols_list = eval(key_cols)\n",
    "\n",
    "# # CDC Column\n",
    "# cdc_col = \"modified_date\"\n",
    "\n",
    "# # Backdated Refresh\n",
    "# backdated_refresh = \"\"\n",
    "\n",
    "# # Source Object\n",
    "# source_object = \"silver_airports\"\n",
    "\n",
    "# # Source Schema\n",
    "# source_schema = \"silver\"\n",
    "\n",
    "# # Target Schema \n",
    "# target_schema = \"gold\"\n",
    "\n",
    "# # Target Object \n",
    "# target_object = \"DimAirports\"\n",
    "\n",
    "# # Surrogate Key\n",
    "# surrogate_key = \"DimAirportsKey\""
   ]
  },
  {
   "cell_type": "code",
   "execution_count": 0,
   "metadata": {
    "application/vnd.databricks.v1+cell": {
     "cellMetadata": {
      "byteLimit": 2048000,
      "rowLimit": 10000
     },
     "inputWidgets": {},
     "nuid": "359d2992-315c-458c-bd58-3565c5b66253",
     "showTitle": false,
     "tableResultSettingsMap": {},
     "title": ""
    }
   },
   "outputs": [],
   "source": [
    "# Catalog Name\n",
    "catalog = \"workspace\"\n",
    "\n",
    "# Key Cols List\n",
    "key_cols = \"['passenger_id']\"\n",
    "key_cols_list = eval(key_cols)\n",
    "\n",
    "# CDC Column\n",
    "cdc_col = \"modified_date\"\n",
    "\n",
    "# Backdated Refresh\n",
    "backdated_refresh = \"\"\n",
    "\n",
    "# Source Object\n",
    "source_object = \"silver_passengers\"\n",
    "\n",
    "# Source Schema\n",
    "source_schema = \"silver\"\n",
    "\n",
    "# Target Schema \n",
    "target_schema = \"gold\"\n",
    "\n",
    "# Target Object \n",
    "target_object = \"DimPassengers\"\n",
    "\n",
    "# Surrogate Key\n",
    "surrogate_key = \"DimPassengersKey\"\n"
   ]
  },
  {
   "cell_type": "markdown",
   "metadata": {
    "application/vnd.databricks.v1+cell": {
     "cellMetadata": {
      "byteLimit": 2048000,
      "rowLimit": 10000
     },
     "inputWidgets": {},
     "nuid": "7493be2d-6d43-48f9-bd80-22770429756e",
     "showTitle": false,
     "tableResultSettingsMap": {},
     "title": ""
    }
   },
   "source": [
    "### **Incremental Data Ingestion**"
   ]
  },
  {
   "cell_type": "markdown",
   "metadata": {
    "application/vnd.databricks.v1+cell": {
     "cellMetadata": {
      "byteLimit": 2048000,
      "rowLimit": 10000
     },
     "inputWidgets": {},
     "nuid": "04540e12-61f5-48b1-a539-c03f1e6ab954",
     "showTitle": false,
     "tableResultSettingsMap": {},
     "title": ""
    }
   },
   "source": [
    "#### **Last Load Date**"
   ]
  },
  {
   "cell_type": "code",
   "execution_count": 0,
   "metadata": {
    "application/vnd.databricks.v1+cell": {
     "cellMetadata": {
      "byteLimit": 2048000,
      "rowLimit": 10000
     },
     "inputWidgets": {},
     "nuid": "e47d550e-6dbd-40d1-814a-ac9bf3628c20",
     "showTitle": false,
     "tableResultSettingsMap": {},
     "title": ""
    }
   },
   "outputs": [
    {
     "output_type": "execute_result",
     "data": {
      "text/plain": [
       "datetime.datetime(2025, 8, 6, 21, 41, 43, 909000)"
      ]
     },
     "execution_count": 210,
     "metadata": {},
     "output_type": "execute_result"
    }
   ],
   "source": [
    "# No Back Dated Refresh\n",
    "if len(backdated_refresh) == 0:\n",
    "    \n",
    "  # If Table Exists In The Destination\n",
    "  if spark.catalog.tableExists(f\"{catalog}.{target_schema}.{target_object}\"):\n",
    "    \n",
    "    last_load = spark.sql(f\"SELECT max({cdc_col}) FROM {target_schema}.{target_object}\").collect()[0][0]\n",
    "  \n",
    "  else:\n",
    "    last_load = \"1990-01-01 00:00:00\"\n",
    "\n",
    "# Yes Back Dated Refresh\n",
    "else:\n",
    "  last_load = backdated_refresh\n",
    "\n",
    "# test last load\n",
    "last_load"
   ]
  },
  {
   "cell_type": "code",
   "execution_count": 0,
   "metadata": {
    "application/vnd.databricks.v1+cell": {
     "cellMetadata": {
      "byteLimit": 2048000,
      "rowLimit": 10000
     },
     "inputWidgets": {},
     "nuid": "e7f37e08-4962-4756-b921-2ad9099d24ed",
     "showTitle": false,
     "tableResultSettingsMap": {},
     "title": ""
    }
   },
   "outputs": [],
   "source": [
    "df_src = spark.sql(f\"SELECT * FROM workspace.{source_schema}.{source_object} WHERE {cdc_col} > '{last_load}'\")"
   ]
  },
  {
   "cell_type": "code",
   "execution_count": 0,
   "metadata": {
    "application/vnd.databricks.v1+cell": {
     "cellMetadata": {
      "byteLimit": 2048000,
      "rowLimit": 10000
     },
     "inputWidgets": {},
     "nuid": "7d6d9a06-3ded-4dcd-8aa9-0b354e97035e",
     "showTitle": false,
     "tableResultSettingsMap": {
      "0": {
       "dataGridStateBlob": "{\"version\":1,\"tableState\":{\"columnPinning\":{\"left\":[\"#row_number#\"],\"right\":[]},\"columnSizing\":{},\"columnVisibility\":{}},\"settings\":{\"columns\":{}},\"syncTimestamp\":1755031157109}",
       "filterBlob": null,
       "queryPlanFiltersBlob": null,
       "tableResultIndex": 0
      }
     },
     "title": ""
    }
   },
   "outputs": [
    {
     "output_type": "display_data",
     "data": {
      "text/html": [
       "<style scoped>\n",
       "  .table-result-container {\n",
       "    max-height: 300px;\n",
       "    overflow: auto;\n",
       "  }\n",
       "  table, th, td {\n",
       "    border: 1px solid black;\n",
       "    border-collapse: collapse;\n",
       "  }\n",
       "  th, td {\n",
       "    padding: 5px;\n",
       "  }\n",
       "  th {\n",
       "    text-align: left;\n",
       "  }\n",
       "</style><div class='table-result-container'><table class='table-result'><thead style='background-color: white'><tr><th>passenger_id</th><th>name</th><th>gender</th><th>nationality</th><th>modified_date</th></tr></thead><tbody><tr><td>P0223</td><td>Nicholas Gomez</td><td>Female</td><td>Cook Islands</td><td>2025-08-12T21:01:32.095Z</td></tr><tr><td>P0224</td><td>Jason Jensen</td><td>Female</td><td>Rwanda</td><td>2025-08-12T21:01:32.095Z</td></tr><tr><td>P0222</td><td>Maria Taylor</td><td>Male</td><td>Lao People's Democratic Republic</td><td>2025-08-12T21:01:32.095Z</td></tr><tr><td>P0225</td><td>William Lopez</td><td>Male</td><td>Heard Island and McDonald Islands</td><td>2025-08-12T21:01:32.095Z</td></tr><tr><td>P0221</td><td>Amy Welch</td><td>Male</td><td>Croatia</td><td>2025-08-12T21:01:32.095Z</td></tr><tr><td>P0032</td><td>Daniel Douglas</td><td>Male</td><td>Singapore</td><td>2025-08-12T21:01:32.095Z</td></tr><tr><td>P0106</td><td>Joshua Shepherd Jr.</td><td>Female</td><td>Netherlands</td><td>2025-08-12T21:01:32.095Z</td></tr><tr><td>P0108</td><td>Brian Anderson</td><td>Female</td><td>Eritrea</td><td>2025-08-12T21:01:32.095Z</td></tr><tr><td>P0154</td><td>Angel Thompson</td><td>Female</td><td>Gambia</td><td>2025-08-12T21:01:32.095Z</td></tr><tr><td>P0149</td><td>Katherine Bowen DVM</td><td>Male</td><td>Mexico</td><td>2025-08-12T21:01:32.095Z</td></tr><tr><td>P0155</td><td>Robert Singleton</td><td>Female</td><td>Northern Mariana Islands</td><td>2025-08-12T21:01:32.095Z</td></tr><tr><td>P0158</td><td>Jamie Mcneil</td><td>Male</td><td>Burundi</td><td>2025-08-12T21:01:32.095Z</td></tr><tr><td>P0196</td><td>Monica Dillon</td><td>Female</td><td>Belarus</td><td>2025-08-12T21:01:32.095Z</td></tr><tr><td>P0049</td><td>Justin Thomas</td><td>Female</td><td>Tokelau</td><td>2025-08-12T21:01:32.095Z</td></tr><tr><td>P0113</td><td>Brian Richardson</td><td>Male</td><td>Dominican Republic</td><td>2025-08-12T21:01:32.095Z</td></tr></tbody></table></div>"
      ]
     },
     "metadata": {
      "application/vnd.databricks.v1+output": {
       "addedWidgets": {},
       "aggData": [],
       "aggError": "",
       "aggOverflow": false,
       "aggSchema": [],
       "aggSeriesLimitReached": false,
       "aggType": "",
       "arguments": {},
       "columnCustomDisplayInfos": {},
       "data": [
        [
         "P0223",
         "Nicholas Gomez",
         "Female",
         "Cook Islands",
         "2025-08-12T21:01:32.095Z"
        ],
        [
         "P0224",
         "Jason Jensen",
         "Female",
         "Rwanda",
         "2025-08-12T21:01:32.095Z"
        ],
        [
         "P0222",
         "Maria Taylor",
         "Male",
         "Lao People's Democratic Republic",
         "2025-08-12T21:01:32.095Z"
        ],
        [
         "P0225",
         "William Lopez",
         "Male",
         "Heard Island and McDonald Islands",
         "2025-08-12T21:01:32.095Z"
        ],
        [
         "P0221",
         "Amy Welch",
         "Male",
         "Croatia",
         "2025-08-12T21:01:32.095Z"
        ],
        [
         "P0032",
         "Daniel Douglas",
         "Male",
         "Singapore",
         "2025-08-12T21:01:32.095Z"
        ],
        [
         "P0106",
         "Joshua Shepherd Jr.",
         "Female",
         "Netherlands",
         "2025-08-12T21:01:32.095Z"
        ],
        [
         "P0108",
         "Brian Anderson",
         "Female",
         "Eritrea",
         "2025-08-12T21:01:32.095Z"
        ],
        [
         "P0154",
         "Angel Thompson",
         "Female",
         "Gambia",
         "2025-08-12T21:01:32.095Z"
        ],
        [
         "P0149",
         "Katherine Bowen DVM",
         "Male",
         "Mexico",
         "2025-08-12T21:01:32.095Z"
        ],
        [
         "P0155",
         "Robert Singleton",
         "Female",
         "Northern Mariana Islands",
         "2025-08-12T21:01:32.095Z"
        ],
        [
         "P0158",
         "Jamie Mcneil",
         "Male",
         "Burundi",
         "2025-08-12T21:01:32.095Z"
        ],
        [
         "P0196",
         "Monica Dillon",
         "Female",
         "Belarus",
         "2025-08-12T21:01:32.095Z"
        ],
        [
         "P0049",
         "Justin Thomas",
         "Female",
         "Tokelau",
         "2025-08-12T21:01:32.095Z"
        ],
        [
         "P0113",
         "Brian Richardson",
         "Male",
         "Dominican Republic",
         "2025-08-12T21:01:32.095Z"
        ]
       ],
       "datasetInfos": [],
       "dbfsResultPath": null,
       "isJsonSchema": true,
       "metadata": {},
       "overflow": false,
       "plotOptions": {
        "customPlotOptions": {},
        "displayType": "table",
        "pivotAggregation": null,
        "pivotColumns": null,
        "xColumns": null,
        "yColumns": null
       },
       "removedWidgets": [],
       "schema": [
        {
         "metadata": "{}",
         "name": "passenger_id",
         "type": "\"string\""
        },
        {
         "metadata": "{}",
         "name": "name",
         "type": "\"string\""
        },
        {
         "metadata": "{}",
         "name": "gender",
         "type": "\"string\""
        },
        {
         "metadata": "{}",
         "name": "nationality",
         "type": "\"string\""
        },
        {
         "metadata": "{}",
         "name": "modified_date",
         "type": "\"timestamp\""
        }
       ],
       "type": "table"
      }
     },
     "output_type": "display_data"
    }
   ],
   "source": [
    "df_src.display()"
   ]
  },
  {
   "cell_type": "markdown",
   "metadata": {
    "application/vnd.databricks.v1+cell": {
     "cellMetadata": {
      "byteLimit": 2048000,
      "rowLimit": 10000
     },
     "inputWidgets": {},
     "nuid": "cae24b4b-8375-40c3-851a-e551f813fdb7",
     "showTitle": false,
     "tableResultSettingsMap": {},
     "title": ""
    }
   },
   "source": [
    "#### **OLD VS NEW RECORDS**"
   ]
  },
  {
   "cell_type": "code",
   "execution_count": 0,
   "metadata": {
    "application/vnd.databricks.v1+cell": {
     "cellMetadata": {
      "byteLimit": 2048000,
      "rowLimit": 10000
     },
     "inputWidgets": {},
     "nuid": "702ce0fd-e47a-4837-a298-d47adce94522",
     "showTitle": false,
     "tableResultSettingsMap": {},
     "title": ""
    }
   },
   "outputs": [],
   "source": [
    "if spark.catalog.tableExists(f\"{catalog}.{target_schema}.{target_object}\"): \n",
    "\n",
    "  # Key Columns String For Incremental\n",
    "  key_cols_string_incremental = \", \".join(key_cols_list)\n",
    "\n",
    "  df_trg = spark.sql(f\"\"\"SELECT {key_cols_string_incremental}, {surrogate_key}, create_date, update_date FROM {catalog}.{target_schema}.{target_object}\"\"\")\n",
    "\n",
    "\n",
    "else:\n",
    "\n",
    "  # Key Columns String For Initial\n",
    "  key_cols_string_init = [f\"'' AS {i}\" for i in key_cols_list]\n",
    "  key_cols_string_init = \", \".join(key_cols_string_init)\n",
    "  \n",
    "  df_trg = spark.sql(f\"\"\"SELECT {key_cols_string_init}, CAST('0' AS INT) AS {surrogate_key}, CAST('1900-01-01 00:00:00' AS timestamp) AS create_date, CAST('1900-01-01 00:00:00' AS timestamp) AS update_date WHERE 1=0\"\"\")"
   ]
  },
  {
   "cell_type": "code",
   "execution_count": 0,
   "metadata": {
    "application/vnd.databricks.v1+cell": {
     "cellMetadata": {
      "byteLimit": 2048000,
      "rowLimit": 10000
     },
     "inputWidgets": {},
     "nuid": "9c31bcf4-2254-4401-ab5b-11614fbdda67",
     "showTitle": false,
     "tableResultSettingsMap": {
      "0": {
       "dataGridStateBlob": "{\"version\":1,\"tableState\":{\"columnPinning\":{\"left\":[\"#row_number#\"],\"right\":[]},\"columnSizing\":{},\"columnVisibility\":{}},\"settings\":{\"columns\":{}},\"syncTimestamp\":1755031158777}",
       "filterBlob": null,
       "queryPlanFiltersBlob": null,
       "tableResultIndex": 0
      }
     },
     "title": ""
    }
   },
   "outputs": [
    {
     "output_type": "display_data",
     "data": {
      "text/html": [
       "<style scoped>\n",
       "  .table-result-container {\n",
       "    max-height: 300px;\n",
       "    overflow: auto;\n",
       "  }\n",
       "  table, th, td {\n",
       "    border: 1px solid black;\n",
       "    border-collapse: collapse;\n",
       "  }\n",
       "  th, td {\n",
       "    padding: 5px;\n",
       "  }\n",
       "  th {\n",
       "    text-align: left;\n",
       "  }\n",
       "</style><div class='table-result-container'><table class='table-result'><thead style='background-color: white'><tr><th>passenger_id</th><th>DimPassengersKey</th><th>create_date</th><th>update_date</th></tr></thead><tbody><tr><td>P0001</td><td>1</td><td>2025-08-12T20:39:25.949Z</td><td>2025-08-12T20:39:25.949Z</td></tr><tr><td>P0002</td><td>2</td><td>2025-08-12T20:39:25.949Z</td><td>2025-08-12T20:39:25.949Z</td></tr><tr><td>P0003</td><td>3</td><td>2025-08-12T20:39:25.949Z</td><td>2025-08-12T20:39:25.949Z</td></tr><tr><td>P0004</td><td>4</td><td>2025-08-12T20:39:25.949Z</td><td>2025-08-12T20:39:25.949Z</td></tr><tr><td>P0005</td><td>5</td><td>2025-08-12T20:39:25.949Z</td><td>2025-08-12T20:39:25.949Z</td></tr><tr><td>P0006</td><td>6</td><td>2025-08-12T20:39:25.949Z</td><td>2025-08-12T20:39:25.949Z</td></tr><tr><td>P0007</td><td>7</td><td>2025-08-12T20:39:25.949Z</td><td>2025-08-12T20:39:25.949Z</td></tr><tr><td>P0008</td><td>8</td><td>2025-08-12T20:39:25.949Z</td><td>2025-08-12T20:39:25.949Z</td></tr><tr><td>P0009</td><td>9</td><td>2025-08-12T20:39:25.949Z</td><td>2025-08-12T20:39:25.949Z</td></tr><tr><td>P0010</td><td>10</td><td>2025-08-12T20:39:25.949Z</td><td>2025-08-12T20:39:25.949Z</td></tr><tr><td>P0011</td><td>11</td><td>2025-08-12T20:39:25.949Z</td><td>2025-08-12T20:39:25.949Z</td></tr><tr><td>P0012</td><td>12</td><td>2025-08-12T20:39:25.949Z</td><td>2025-08-12T20:39:25.949Z</td></tr><tr><td>P0013</td><td>13</td><td>2025-08-12T20:39:25.949Z</td><td>2025-08-12T20:39:25.949Z</td></tr><tr><td>P0014</td><td>14</td><td>2025-08-12T20:39:25.949Z</td><td>2025-08-12T20:39:25.949Z</td></tr><tr><td>P0015</td><td>15</td><td>2025-08-12T20:39:25.949Z</td><td>2025-08-12T20:39:25.949Z</td></tr><tr><td>P0016</td><td>16</td><td>2025-08-12T20:39:25.949Z</td><td>2025-08-12T20:39:25.949Z</td></tr><tr><td>P0017</td><td>17</td><td>2025-08-12T20:39:25.949Z</td><td>2025-08-12T20:39:25.949Z</td></tr><tr><td>P0018</td><td>18</td><td>2025-08-12T20:39:25.949Z</td><td>2025-08-12T20:39:25.949Z</td></tr><tr><td>P0019</td><td>19</td><td>2025-08-12T20:39:25.949Z</td><td>2025-08-12T20:39:25.949Z</td></tr><tr><td>P0020</td><td>20</td><td>2025-08-12T20:39:25.949Z</td><td>2025-08-12T20:39:25.949Z</td></tr><tr><td>P0021</td><td>21</td><td>2025-08-12T20:39:25.949Z</td><td>2025-08-12T20:39:25.949Z</td></tr><tr><td>P0022</td><td>22</td><td>2025-08-12T20:39:25.949Z</td><td>2025-08-12T20:39:25.949Z</td></tr><tr><td>P0023</td><td>23</td><td>2025-08-12T20:39:25.949Z</td><td>2025-08-12T20:39:25.949Z</td></tr><tr><td>P0024</td><td>24</td><td>2025-08-12T20:39:25.949Z</td><td>2025-08-12T20:39:25.949Z</td></tr><tr><td>P0025</td><td>25</td><td>2025-08-12T20:39:25.949Z</td><td>2025-08-12T20:39:25.949Z</td></tr><tr><td>P0026</td><td>26</td><td>2025-08-12T20:39:25.949Z</td><td>2025-08-12T20:39:25.949Z</td></tr><tr><td>P0027</td><td>27</td><td>2025-08-12T20:39:25.949Z</td><td>2025-08-12T20:39:25.949Z</td></tr><tr><td>P0028</td><td>28</td><td>2025-08-12T20:39:25.949Z</td><td>2025-08-12T20:39:25.949Z</td></tr><tr><td>P0029</td><td>29</td><td>2025-08-12T20:39:25.949Z</td><td>2025-08-12T20:39:25.949Z</td></tr><tr><td>P0030</td><td>30</td><td>2025-08-12T20:39:25.949Z</td><td>2025-08-12T20:39:25.949Z</td></tr><tr><td>P0031</td><td>31</td><td>2025-08-12T20:39:25.949Z</td><td>2025-08-12T20:39:25.949Z</td></tr><tr><td>P0032</td><td>32</td><td>2025-08-12T20:39:25.949Z</td><td>2025-08-12T20:39:25.949Z</td></tr><tr><td>P0033</td><td>33</td><td>2025-08-12T20:39:25.949Z</td><td>2025-08-12T20:39:25.949Z</td></tr><tr><td>P0034</td><td>34</td><td>2025-08-12T20:39:25.949Z</td><td>2025-08-12T20:39:25.949Z</td></tr><tr><td>P0035</td><td>35</td><td>2025-08-12T20:39:25.949Z</td><td>2025-08-12T20:39:25.949Z</td></tr><tr><td>P0036</td><td>36</td><td>2025-08-12T20:39:25.949Z</td><td>2025-08-12T20:39:25.949Z</td></tr><tr><td>P0037</td><td>37</td><td>2025-08-12T20:39:25.949Z</td><td>2025-08-12T20:39:25.949Z</td></tr><tr><td>P0038</td><td>38</td><td>2025-08-12T20:39:25.949Z</td><td>2025-08-12T20:39:25.949Z</td></tr><tr><td>P0039</td><td>39</td><td>2025-08-12T20:39:25.949Z</td><td>2025-08-12T20:39:25.949Z</td></tr><tr><td>P0040</td><td>40</td><td>2025-08-12T20:39:25.949Z</td><td>2025-08-12T20:39:25.949Z</td></tr><tr><td>P0041</td><td>41</td><td>2025-08-12T20:39:25.949Z</td><td>2025-08-12T20:39:25.949Z</td></tr><tr><td>P0042</td><td>42</td><td>2025-08-12T20:39:25.949Z</td><td>2025-08-12T20:39:25.949Z</td></tr><tr><td>P0043</td><td>43</td><td>2025-08-12T20:39:25.949Z</td><td>2025-08-12T20:39:25.949Z</td></tr><tr><td>P0044</td><td>44</td><td>2025-08-12T20:39:25.949Z</td><td>2025-08-12T20:39:25.949Z</td></tr><tr><td>P0045</td><td>45</td><td>2025-08-12T20:39:25.949Z</td><td>2025-08-12T20:39:25.949Z</td></tr><tr><td>P0046</td><td>46</td><td>2025-08-12T20:39:25.949Z</td><td>2025-08-12T20:39:25.949Z</td></tr><tr><td>P0047</td><td>47</td><td>2025-08-12T20:39:25.949Z</td><td>2025-08-12T20:39:25.949Z</td></tr><tr><td>P0048</td><td>48</td><td>2025-08-12T20:39:25.949Z</td><td>2025-08-12T20:39:25.949Z</td></tr><tr><td>P0049</td><td>49</td><td>2025-08-12T20:39:25.949Z</td><td>2025-08-12T20:39:25.949Z</td></tr><tr><td>P0050</td><td>50</td><td>2025-08-12T20:39:25.949Z</td><td>2025-08-12T20:39:25.949Z</td></tr><tr><td>P0051</td><td>51</td><td>2025-08-12T20:39:25.949Z</td><td>2025-08-12T20:39:25.949Z</td></tr><tr><td>P0052</td><td>52</td><td>2025-08-12T20:39:25.949Z</td><td>2025-08-12T20:39:25.949Z</td></tr><tr><td>P0053</td><td>53</td><td>2025-08-12T20:39:25.949Z</td><td>2025-08-12T20:39:25.949Z</td></tr><tr><td>P0054</td><td>54</td><td>2025-08-12T20:39:25.949Z</td><td>2025-08-12T20:39:25.949Z</td></tr><tr><td>P0055</td><td>55</td><td>2025-08-12T20:39:25.949Z</td><td>2025-08-12T20:39:25.949Z</td></tr><tr><td>P0056</td><td>56</td><td>2025-08-12T20:39:25.949Z</td><td>2025-08-12T20:39:25.949Z</td></tr><tr><td>P0057</td><td>57</td><td>2025-08-12T20:39:25.949Z</td><td>2025-08-12T20:39:25.949Z</td></tr><tr><td>P0058</td><td>58</td><td>2025-08-12T20:39:25.949Z</td><td>2025-08-12T20:39:25.949Z</td></tr><tr><td>P0059</td><td>59</td><td>2025-08-12T20:39:25.949Z</td><td>2025-08-12T20:39:25.949Z</td></tr><tr><td>P0060</td><td>60</td><td>2025-08-12T20:39:25.949Z</td><td>2025-08-12T20:39:25.949Z</td></tr><tr><td>P0061</td><td>61</td><td>2025-08-12T20:39:25.949Z</td><td>2025-08-12T20:39:25.949Z</td></tr><tr><td>P0062</td><td>62</td><td>2025-08-12T20:39:25.949Z</td><td>2025-08-12T20:39:25.949Z</td></tr><tr><td>P0063</td><td>63</td><td>2025-08-12T20:39:25.949Z</td><td>2025-08-12T20:39:25.949Z</td></tr><tr><td>P0064</td><td>64</td><td>2025-08-12T20:39:25.949Z</td><td>2025-08-12T20:39:25.949Z</td></tr><tr><td>P0065</td><td>65</td><td>2025-08-12T20:39:25.949Z</td><td>2025-08-12T20:39:25.949Z</td></tr><tr><td>P0066</td><td>66</td><td>2025-08-12T20:39:25.949Z</td><td>2025-08-12T20:39:25.949Z</td></tr><tr><td>P0067</td><td>67</td><td>2025-08-12T20:39:25.949Z</td><td>2025-08-12T20:39:25.949Z</td></tr><tr><td>P0068</td><td>68</td><td>2025-08-12T20:39:25.949Z</td><td>2025-08-12T20:39:25.949Z</td></tr><tr><td>P0069</td><td>69</td><td>2025-08-12T20:39:25.949Z</td><td>2025-08-12T20:39:25.949Z</td></tr><tr><td>P0070</td><td>70</td><td>2025-08-12T20:39:25.949Z</td><td>2025-08-12T20:39:25.949Z</td></tr><tr><td>P0071</td><td>71</td><td>2025-08-12T20:39:25.949Z</td><td>2025-08-12T20:39:25.949Z</td></tr><tr><td>P0072</td><td>72</td><td>2025-08-12T20:39:25.949Z</td><td>2025-08-12T20:39:25.949Z</td></tr><tr><td>P0073</td><td>73</td><td>2025-08-12T20:39:25.949Z</td><td>2025-08-12T20:39:25.949Z</td></tr><tr><td>P0074</td><td>74</td><td>2025-08-12T20:39:25.949Z</td><td>2025-08-12T20:39:25.949Z</td></tr><tr><td>P0075</td><td>75</td><td>2025-08-12T20:39:25.949Z</td><td>2025-08-12T20:39:25.949Z</td></tr><tr><td>P0076</td><td>76</td><td>2025-08-12T20:39:25.949Z</td><td>2025-08-12T20:39:25.949Z</td></tr><tr><td>P0077</td><td>77</td><td>2025-08-12T20:39:25.949Z</td><td>2025-08-12T20:39:25.949Z</td></tr><tr><td>P0078</td><td>78</td><td>2025-08-12T20:39:25.949Z</td><td>2025-08-12T20:39:25.949Z</td></tr><tr><td>P0079</td><td>79</td><td>2025-08-12T20:39:25.949Z</td><td>2025-08-12T20:39:25.949Z</td></tr><tr><td>P0080</td><td>80</td><td>2025-08-12T20:39:25.949Z</td><td>2025-08-12T20:39:25.949Z</td></tr><tr><td>P0081</td><td>81</td><td>2025-08-12T20:39:25.949Z</td><td>2025-08-12T20:39:25.949Z</td></tr><tr><td>P0082</td><td>82</td><td>2025-08-12T20:39:25.949Z</td><td>2025-08-12T20:39:25.949Z</td></tr><tr><td>P0083</td><td>83</td><td>2025-08-12T20:39:25.949Z</td><td>2025-08-12T20:39:25.949Z</td></tr><tr><td>P0084</td><td>84</td><td>2025-08-12T20:39:25.949Z</td><td>2025-08-12T20:39:25.949Z</td></tr><tr><td>P0085</td><td>85</td><td>2025-08-12T20:39:25.949Z</td><td>2025-08-12T20:39:25.949Z</td></tr><tr><td>P0086</td><td>86</td><td>2025-08-12T20:39:25.949Z</td><td>2025-08-12T20:39:25.949Z</td></tr><tr><td>P0087</td><td>87</td><td>2025-08-12T20:39:25.949Z</td><td>2025-08-12T20:39:25.949Z</td></tr><tr><td>P0088</td><td>88</td><td>2025-08-12T20:39:25.949Z</td><td>2025-08-12T20:39:25.949Z</td></tr><tr><td>P0089</td><td>89</td><td>2025-08-12T20:39:25.949Z</td><td>2025-08-12T20:39:25.949Z</td></tr><tr><td>P0090</td><td>90</td><td>2025-08-12T20:39:25.949Z</td><td>2025-08-12T20:39:25.949Z</td></tr><tr><td>P0091</td><td>91</td><td>2025-08-12T20:39:25.949Z</td><td>2025-08-12T20:39:25.949Z</td></tr><tr><td>P0092</td><td>92</td><td>2025-08-12T20:39:25.949Z</td><td>2025-08-12T20:39:25.949Z</td></tr><tr><td>P0093</td><td>93</td><td>2025-08-12T20:39:25.949Z</td><td>2025-08-12T20:39:25.949Z</td></tr><tr><td>P0094</td><td>94</td><td>2025-08-12T20:39:25.949Z</td><td>2025-08-12T20:39:25.949Z</td></tr><tr><td>P0095</td><td>95</td><td>2025-08-12T20:39:25.949Z</td><td>2025-08-12T20:39:25.949Z</td></tr><tr><td>P0096</td><td>96</td><td>2025-08-12T20:39:25.949Z</td><td>2025-08-12T20:39:25.949Z</td></tr><tr><td>P0097</td><td>97</td><td>2025-08-12T20:39:25.949Z</td><td>2025-08-12T20:39:25.949Z</td></tr><tr><td>P0098</td><td>98</td><td>2025-08-12T20:39:25.949Z</td><td>2025-08-12T20:39:25.949Z</td></tr><tr><td>P0099</td><td>99</td><td>2025-08-12T20:39:25.949Z</td><td>2025-08-12T20:39:25.949Z</td></tr><tr><td>P0100</td><td>100</td><td>2025-08-12T20:39:25.949Z</td><td>2025-08-12T20:39:25.949Z</td></tr><tr><td>P0101</td><td>101</td><td>2025-08-12T20:39:25.949Z</td><td>2025-08-12T20:39:25.949Z</td></tr><tr><td>P0102</td><td>102</td><td>2025-08-12T20:39:25.949Z</td><td>2025-08-12T20:39:25.949Z</td></tr><tr><td>P0103</td><td>103</td><td>2025-08-12T20:39:25.949Z</td><td>2025-08-12T20:39:25.949Z</td></tr><tr><td>P0104</td><td>104</td><td>2025-08-12T20:39:25.949Z</td><td>2025-08-12T20:39:25.949Z</td></tr><tr><td>P0105</td><td>105</td><td>2025-08-12T20:39:25.949Z</td><td>2025-08-12T20:39:25.949Z</td></tr><tr><td>P0106</td><td>106</td><td>2025-08-12T20:39:25.949Z</td><td>2025-08-12T20:39:25.949Z</td></tr><tr><td>P0107</td><td>107</td><td>2025-08-12T20:39:25.949Z</td><td>2025-08-12T20:39:25.949Z</td></tr><tr><td>P0108</td><td>108</td><td>2025-08-12T20:39:25.949Z</td><td>2025-08-12T20:39:25.949Z</td></tr><tr><td>P0109</td><td>109</td><td>2025-08-12T20:39:25.949Z</td><td>2025-08-12T20:39:25.949Z</td></tr><tr><td>P0110</td><td>110</td><td>2025-08-12T20:39:25.949Z</td><td>2025-08-12T20:39:25.949Z</td></tr><tr><td>P0111</td><td>111</td><td>2025-08-12T20:39:25.949Z</td><td>2025-08-12T20:39:25.949Z</td></tr><tr><td>P0112</td><td>112</td><td>2025-08-12T20:39:25.949Z</td><td>2025-08-12T20:39:25.949Z</td></tr><tr><td>P0113</td><td>113</td><td>2025-08-12T20:39:25.949Z</td><td>2025-08-12T20:39:25.949Z</td></tr><tr><td>P0114</td><td>114</td><td>2025-08-12T20:39:25.949Z</td><td>2025-08-12T20:39:25.949Z</td></tr><tr><td>P0115</td><td>115</td><td>2025-08-12T20:39:25.949Z</td><td>2025-08-12T20:39:25.949Z</td></tr><tr><td>P0116</td><td>116</td><td>2025-08-12T20:39:25.949Z</td><td>2025-08-12T20:39:25.949Z</td></tr><tr><td>P0117</td><td>117</td><td>2025-08-12T20:39:25.949Z</td><td>2025-08-12T20:39:25.949Z</td></tr><tr><td>P0118</td><td>118</td><td>2025-08-12T20:39:25.949Z</td><td>2025-08-12T20:39:25.949Z</td></tr><tr><td>P0119</td><td>119</td><td>2025-08-12T20:39:25.949Z</td><td>2025-08-12T20:39:25.949Z</td></tr><tr><td>P0120</td><td>120</td><td>2025-08-12T20:39:25.949Z</td><td>2025-08-12T20:39:25.949Z</td></tr><tr><td>P0121</td><td>121</td><td>2025-08-12T20:39:25.949Z</td><td>2025-08-12T20:39:25.949Z</td></tr><tr><td>P0122</td><td>122</td><td>2025-08-12T20:39:25.949Z</td><td>2025-08-12T20:39:25.949Z</td></tr><tr><td>P0123</td><td>123</td><td>2025-08-12T20:39:25.949Z</td><td>2025-08-12T20:39:25.949Z</td></tr><tr><td>P0124</td><td>124</td><td>2025-08-12T20:39:25.949Z</td><td>2025-08-12T20:39:25.949Z</td></tr><tr><td>P0125</td><td>125</td><td>2025-08-12T20:39:25.949Z</td><td>2025-08-12T20:39:25.949Z</td></tr><tr><td>P0126</td><td>126</td><td>2025-08-12T20:39:25.949Z</td><td>2025-08-12T20:39:25.949Z</td></tr><tr><td>P0127</td><td>127</td><td>2025-08-12T20:39:25.949Z</td><td>2025-08-12T20:39:25.949Z</td></tr><tr><td>P0128</td><td>128</td><td>2025-08-12T20:39:25.949Z</td><td>2025-08-12T20:39:25.949Z</td></tr><tr><td>P0129</td><td>129</td><td>2025-08-12T20:39:25.949Z</td><td>2025-08-12T20:39:25.949Z</td></tr><tr><td>P0130</td><td>130</td><td>2025-08-12T20:39:25.949Z</td><td>2025-08-12T20:39:25.949Z</td></tr><tr><td>P0131</td><td>131</td><td>2025-08-12T20:39:25.949Z</td><td>2025-08-12T20:39:25.949Z</td></tr><tr><td>P0132</td><td>132</td><td>2025-08-12T20:39:25.949Z</td><td>2025-08-12T20:39:25.949Z</td></tr><tr><td>P0133</td><td>133</td><td>2025-08-12T20:39:25.949Z</td><td>2025-08-12T20:39:25.949Z</td></tr><tr><td>P0134</td><td>134</td><td>2025-08-12T20:39:25.949Z</td><td>2025-08-12T20:39:25.949Z</td></tr><tr><td>P0135</td><td>135</td><td>2025-08-12T20:39:25.949Z</td><td>2025-08-12T20:39:25.949Z</td></tr><tr><td>P0136</td><td>136</td><td>2025-08-12T20:39:25.949Z</td><td>2025-08-12T20:39:25.949Z</td></tr><tr><td>P0137</td><td>137</td><td>2025-08-12T20:39:25.949Z</td><td>2025-08-12T20:39:25.949Z</td></tr><tr><td>P0138</td><td>138</td><td>2025-08-12T20:39:25.949Z</td><td>2025-08-12T20:39:25.949Z</td></tr><tr><td>P0139</td><td>139</td><td>2025-08-12T20:39:25.949Z</td><td>2025-08-12T20:39:25.949Z</td></tr><tr><td>P0140</td><td>140</td><td>2025-08-12T20:39:25.949Z</td><td>2025-08-12T20:39:25.949Z</td></tr><tr><td>P0141</td><td>141</td><td>2025-08-12T20:39:25.949Z</td><td>2025-08-12T20:39:25.949Z</td></tr><tr><td>P0142</td><td>142</td><td>2025-08-12T20:39:25.949Z</td><td>2025-08-12T20:39:25.949Z</td></tr><tr><td>P0143</td><td>143</td><td>2025-08-12T20:39:25.949Z</td><td>2025-08-12T20:39:25.949Z</td></tr><tr><td>P0144</td><td>144</td><td>2025-08-12T20:39:25.949Z</td><td>2025-08-12T20:39:25.949Z</td></tr><tr><td>P0145</td><td>145</td><td>2025-08-12T20:39:25.949Z</td><td>2025-08-12T20:39:25.949Z</td></tr><tr><td>P0146</td><td>146</td><td>2025-08-12T20:39:25.949Z</td><td>2025-08-12T20:39:25.949Z</td></tr><tr><td>P0147</td><td>147</td><td>2025-08-12T20:39:25.949Z</td><td>2025-08-12T20:39:25.949Z</td></tr><tr><td>P0148</td><td>148</td><td>2025-08-12T20:39:25.949Z</td><td>2025-08-12T20:39:25.949Z</td></tr><tr><td>P0149</td><td>149</td><td>2025-08-12T20:39:25.949Z</td><td>2025-08-12T20:39:25.949Z</td></tr><tr><td>P0150</td><td>150</td><td>2025-08-12T20:39:25.949Z</td><td>2025-08-12T20:39:25.949Z</td></tr><tr><td>P0151</td><td>151</td><td>2025-08-12T20:39:25.949Z</td><td>2025-08-12T20:39:25.949Z</td></tr><tr><td>P0152</td><td>152</td><td>2025-08-12T20:39:25.949Z</td><td>2025-08-12T20:39:25.949Z</td></tr><tr><td>P0153</td><td>153</td><td>2025-08-12T20:39:25.949Z</td><td>2025-08-12T20:39:25.949Z</td></tr><tr><td>P0154</td><td>154</td><td>2025-08-12T20:39:25.949Z</td><td>2025-08-12T20:39:25.949Z</td></tr><tr><td>P0155</td><td>155</td><td>2025-08-12T20:39:25.949Z</td><td>2025-08-12T20:39:25.949Z</td></tr><tr><td>P0156</td><td>156</td><td>2025-08-12T20:39:25.949Z</td><td>2025-08-12T20:39:25.949Z</td></tr><tr><td>P0157</td><td>157</td><td>2025-08-12T20:39:25.949Z</td><td>2025-08-12T20:39:25.949Z</td></tr><tr><td>P0158</td><td>158</td><td>2025-08-12T20:39:25.949Z</td><td>2025-08-12T20:39:25.949Z</td></tr><tr><td>P0159</td><td>159</td><td>2025-08-12T20:39:25.949Z</td><td>2025-08-12T20:39:25.949Z</td></tr><tr><td>P0160</td><td>160</td><td>2025-08-12T20:39:25.949Z</td><td>2025-08-12T20:39:25.949Z</td></tr><tr><td>P0161</td><td>161</td><td>2025-08-12T20:39:25.949Z</td><td>2025-08-12T20:39:25.949Z</td></tr><tr><td>P0162</td><td>162</td><td>2025-08-12T20:39:25.949Z</td><td>2025-08-12T20:39:25.949Z</td></tr><tr><td>P0163</td><td>163</td><td>2025-08-12T20:39:25.949Z</td><td>2025-08-12T20:39:25.949Z</td></tr><tr><td>P0164</td><td>164</td><td>2025-08-12T20:39:25.949Z</td><td>2025-08-12T20:39:25.949Z</td></tr><tr><td>P0165</td><td>165</td><td>2025-08-12T20:39:25.949Z</td><td>2025-08-12T20:39:25.949Z</td></tr><tr><td>P0166</td><td>166</td><td>2025-08-12T20:39:25.949Z</td><td>2025-08-12T20:39:25.949Z</td></tr><tr><td>P0167</td><td>167</td><td>2025-08-12T20:39:25.949Z</td><td>2025-08-12T20:39:25.949Z</td></tr><tr><td>P0168</td><td>168</td><td>2025-08-12T20:39:25.949Z</td><td>2025-08-12T20:39:25.949Z</td></tr><tr><td>P0169</td><td>169</td><td>2025-08-12T20:39:25.949Z</td><td>2025-08-12T20:39:25.949Z</td></tr><tr><td>P0170</td><td>170</td><td>2025-08-12T20:39:25.949Z</td><td>2025-08-12T20:39:25.949Z</td></tr><tr><td>P0171</td><td>171</td><td>2025-08-12T20:39:25.949Z</td><td>2025-08-12T20:39:25.949Z</td></tr><tr><td>P0172</td><td>172</td><td>2025-08-12T20:39:25.949Z</td><td>2025-08-12T20:39:25.949Z</td></tr><tr><td>P0173</td><td>173</td><td>2025-08-12T20:39:25.949Z</td><td>2025-08-12T20:39:25.949Z</td></tr><tr><td>P0174</td><td>174</td><td>2025-08-12T20:39:25.949Z</td><td>2025-08-12T20:39:25.949Z</td></tr><tr><td>P0175</td><td>175</td><td>2025-08-12T20:39:25.949Z</td><td>2025-08-12T20:39:25.949Z</td></tr><tr><td>P0176</td><td>176</td><td>2025-08-12T20:39:25.949Z</td><td>2025-08-12T20:39:25.949Z</td></tr><tr><td>P0177</td><td>177</td><td>2025-08-12T20:39:25.949Z</td><td>2025-08-12T20:39:25.949Z</td></tr><tr><td>P0178</td><td>178</td><td>2025-08-12T20:39:25.949Z</td><td>2025-08-12T20:39:25.949Z</td></tr><tr><td>P0179</td><td>179</td><td>2025-08-12T20:39:25.949Z</td><td>2025-08-12T20:39:25.949Z</td></tr><tr><td>P0180</td><td>180</td><td>2025-08-12T20:39:25.949Z</td><td>2025-08-12T20:39:25.949Z</td></tr><tr><td>P0181</td><td>181</td><td>2025-08-12T20:39:25.949Z</td><td>2025-08-12T20:39:25.949Z</td></tr><tr><td>P0182</td><td>182</td><td>2025-08-12T20:39:25.949Z</td><td>2025-08-12T20:39:25.949Z</td></tr><tr><td>P0183</td><td>183</td><td>2025-08-12T20:39:25.949Z</td><td>2025-08-12T20:39:25.949Z</td></tr><tr><td>P0184</td><td>184</td><td>2025-08-12T20:39:25.949Z</td><td>2025-08-12T20:39:25.949Z</td></tr><tr><td>P0185</td><td>185</td><td>2025-08-12T20:39:25.949Z</td><td>2025-08-12T20:39:25.949Z</td></tr><tr><td>P0186</td><td>186</td><td>2025-08-12T20:39:25.949Z</td><td>2025-08-12T20:39:25.949Z</td></tr><tr><td>P0187</td><td>187</td><td>2025-08-12T20:39:25.949Z</td><td>2025-08-12T20:39:25.949Z</td></tr><tr><td>P0188</td><td>188</td><td>2025-08-12T20:39:25.949Z</td><td>2025-08-12T20:39:25.949Z</td></tr><tr><td>P0189</td><td>189</td><td>2025-08-12T20:39:25.949Z</td><td>2025-08-12T20:39:25.949Z</td></tr><tr><td>P0190</td><td>190</td><td>2025-08-12T20:39:25.949Z</td><td>2025-08-12T20:39:25.949Z</td></tr><tr><td>P0191</td><td>191</td><td>2025-08-12T20:39:25.949Z</td><td>2025-08-12T20:39:25.949Z</td></tr><tr><td>P0192</td><td>192</td><td>2025-08-12T20:39:25.949Z</td><td>2025-08-12T20:39:25.949Z</td></tr><tr><td>P0193</td><td>193</td><td>2025-08-12T20:39:25.949Z</td><td>2025-08-12T20:39:25.949Z</td></tr><tr><td>P0194</td><td>194</td><td>2025-08-12T20:39:25.949Z</td><td>2025-08-12T20:39:25.949Z</td></tr><tr><td>P0195</td><td>195</td><td>2025-08-12T20:39:25.949Z</td><td>2025-08-12T20:39:25.949Z</td></tr><tr><td>P0196</td><td>196</td><td>2025-08-12T20:39:25.949Z</td><td>2025-08-12T20:39:25.949Z</td></tr><tr><td>P0197</td><td>197</td><td>2025-08-12T20:39:25.949Z</td><td>2025-08-12T20:39:25.949Z</td></tr><tr><td>P0198</td><td>198</td><td>2025-08-12T20:39:25.949Z</td><td>2025-08-12T20:39:25.949Z</td></tr><tr><td>P0199</td><td>199</td><td>2025-08-12T20:39:25.949Z</td><td>2025-08-12T20:39:25.949Z</td></tr><tr><td>P0200</td><td>200</td><td>2025-08-12T20:39:25.949Z</td><td>2025-08-12T20:39:25.949Z</td></tr><tr><td>P0201</td><td>201</td><td>2025-08-12T20:39:25.949Z</td><td>2025-08-12T20:39:25.949Z</td></tr><tr><td>P0202</td><td>202</td><td>2025-08-12T20:39:25.949Z</td><td>2025-08-12T20:39:25.949Z</td></tr><tr><td>P0203</td><td>203</td><td>2025-08-12T20:39:25.949Z</td><td>2025-08-12T20:39:25.949Z</td></tr><tr><td>P0204</td><td>204</td><td>2025-08-12T20:39:25.949Z</td><td>2025-08-12T20:39:25.949Z</td></tr><tr><td>P0205</td><td>205</td><td>2025-08-12T20:39:25.949Z</td><td>2025-08-12T20:39:25.949Z</td></tr><tr><td>P0206</td><td>206</td><td>2025-08-12T20:39:25.949Z</td><td>2025-08-12T20:39:25.949Z</td></tr><tr><td>P0207</td><td>207</td><td>2025-08-12T20:39:25.949Z</td><td>2025-08-12T20:39:25.949Z</td></tr><tr><td>P0208</td><td>208</td><td>2025-08-12T20:39:25.949Z</td><td>2025-08-12T20:39:25.949Z</td></tr><tr><td>P0209</td><td>209</td><td>2025-08-12T20:39:25.949Z</td><td>2025-08-12T20:39:25.949Z</td></tr><tr><td>P0210</td><td>210</td><td>2025-08-12T20:39:25.949Z</td><td>2025-08-12T20:39:25.949Z</td></tr><tr><td>P0211</td><td>211</td><td>2025-08-12T20:39:25.949Z</td><td>2025-08-12T20:39:25.949Z</td></tr><tr><td>P0212</td><td>212</td><td>2025-08-12T20:39:25.949Z</td><td>2025-08-12T20:39:25.949Z</td></tr><tr><td>P0213</td><td>213</td><td>2025-08-12T20:39:25.949Z</td><td>2025-08-12T20:39:25.949Z</td></tr><tr><td>P0214</td><td>214</td><td>2025-08-12T20:39:25.949Z</td><td>2025-08-12T20:39:25.949Z</td></tr><tr><td>P0215</td><td>215</td><td>2025-08-12T20:39:25.949Z</td><td>2025-08-12T20:39:25.949Z</td></tr><tr><td>P0216</td><td>216</td><td>2025-08-12T20:39:25.949Z</td><td>2025-08-12T20:39:25.949Z</td></tr><tr><td>P0217</td><td>217</td><td>2025-08-12T20:39:25.949Z</td><td>2025-08-12T20:39:25.949Z</td></tr><tr><td>P0218</td><td>218</td><td>2025-08-12T20:39:25.949Z</td><td>2025-08-12T20:39:25.949Z</td></tr><tr><td>P0219</td><td>219</td><td>2025-08-12T20:39:25.949Z</td><td>2025-08-12T20:39:25.949Z</td></tr><tr><td>P0220</td><td>220</td><td>2025-08-12T20:39:25.949Z</td><td>2025-08-12T20:39:25.949Z</td></tr></tbody></table></div>"
      ]
     },
     "metadata": {
      "application/vnd.databricks.v1+output": {
       "addedWidgets": {},
       "aggData": [],
       "aggError": "",
       "aggOverflow": false,
       "aggSchema": [],
       "aggSeriesLimitReached": false,
       "aggType": "",
       "arguments": {},
       "columnCustomDisplayInfos": {},
       "data": [
        [
         "P0001",
         1,
         "2025-08-12T20:39:25.949Z",
         "2025-08-12T20:39:25.949Z"
        ],
        [
         "P0002",
         2,
         "2025-08-12T20:39:25.949Z",
         "2025-08-12T20:39:25.949Z"
        ],
        [
         "P0003",
         3,
         "2025-08-12T20:39:25.949Z",
         "2025-08-12T20:39:25.949Z"
        ],
        [
         "P0004",
         4,
         "2025-08-12T20:39:25.949Z",
         "2025-08-12T20:39:25.949Z"
        ],
        [
         "P0005",
         5,
         "2025-08-12T20:39:25.949Z",
         "2025-08-12T20:39:25.949Z"
        ],
        [
         "P0006",
         6,
         "2025-08-12T20:39:25.949Z",
         "2025-08-12T20:39:25.949Z"
        ],
        [
         "P0007",
         7,
         "2025-08-12T20:39:25.949Z",
         "2025-08-12T20:39:25.949Z"
        ],
        [
         "P0008",
         8,
         "2025-08-12T20:39:25.949Z",
         "2025-08-12T20:39:25.949Z"
        ],
        [
         "P0009",
         9,
         "2025-08-12T20:39:25.949Z",
         "2025-08-12T20:39:25.949Z"
        ],
        [
         "P0010",
         10,
         "2025-08-12T20:39:25.949Z",
         "2025-08-12T20:39:25.949Z"
        ],
        [
         "P0011",
         11,
         "2025-08-12T20:39:25.949Z",
         "2025-08-12T20:39:25.949Z"
        ],
        [
         "P0012",
         12,
         "2025-08-12T20:39:25.949Z",
         "2025-08-12T20:39:25.949Z"
        ],
        [
         "P0013",
         13,
         "2025-08-12T20:39:25.949Z",
         "2025-08-12T20:39:25.949Z"
        ],
        [
         "P0014",
         14,
         "2025-08-12T20:39:25.949Z",
         "2025-08-12T20:39:25.949Z"
        ],
        [
         "P0015",
         15,
         "2025-08-12T20:39:25.949Z",
         "2025-08-12T20:39:25.949Z"
        ],
        [
         "P0016",
         16,
         "2025-08-12T20:39:25.949Z",
         "2025-08-12T20:39:25.949Z"
        ],
        [
         "P0017",
         17,
         "2025-08-12T20:39:25.949Z",
         "2025-08-12T20:39:25.949Z"
        ],
        [
         "P0018",
         18,
         "2025-08-12T20:39:25.949Z",
         "2025-08-12T20:39:25.949Z"
        ],
        [
         "P0019",
         19,
         "2025-08-12T20:39:25.949Z",
         "2025-08-12T20:39:25.949Z"
        ],
        [
         "P0020",
         20,
         "2025-08-12T20:39:25.949Z",
         "2025-08-12T20:39:25.949Z"
        ],
        [
         "P0021",
         21,
         "2025-08-12T20:39:25.949Z",
         "2025-08-12T20:39:25.949Z"
        ],
        [
         "P0022",
         22,
         "2025-08-12T20:39:25.949Z",
         "2025-08-12T20:39:25.949Z"
        ],
        [
         "P0023",
         23,
         "2025-08-12T20:39:25.949Z",
         "2025-08-12T20:39:25.949Z"
        ],
        [
         "P0024",
         24,
         "2025-08-12T20:39:25.949Z",
         "2025-08-12T20:39:25.949Z"
        ],
        [
         "P0025",
         25,
         "2025-08-12T20:39:25.949Z",
         "2025-08-12T20:39:25.949Z"
        ],
        [
         "P0026",
         26,
         "2025-08-12T20:39:25.949Z",
         "2025-08-12T20:39:25.949Z"
        ],
        [
         "P0027",
         27,
         "2025-08-12T20:39:25.949Z",
         "2025-08-12T20:39:25.949Z"
        ],
        [
         "P0028",
         28,
         "2025-08-12T20:39:25.949Z",
         "2025-08-12T20:39:25.949Z"
        ],
        [
         "P0029",
         29,
         "2025-08-12T20:39:25.949Z",
         "2025-08-12T20:39:25.949Z"
        ],
        [
         "P0030",
         30,
         "2025-08-12T20:39:25.949Z",
         "2025-08-12T20:39:25.949Z"
        ],
        [
         "P0031",
         31,
         "2025-08-12T20:39:25.949Z",
         "2025-08-12T20:39:25.949Z"
        ],
        [
         "P0032",
         32,
         "2025-08-12T20:39:25.949Z",
         "2025-08-12T20:39:25.949Z"
        ],
        [
         "P0033",
         33,
         "2025-08-12T20:39:25.949Z",
         "2025-08-12T20:39:25.949Z"
        ],
        [
         "P0034",
         34,
         "2025-08-12T20:39:25.949Z",
         "2025-08-12T20:39:25.949Z"
        ],
        [
         "P0035",
         35,
         "2025-08-12T20:39:25.949Z",
         "2025-08-12T20:39:25.949Z"
        ],
        [
         "P0036",
         36,
         "2025-08-12T20:39:25.949Z",
         "2025-08-12T20:39:25.949Z"
        ],
        [
         "P0037",
         37,
         "2025-08-12T20:39:25.949Z",
         "2025-08-12T20:39:25.949Z"
        ],
        [
         "P0038",
         38,
         "2025-08-12T20:39:25.949Z",
         "2025-08-12T20:39:25.949Z"
        ],
        [
         "P0039",
         39,
         "2025-08-12T20:39:25.949Z",
         "2025-08-12T20:39:25.949Z"
        ],
        [
         "P0040",
         40,
         "2025-08-12T20:39:25.949Z",
         "2025-08-12T20:39:25.949Z"
        ],
        [
         "P0041",
         41,
         "2025-08-12T20:39:25.949Z",
         "2025-08-12T20:39:25.949Z"
        ],
        [
         "P0042",
         42,
         "2025-08-12T20:39:25.949Z",
         "2025-08-12T20:39:25.949Z"
        ],
        [
         "P0043",
         43,
         "2025-08-12T20:39:25.949Z",
         "2025-08-12T20:39:25.949Z"
        ],
        [
         "P0044",
         44,
         "2025-08-12T20:39:25.949Z",
         "2025-08-12T20:39:25.949Z"
        ],
        [
         "P0045",
         45,
         "2025-08-12T20:39:25.949Z",
         "2025-08-12T20:39:25.949Z"
        ],
        [
         "P0046",
         46,
         "2025-08-12T20:39:25.949Z",
         "2025-08-12T20:39:25.949Z"
        ],
        [
         "P0047",
         47,
         "2025-08-12T20:39:25.949Z",
         "2025-08-12T20:39:25.949Z"
        ],
        [
         "P0048",
         48,
         "2025-08-12T20:39:25.949Z",
         "2025-08-12T20:39:25.949Z"
        ],
        [
         "P0049",
         49,
         "2025-08-12T20:39:25.949Z",
         "2025-08-12T20:39:25.949Z"
        ],
        [
         "P0050",
         50,
         "2025-08-12T20:39:25.949Z",
         "2025-08-12T20:39:25.949Z"
        ],
        [
         "P0051",
         51,
         "2025-08-12T20:39:25.949Z",
         "2025-08-12T20:39:25.949Z"
        ],
        [
         "P0052",
         52,
         "2025-08-12T20:39:25.949Z",
         "2025-08-12T20:39:25.949Z"
        ],
        [
         "P0053",
         53,
         "2025-08-12T20:39:25.949Z",
         "2025-08-12T20:39:25.949Z"
        ],
        [
         "P0054",
         54,
         "2025-08-12T20:39:25.949Z",
         "2025-08-12T20:39:25.949Z"
        ],
        [
         "P0055",
         55,
         "2025-08-12T20:39:25.949Z",
         "2025-08-12T20:39:25.949Z"
        ],
        [
         "P0056",
         56,
         "2025-08-12T20:39:25.949Z",
         "2025-08-12T20:39:25.949Z"
        ],
        [
         "P0057",
         57,
         "2025-08-12T20:39:25.949Z",
         "2025-08-12T20:39:25.949Z"
        ],
        [
         "P0058",
         58,
         "2025-08-12T20:39:25.949Z",
         "2025-08-12T20:39:25.949Z"
        ],
        [
         "P0059",
         59,
         "2025-08-12T20:39:25.949Z",
         "2025-08-12T20:39:25.949Z"
        ],
        [
         "P0060",
         60,
         "2025-08-12T20:39:25.949Z",
         "2025-08-12T20:39:25.949Z"
        ],
        [
         "P0061",
         61,
         "2025-08-12T20:39:25.949Z",
         "2025-08-12T20:39:25.949Z"
        ],
        [
         "P0062",
         62,
         "2025-08-12T20:39:25.949Z",
         "2025-08-12T20:39:25.949Z"
        ],
        [
         "P0063",
         63,
         "2025-08-12T20:39:25.949Z",
         "2025-08-12T20:39:25.949Z"
        ],
        [
         "P0064",
         64,
         "2025-08-12T20:39:25.949Z",
         "2025-08-12T20:39:25.949Z"
        ],
        [
         "P0065",
         65,
         "2025-08-12T20:39:25.949Z",
         "2025-08-12T20:39:25.949Z"
        ],
        [
         "P0066",
         66,
         "2025-08-12T20:39:25.949Z",
         "2025-08-12T20:39:25.949Z"
        ],
        [
         "P0067",
         67,
         "2025-08-12T20:39:25.949Z",
         "2025-08-12T20:39:25.949Z"
        ],
        [
         "P0068",
         68,
         "2025-08-12T20:39:25.949Z",
         "2025-08-12T20:39:25.949Z"
        ],
        [
         "P0069",
         69,
         "2025-08-12T20:39:25.949Z",
         "2025-08-12T20:39:25.949Z"
        ],
        [
         "P0070",
         70,
         "2025-08-12T20:39:25.949Z",
         "2025-08-12T20:39:25.949Z"
        ],
        [
         "P0071",
         71,
         "2025-08-12T20:39:25.949Z",
         "2025-08-12T20:39:25.949Z"
        ],
        [
         "P0072",
         72,
         "2025-08-12T20:39:25.949Z",
         "2025-08-12T20:39:25.949Z"
        ],
        [
         "P0073",
         73,
         "2025-08-12T20:39:25.949Z",
         "2025-08-12T20:39:25.949Z"
        ],
        [
         "P0074",
         74,
         "2025-08-12T20:39:25.949Z",
         "2025-08-12T20:39:25.949Z"
        ],
        [
         "P0075",
         75,
         "2025-08-12T20:39:25.949Z",
         "2025-08-12T20:39:25.949Z"
        ],
        [
         "P0076",
         76,
         "2025-08-12T20:39:25.949Z",
         "2025-08-12T20:39:25.949Z"
        ],
        [
         "P0077",
         77,
         "2025-08-12T20:39:25.949Z",
         "2025-08-12T20:39:25.949Z"
        ],
        [
         "P0078",
         78,
         "2025-08-12T20:39:25.949Z",
         "2025-08-12T20:39:25.949Z"
        ],
        [
         "P0079",
         79,
         "2025-08-12T20:39:25.949Z",
         "2025-08-12T20:39:25.949Z"
        ],
        [
         "P0080",
         80,
         "2025-08-12T20:39:25.949Z",
         "2025-08-12T20:39:25.949Z"
        ],
        [
         "P0081",
         81,
         "2025-08-12T20:39:25.949Z",
         "2025-08-12T20:39:25.949Z"
        ],
        [
         "P0082",
         82,
         "2025-08-12T20:39:25.949Z",
         "2025-08-12T20:39:25.949Z"
        ],
        [
         "P0083",
         83,
         "2025-08-12T20:39:25.949Z",
         "2025-08-12T20:39:25.949Z"
        ],
        [
         "P0084",
         84,
         "2025-08-12T20:39:25.949Z",
         "2025-08-12T20:39:25.949Z"
        ],
        [
         "P0085",
         85,
         "2025-08-12T20:39:25.949Z",
         "2025-08-12T20:39:25.949Z"
        ],
        [
         "P0086",
         86,
         "2025-08-12T20:39:25.949Z",
         "2025-08-12T20:39:25.949Z"
        ],
        [
         "P0087",
         87,
         "2025-08-12T20:39:25.949Z",
         "2025-08-12T20:39:25.949Z"
        ],
        [
         "P0088",
         88,
         "2025-08-12T20:39:25.949Z",
         "2025-08-12T20:39:25.949Z"
        ],
        [
         "P0089",
         89,
         "2025-08-12T20:39:25.949Z",
         "2025-08-12T20:39:25.949Z"
        ],
        [
         "P0090",
         90,
         "2025-08-12T20:39:25.949Z",
         "2025-08-12T20:39:25.949Z"
        ],
        [
         "P0091",
         91,
         "2025-08-12T20:39:25.949Z",
         "2025-08-12T20:39:25.949Z"
        ],
        [
         "P0092",
         92,
         "2025-08-12T20:39:25.949Z",
         "2025-08-12T20:39:25.949Z"
        ],
        [
         "P0093",
         93,
         "2025-08-12T20:39:25.949Z",
         "2025-08-12T20:39:25.949Z"
        ],
        [
         "P0094",
         94,
         "2025-08-12T20:39:25.949Z",
         "2025-08-12T20:39:25.949Z"
        ],
        [
         "P0095",
         95,
         "2025-08-12T20:39:25.949Z",
         "2025-08-12T20:39:25.949Z"
        ],
        [
         "P0096",
         96,
         "2025-08-12T20:39:25.949Z",
         "2025-08-12T20:39:25.949Z"
        ],
        [
         "P0097",
         97,
         "2025-08-12T20:39:25.949Z",
         "2025-08-12T20:39:25.949Z"
        ],
        [
         "P0098",
         98,
         "2025-08-12T20:39:25.949Z",
         "2025-08-12T20:39:25.949Z"
        ],
        [
         "P0099",
         99,
         "2025-08-12T20:39:25.949Z",
         "2025-08-12T20:39:25.949Z"
        ],
        [
         "P0100",
         100,
         "2025-08-12T20:39:25.949Z",
         "2025-08-12T20:39:25.949Z"
        ],
        [
         "P0101",
         101,
         "2025-08-12T20:39:25.949Z",
         "2025-08-12T20:39:25.949Z"
        ],
        [
         "P0102",
         102,
         "2025-08-12T20:39:25.949Z",
         "2025-08-12T20:39:25.949Z"
        ],
        [
         "P0103",
         103,
         "2025-08-12T20:39:25.949Z",
         "2025-08-12T20:39:25.949Z"
        ],
        [
         "P0104",
         104,
         "2025-08-12T20:39:25.949Z",
         "2025-08-12T20:39:25.949Z"
        ],
        [
         "P0105",
         105,
         "2025-08-12T20:39:25.949Z",
         "2025-08-12T20:39:25.949Z"
        ],
        [
         "P0106",
         106,
         "2025-08-12T20:39:25.949Z",
         "2025-08-12T20:39:25.949Z"
        ],
        [
         "P0107",
         107,
         "2025-08-12T20:39:25.949Z",
         "2025-08-12T20:39:25.949Z"
        ],
        [
         "P0108",
         108,
         "2025-08-12T20:39:25.949Z",
         "2025-08-12T20:39:25.949Z"
        ],
        [
         "P0109",
         109,
         "2025-08-12T20:39:25.949Z",
         "2025-08-12T20:39:25.949Z"
        ],
        [
         "P0110",
         110,
         "2025-08-12T20:39:25.949Z",
         "2025-08-12T20:39:25.949Z"
        ],
        [
         "P0111",
         111,
         "2025-08-12T20:39:25.949Z",
         "2025-08-12T20:39:25.949Z"
        ],
        [
         "P0112",
         112,
         "2025-08-12T20:39:25.949Z",
         "2025-08-12T20:39:25.949Z"
        ],
        [
         "P0113",
         113,
         "2025-08-12T20:39:25.949Z",
         "2025-08-12T20:39:25.949Z"
        ],
        [
         "P0114",
         114,
         "2025-08-12T20:39:25.949Z",
         "2025-08-12T20:39:25.949Z"
        ],
        [
         "P0115",
         115,
         "2025-08-12T20:39:25.949Z",
         "2025-08-12T20:39:25.949Z"
        ],
        [
         "P0116",
         116,
         "2025-08-12T20:39:25.949Z",
         "2025-08-12T20:39:25.949Z"
        ],
        [
         "P0117",
         117,
         "2025-08-12T20:39:25.949Z",
         "2025-08-12T20:39:25.949Z"
        ],
        [
         "P0118",
         118,
         "2025-08-12T20:39:25.949Z",
         "2025-08-12T20:39:25.949Z"
        ],
        [
         "P0119",
         119,
         "2025-08-12T20:39:25.949Z",
         "2025-08-12T20:39:25.949Z"
        ],
        [
         "P0120",
         120,
         "2025-08-12T20:39:25.949Z",
         "2025-08-12T20:39:25.949Z"
        ],
        [
         "P0121",
         121,
         "2025-08-12T20:39:25.949Z",
         "2025-08-12T20:39:25.949Z"
        ],
        [
         "P0122",
         122,
         "2025-08-12T20:39:25.949Z",
         "2025-08-12T20:39:25.949Z"
        ],
        [
         "P0123",
         123,
         "2025-08-12T20:39:25.949Z",
         "2025-08-12T20:39:25.949Z"
        ],
        [
         "P0124",
         124,
         "2025-08-12T20:39:25.949Z",
         "2025-08-12T20:39:25.949Z"
        ],
        [
         "P0125",
         125,
         "2025-08-12T20:39:25.949Z",
         "2025-08-12T20:39:25.949Z"
        ],
        [
         "P0126",
         126,
         "2025-08-12T20:39:25.949Z",
         "2025-08-12T20:39:25.949Z"
        ],
        [
         "P0127",
         127,
         "2025-08-12T20:39:25.949Z",
         "2025-08-12T20:39:25.949Z"
        ],
        [
         "P0128",
         128,
         "2025-08-12T20:39:25.949Z",
         "2025-08-12T20:39:25.949Z"
        ],
        [
         "P0129",
         129,
         "2025-08-12T20:39:25.949Z",
         "2025-08-12T20:39:25.949Z"
        ],
        [
         "P0130",
         130,
         "2025-08-12T20:39:25.949Z",
         "2025-08-12T20:39:25.949Z"
        ],
        [
         "P0131",
         131,
         "2025-08-12T20:39:25.949Z",
         "2025-08-12T20:39:25.949Z"
        ],
        [
         "P0132",
         132,
         "2025-08-12T20:39:25.949Z",
         "2025-08-12T20:39:25.949Z"
        ],
        [
         "P0133",
         133,
         "2025-08-12T20:39:25.949Z",
         "2025-08-12T20:39:25.949Z"
        ],
        [
         "P0134",
         134,
         "2025-08-12T20:39:25.949Z",
         "2025-08-12T20:39:25.949Z"
        ],
        [
         "P0135",
         135,
         "2025-08-12T20:39:25.949Z",
         "2025-08-12T20:39:25.949Z"
        ],
        [
         "P0136",
         136,
         "2025-08-12T20:39:25.949Z",
         "2025-08-12T20:39:25.949Z"
        ],
        [
         "P0137",
         137,
         "2025-08-12T20:39:25.949Z",
         "2025-08-12T20:39:25.949Z"
        ],
        [
         "P0138",
         138,
         "2025-08-12T20:39:25.949Z",
         "2025-08-12T20:39:25.949Z"
        ],
        [
         "P0139",
         139,
         "2025-08-12T20:39:25.949Z",
         "2025-08-12T20:39:25.949Z"
        ],
        [
         "P0140",
         140,
         "2025-08-12T20:39:25.949Z",
         "2025-08-12T20:39:25.949Z"
        ],
        [
         "P0141",
         141,
         "2025-08-12T20:39:25.949Z",
         "2025-08-12T20:39:25.949Z"
        ],
        [
         "P0142",
         142,
         "2025-08-12T20:39:25.949Z",
         "2025-08-12T20:39:25.949Z"
        ],
        [
         "P0143",
         143,
         "2025-08-12T20:39:25.949Z",
         "2025-08-12T20:39:25.949Z"
        ],
        [
         "P0144",
         144,
         "2025-08-12T20:39:25.949Z",
         "2025-08-12T20:39:25.949Z"
        ],
        [
         "P0145",
         145,
         "2025-08-12T20:39:25.949Z",
         "2025-08-12T20:39:25.949Z"
        ],
        [
         "P0146",
         146,
         "2025-08-12T20:39:25.949Z",
         "2025-08-12T20:39:25.949Z"
        ],
        [
         "P0147",
         147,
         "2025-08-12T20:39:25.949Z",
         "2025-08-12T20:39:25.949Z"
        ],
        [
         "P0148",
         148,
         "2025-08-12T20:39:25.949Z",
         "2025-08-12T20:39:25.949Z"
        ],
        [
         "P0149",
         149,
         "2025-08-12T20:39:25.949Z",
         "2025-08-12T20:39:25.949Z"
        ],
        [
         "P0150",
         150,
         "2025-08-12T20:39:25.949Z",
         "2025-08-12T20:39:25.949Z"
        ],
        [
         "P0151",
         151,
         "2025-08-12T20:39:25.949Z",
         "2025-08-12T20:39:25.949Z"
        ],
        [
         "P0152",
         152,
         "2025-08-12T20:39:25.949Z",
         "2025-08-12T20:39:25.949Z"
        ],
        [
         "P0153",
         153,
         "2025-08-12T20:39:25.949Z",
         "2025-08-12T20:39:25.949Z"
        ],
        [
         "P0154",
         154,
         "2025-08-12T20:39:25.949Z",
         "2025-08-12T20:39:25.949Z"
        ],
        [
         "P0155",
         155,
         "2025-08-12T20:39:25.949Z",
         "2025-08-12T20:39:25.949Z"
        ],
        [
         "P0156",
         156,
         "2025-08-12T20:39:25.949Z",
         "2025-08-12T20:39:25.949Z"
        ],
        [
         "P0157",
         157,
         "2025-08-12T20:39:25.949Z",
         "2025-08-12T20:39:25.949Z"
        ],
        [
         "P0158",
         158,
         "2025-08-12T20:39:25.949Z",
         "2025-08-12T20:39:25.949Z"
        ],
        [
         "P0159",
         159,
         "2025-08-12T20:39:25.949Z",
         "2025-08-12T20:39:25.949Z"
        ],
        [
         "P0160",
         160,
         "2025-08-12T20:39:25.949Z",
         "2025-08-12T20:39:25.949Z"
        ],
        [
         "P0161",
         161,
         "2025-08-12T20:39:25.949Z",
         "2025-08-12T20:39:25.949Z"
        ],
        [
         "P0162",
         162,
         "2025-08-12T20:39:25.949Z",
         "2025-08-12T20:39:25.949Z"
        ],
        [
         "P0163",
         163,
         "2025-08-12T20:39:25.949Z",
         "2025-08-12T20:39:25.949Z"
        ],
        [
         "P0164",
         164,
         "2025-08-12T20:39:25.949Z",
         "2025-08-12T20:39:25.949Z"
        ],
        [
         "P0165",
         165,
         "2025-08-12T20:39:25.949Z",
         "2025-08-12T20:39:25.949Z"
        ],
        [
         "P0166",
         166,
         "2025-08-12T20:39:25.949Z",
         "2025-08-12T20:39:25.949Z"
        ],
        [
         "P0167",
         167,
         "2025-08-12T20:39:25.949Z",
         "2025-08-12T20:39:25.949Z"
        ],
        [
         "P0168",
         168,
         "2025-08-12T20:39:25.949Z",
         "2025-08-12T20:39:25.949Z"
        ],
        [
         "P0169",
         169,
         "2025-08-12T20:39:25.949Z",
         "2025-08-12T20:39:25.949Z"
        ],
        [
         "P0170",
         170,
         "2025-08-12T20:39:25.949Z",
         "2025-08-12T20:39:25.949Z"
        ],
        [
         "P0171",
         171,
         "2025-08-12T20:39:25.949Z",
         "2025-08-12T20:39:25.949Z"
        ],
        [
         "P0172",
         172,
         "2025-08-12T20:39:25.949Z",
         "2025-08-12T20:39:25.949Z"
        ],
        [
         "P0173",
         173,
         "2025-08-12T20:39:25.949Z",
         "2025-08-12T20:39:25.949Z"
        ],
        [
         "P0174",
         174,
         "2025-08-12T20:39:25.949Z",
         "2025-08-12T20:39:25.949Z"
        ],
        [
         "P0175",
         175,
         "2025-08-12T20:39:25.949Z",
         "2025-08-12T20:39:25.949Z"
        ],
        [
         "P0176",
         176,
         "2025-08-12T20:39:25.949Z",
         "2025-08-12T20:39:25.949Z"
        ],
        [
         "P0177",
         177,
         "2025-08-12T20:39:25.949Z",
         "2025-08-12T20:39:25.949Z"
        ],
        [
         "P0178",
         178,
         "2025-08-12T20:39:25.949Z",
         "2025-08-12T20:39:25.949Z"
        ],
        [
         "P0179",
         179,
         "2025-08-12T20:39:25.949Z",
         "2025-08-12T20:39:25.949Z"
        ],
        [
         "P0180",
         180,
         "2025-08-12T20:39:25.949Z",
         "2025-08-12T20:39:25.949Z"
        ],
        [
         "P0181",
         181,
         "2025-08-12T20:39:25.949Z",
         "2025-08-12T20:39:25.949Z"
        ],
        [
         "P0182",
         182,
         "2025-08-12T20:39:25.949Z",
         "2025-08-12T20:39:25.949Z"
        ],
        [
         "P0183",
         183,
         "2025-08-12T20:39:25.949Z",
         "2025-08-12T20:39:25.949Z"
        ],
        [
         "P0184",
         184,
         "2025-08-12T20:39:25.949Z",
         "2025-08-12T20:39:25.949Z"
        ],
        [
         "P0185",
         185,
         "2025-08-12T20:39:25.949Z",
         "2025-08-12T20:39:25.949Z"
        ],
        [
         "P0186",
         186,
         "2025-08-12T20:39:25.949Z",
         "2025-08-12T20:39:25.949Z"
        ],
        [
         "P0187",
         187,
         "2025-08-12T20:39:25.949Z",
         "2025-08-12T20:39:25.949Z"
        ],
        [
         "P0188",
         188,
         "2025-08-12T20:39:25.949Z",
         "2025-08-12T20:39:25.949Z"
        ],
        [
         "P0189",
         189,
         "2025-08-12T20:39:25.949Z",
         "2025-08-12T20:39:25.949Z"
        ],
        [
         "P0190",
         190,
         "2025-08-12T20:39:25.949Z",
         "2025-08-12T20:39:25.949Z"
        ],
        [
         "P0191",
         191,
         "2025-08-12T20:39:25.949Z",
         "2025-08-12T20:39:25.949Z"
        ],
        [
         "P0192",
         192,
         "2025-08-12T20:39:25.949Z",
         "2025-08-12T20:39:25.949Z"
        ],
        [
         "P0193",
         193,
         "2025-08-12T20:39:25.949Z",
         "2025-08-12T20:39:25.949Z"
        ],
        [
         "P0194",
         194,
         "2025-08-12T20:39:25.949Z",
         "2025-08-12T20:39:25.949Z"
        ],
        [
         "P0195",
         195,
         "2025-08-12T20:39:25.949Z",
         "2025-08-12T20:39:25.949Z"
        ],
        [
         "P0196",
         196,
         "2025-08-12T20:39:25.949Z",
         "2025-08-12T20:39:25.949Z"
        ],
        [
         "P0197",
         197,
         "2025-08-12T20:39:25.949Z",
         "2025-08-12T20:39:25.949Z"
        ],
        [
         "P0198",
         198,
         "2025-08-12T20:39:25.949Z",
         "2025-08-12T20:39:25.949Z"
        ],
        [
         "P0199",
         199,
         "2025-08-12T20:39:25.949Z",
         "2025-08-12T20:39:25.949Z"
        ],
        [
         "P0200",
         200,
         "2025-08-12T20:39:25.949Z",
         "2025-08-12T20:39:25.949Z"
        ],
        [
         "P0201",
         201,
         "2025-08-12T20:39:25.949Z",
         "2025-08-12T20:39:25.949Z"
        ],
        [
         "P0202",
         202,
         "2025-08-12T20:39:25.949Z",
         "2025-08-12T20:39:25.949Z"
        ],
        [
         "P0203",
         203,
         "2025-08-12T20:39:25.949Z",
         "2025-08-12T20:39:25.949Z"
        ],
        [
         "P0204",
         204,
         "2025-08-12T20:39:25.949Z",
         "2025-08-12T20:39:25.949Z"
        ],
        [
         "P0205",
         205,
         "2025-08-12T20:39:25.949Z",
         "2025-08-12T20:39:25.949Z"
        ],
        [
         "P0206",
         206,
         "2025-08-12T20:39:25.949Z",
         "2025-08-12T20:39:25.949Z"
        ],
        [
         "P0207",
         207,
         "2025-08-12T20:39:25.949Z",
         "2025-08-12T20:39:25.949Z"
        ],
        [
         "P0208",
         208,
         "2025-08-12T20:39:25.949Z",
         "2025-08-12T20:39:25.949Z"
        ],
        [
         "P0209",
         209,
         "2025-08-12T20:39:25.949Z",
         "2025-08-12T20:39:25.949Z"
        ],
        [
         "P0210",
         210,
         "2025-08-12T20:39:25.949Z",
         "2025-08-12T20:39:25.949Z"
        ],
        [
         "P0211",
         211,
         "2025-08-12T20:39:25.949Z",
         "2025-08-12T20:39:25.949Z"
        ],
        [
         "P0212",
         212,
         "2025-08-12T20:39:25.949Z",
         "2025-08-12T20:39:25.949Z"
        ],
        [
         "P0213",
         213,
         "2025-08-12T20:39:25.949Z",
         "2025-08-12T20:39:25.949Z"
        ],
        [
         "P0214",
         214,
         "2025-08-12T20:39:25.949Z",
         "2025-08-12T20:39:25.949Z"
        ],
        [
         "P0215",
         215,
         "2025-08-12T20:39:25.949Z",
         "2025-08-12T20:39:25.949Z"
        ],
        [
         "P0216",
         216,
         "2025-08-12T20:39:25.949Z",
         "2025-08-12T20:39:25.949Z"
        ],
        [
         "P0217",
         217,
         "2025-08-12T20:39:25.949Z",
         "2025-08-12T20:39:25.949Z"
        ],
        [
         "P0218",
         218,
         "2025-08-12T20:39:25.949Z",
         "2025-08-12T20:39:25.949Z"
        ],
        [
         "P0219",
         219,
         "2025-08-12T20:39:25.949Z",
         "2025-08-12T20:39:25.949Z"
        ],
        [
         "P0220",
         220,
         "2025-08-12T20:39:25.949Z",
         "2025-08-12T20:39:25.949Z"
        ]
       ],
       "datasetInfos": [],
       "dbfsResultPath": null,
       "isJsonSchema": true,
       "metadata": {},
       "overflow": false,
       "plotOptions": {
        "customPlotOptions": {},
        "displayType": "table",
        "pivotAggregation": null,
        "pivotColumns": null,
        "xColumns": null,
        "yColumns": null
       },
       "removedWidgets": [],
       "schema": [
        {
         "metadata": "{}",
         "name": "passenger_id",
         "type": "\"string\""
        },
        {
         "metadata": "{}",
         "name": "DimPassengersKey",
         "type": "\"long\""
        },
        {
         "metadata": "{}",
         "name": "create_date",
         "type": "\"timestamp\""
        },
        {
         "metadata": "{}",
         "name": "update_date",
         "type": "\"timestamp\""
        }
       ],
       "type": "table"
      }
     },
     "output_type": "display_data"
    }
   ],
   "source": [
    "df_trg.display()"
   ]
  },
  {
   "cell_type": "markdown",
   "metadata": {
    "application/vnd.databricks.v1+cell": {
     "cellMetadata": {
      "byteLimit": 2048000,
      "rowLimit": 10000
     },
     "inputWidgets": {},
     "nuid": "ef003dfd-8b0c-4916-a909-23e9a69c524f",
     "showTitle": false,
     "tableResultSettingsMap": {},
     "title": ""
    }
   },
   "source": [
    "**JOIN CONDITION**"
   ]
  },
  {
   "cell_type": "code",
   "execution_count": 0,
   "metadata": {
    "application/vnd.databricks.v1+cell": {
     "cellMetadata": {
      "byteLimit": 2048000,
      "rowLimit": 10000
     },
     "inputWidgets": {},
     "nuid": "0a09cbb6-3565-4008-96cf-b25b54e1b0ab",
     "showTitle": false,
     "tableResultSettingsMap": {},
     "title": ""
    }
   },
   "outputs": [],
   "source": [
    "join_condition = ' AND '.join([f\"src.{i} = trg.{i}\" for i in key_cols_list])"
   ]
  },
  {
   "cell_type": "code",
   "execution_count": 0,
   "metadata": {
    "application/vnd.databricks.v1+cell": {
     "cellMetadata": {
      "byteLimit": 2048000,
      "rowLimit": 10000
     },
     "inputWidgets": {},
     "nuid": "fd5f7877-ddda-49f1-87f5-e619538067d4",
     "showTitle": false,
     "tableResultSettingsMap": {},
     "title": ""
    }
   },
   "outputs": [],
   "source": [
    "df_src.createOrReplaceTempView(\"src\")\n",
    "df_trg.createOrReplaceTempView(\"trg\")\n",
    "\n",
    "df_join = spark.sql(f\"\"\"\n",
    "          SELECT src.*,\n",
    "          trg.{surrogate_key},\n",
    "          trg.create_date,\n",
    "          trg.update_date\n",
    "        FROM src\n",
    "        LEFT JOIN trg\n",
    "        ON {join_condition}\n",
    "        \"\"\")"
   ]
  },
  {
   "cell_type": "code",
   "execution_count": 0,
   "metadata": {
    "application/vnd.databricks.v1+cell": {
     "cellMetadata": {
      "byteLimit": 2048000,
      "rowLimit": 10000
     },
     "inputWidgets": {},
     "nuid": "383cb908-6648-4062-8eb8-91201947f7b9",
     "showTitle": false,
     "tableResultSettingsMap": {
      "0": {
       "dataGridStateBlob": "{\"version\":1,\"tableState\":{\"columnPinning\":{\"left\":[\"#row_number#\"],\"right\":[]},\"columnSizing\":{},\"columnVisibility\":{}},\"settings\":{\"columns\":{}},\"syncTimestamp\":1755031160598}",
       "filterBlob": null,
       "queryPlanFiltersBlob": null,
       "tableResultIndex": 0
      }
     },
     "title": ""
    }
   },
   "outputs": [
    {
     "output_type": "display_data",
     "data": {
      "text/html": [
       "<style scoped>\n",
       "  .table-result-container {\n",
       "    max-height: 300px;\n",
       "    overflow: auto;\n",
       "  }\n",
       "  table, th, td {\n",
       "    border: 1px solid black;\n",
       "    border-collapse: collapse;\n",
       "  }\n",
       "  th, td {\n",
       "    padding: 5px;\n",
       "  }\n",
       "  th {\n",
       "    text-align: left;\n",
       "  }\n",
       "</style><div class='table-result-container'><table class='table-result'><thead style='background-color: white'><tr><th>passenger_id</th><th>name</th><th>gender</th><th>nationality</th><th>modified_date</th><th>DimPassengersKey</th><th>create_date</th><th>update_date</th></tr></thead><tbody><tr><td>P0155</td><td>Robert Singleton</td><td>Female</td><td>Northern Mariana Islands</td><td>2025-08-12T21:01:32.095Z</td><td>155</td><td>2025-08-12T20:39:25.949Z</td><td>2025-08-12T20:39:25.949Z</td></tr><tr><td>P0106</td><td>Joshua Shepherd Jr.</td><td>Female</td><td>Netherlands</td><td>2025-08-12T21:01:32.095Z</td><td>106</td><td>2025-08-12T20:39:25.949Z</td><td>2025-08-12T20:39:25.949Z</td></tr><tr><td>P0032</td><td>Daniel Douglas</td><td>Male</td><td>Singapore</td><td>2025-08-12T21:01:32.095Z</td><td>32</td><td>2025-08-12T20:39:25.949Z</td><td>2025-08-12T20:39:25.949Z</td></tr><tr><td>P0154</td><td>Angel Thompson</td><td>Female</td><td>Gambia</td><td>2025-08-12T21:01:32.095Z</td><td>154</td><td>2025-08-12T20:39:25.949Z</td><td>2025-08-12T20:39:25.949Z</td></tr><tr><td>P0196</td><td>Monica Dillon</td><td>Female</td><td>Belarus</td><td>2025-08-12T21:01:32.095Z</td><td>196</td><td>2025-08-12T20:39:25.949Z</td><td>2025-08-12T20:39:25.949Z</td></tr><tr><td>P0049</td><td>Justin Thomas</td><td>Female</td><td>Tokelau</td><td>2025-08-12T21:01:32.095Z</td><td>49</td><td>2025-08-12T20:39:25.949Z</td><td>2025-08-12T20:39:25.949Z</td></tr><tr><td>P0108</td><td>Brian Anderson</td><td>Female</td><td>Eritrea</td><td>2025-08-12T21:01:32.095Z</td><td>108</td><td>2025-08-12T20:39:25.949Z</td><td>2025-08-12T20:39:25.949Z</td></tr><tr><td>P0113</td><td>Brian Richardson</td><td>Male</td><td>Dominican Republic</td><td>2025-08-12T21:01:32.095Z</td><td>113</td><td>2025-08-12T20:39:25.949Z</td><td>2025-08-12T20:39:25.949Z</td></tr><tr><td>P0158</td><td>Jamie Mcneil</td><td>Male</td><td>Burundi</td><td>2025-08-12T21:01:32.095Z</td><td>158</td><td>2025-08-12T20:39:25.949Z</td><td>2025-08-12T20:39:25.949Z</td></tr><tr><td>P0149</td><td>Katherine Bowen DVM</td><td>Male</td><td>Mexico</td><td>2025-08-12T21:01:32.095Z</td><td>149</td><td>2025-08-12T20:39:25.949Z</td><td>2025-08-12T20:39:25.949Z</td></tr><tr><td>P0225</td><td>William Lopez</td><td>Male</td><td>Heard Island and McDonald Islands</td><td>2025-08-12T21:01:32.095Z</td><td>null</td><td>null</td><td>null</td></tr><tr><td>P0224</td><td>Jason Jensen</td><td>Female</td><td>Rwanda</td><td>2025-08-12T21:01:32.095Z</td><td>null</td><td>null</td><td>null</td></tr><tr><td>P0223</td><td>Nicholas Gomez</td><td>Female</td><td>Cook Islands</td><td>2025-08-12T21:01:32.095Z</td><td>null</td><td>null</td><td>null</td></tr><tr><td>P0222</td><td>Maria Taylor</td><td>Male</td><td>Lao People's Democratic Republic</td><td>2025-08-12T21:01:32.095Z</td><td>null</td><td>null</td><td>null</td></tr><tr><td>P0221</td><td>Amy Welch</td><td>Male</td><td>Croatia</td><td>2025-08-12T21:01:32.095Z</td><td>null</td><td>null</td><td>null</td></tr></tbody></table></div>"
      ]
     },
     "metadata": {
      "application/vnd.databricks.v1+output": {
       "addedWidgets": {},
       "aggData": [],
       "aggError": "",
       "aggOverflow": false,
       "aggSchema": [],
       "aggSeriesLimitReached": false,
       "aggType": "",
       "arguments": {},
       "columnCustomDisplayInfos": {},
       "data": [
        [
         "P0155",
         "Robert Singleton",
         "Female",
         "Northern Mariana Islands",
         "2025-08-12T21:01:32.095Z",
         155,
         "2025-08-12T20:39:25.949Z",
         "2025-08-12T20:39:25.949Z"
        ],
        [
         "P0106",
         "Joshua Shepherd Jr.",
         "Female",
         "Netherlands",
         "2025-08-12T21:01:32.095Z",
         106,
         "2025-08-12T20:39:25.949Z",
         "2025-08-12T20:39:25.949Z"
        ],
        [
         "P0032",
         "Daniel Douglas",
         "Male",
         "Singapore",
         "2025-08-12T21:01:32.095Z",
         32,
         "2025-08-12T20:39:25.949Z",
         "2025-08-12T20:39:25.949Z"
        ],
        [
         "P0154",
         "Angel Thompson",
         "Female",
         "Gambia",
         "2025-08-12T21:01:32.095Z",
         154,
         "2025-08-12T20:39:25.949Z",
         "2025-08-12T20:39:25.949Z"
        ],
        [
         "P0196",
         "Monica Dillon",
         "Female",
         "Belarus",
         "2025-08-12T21:01:32.095Z",
         196,
         "2025-08-12T20:39:25.949Z",
         "2025-08-12T20:39:25.949Z"
        ],
        [
         "P0049",
         "Justin Thomas",
         "Female",
         "Tokelau",
         "2025-08-12T21:01:32.095Z",
         49,
         "2025-08-12T20:39:25.949Z",
         "2025-08-12T20:39:25.949Z"
        ],
        [
         "P0108",
         "Brian Anderson",
         "Female",
         "Eritrea",
         "2025-08-12T21:01:32.095Z",
         108,
         "2025-08-12T20:39:25.949Z",
         "2025-08-12T20:39:25.949Z"
        ],
        [
         "P0113",
         "Brian Richardson",
         "Male",
         "Dominican Republic",
         "2025-08-12T21:01:32.095Z",
         113,
         "2025-08-12T20:39:25.949Z",
         "2025-08-12T20:39:25.949Z"
        ],
        [
         "P0158",
         "Jamie Mcneil",
         "Male",
         "Burundi",
         "2025-08-12T21:01:32.095Z",
         158,
         "2025-08-12T20:39:25.949Z",
         "2025-08-12T20:39:25.949Z"
        ],
        [
         "P0149",
         "Katherine Bowen DVM",
         "Male",
         "Mexico",
         "2025-08-12T21:01:32.095Z",
         149,
         "2025-08-12T20:39:25.949Z",
         "2025-08-12T20:39:25.949Z"
        ],
        [
         "P0225",
         "William Lopez",
         "Male",
         "Heard Island and McDonald Islands",
         "2025-08-12T21:01:32.095Z",
         null,
         null,
         null
        ],
        [
         "P0224",
         "Jason Jensen",
         "Female",
         "Rwanda",
         "2025-08-12T21:01:32.095Z",
         null,
         null,
         null
        ],
        [
         "P0223",
         "Nicholas Gomez",
         "Female",
         "Cook Islands",
         "2025-08-12T21:01:32.095Z",
         null,
         null,
         null
        ],
        [
         "P0222",
         "Maria Taylor",
         "Male",
         "Lao People's Democratic Republic",
         "2025-08-12T21:01:32.095Z",
         null,
         null,
         null
        ],
        [
         "P0221",
         "Amy Welch",
         "Male",
         "Croatia",
         "2025-08-12T21:01:32.095Z",
         null,
         null,
         null
        ]
       ],
       "datasetInfos": [],
       "dbfsResultPath": null,
       "isJsonSchema": true,
       "metadata": {},
       "overflow": false,
       "plotOptions": {
        "customPlotOptions": {},
        "displayType": "table",
        "pivotAggregation": null,
        "pivotColumns": null,
        "xColumns": null,
        "yColumns": null
       },
       "removedWidgets": [],
       "schema": [
        {
         "metadata": "{}",
         "name": "passenger_id",
         "type": "\"string\""
        },
        {
         "metadata": "{}",
         "name": "name",
         "type": "\"string\""
        },
        {
         "metadata": "{}",
         "name": "gender",
         "type": "\"string\""
        },
        {
         "metadata": "{}",
         "name": "nationality",
         "type": "\"string\""
        },
        {
         "metadata": "{}",
         "name": "modified_date",
         "type": "\"timestamp\""
        },
        {
         "metadata": "{}",
         "name": "DimPassengersKey",
         "type": "\"long\""
        },
        {
         "metadata": "{}",
         "name": "create_date",
         "type": "\"timestamp\""
        },
        {
         "metadata": "{}",
         "name": "update_date",
         "type": "\"timestamp\""
        }
       ],
       "type": "table"
      }
     },
     "output_type": "display_data"
    }
   ],
   "source": [
    "df_join.display()"
   ]
  },
  {
   "cell_type": "code",
   "execution_count": 0,
   "metadata": {
    "application/vnd.databricks.v1+cell": {
     "cellMetadata": {
      "byteLimit": 2048000,
      "rowLimit": 10000
     },
     "inputWidgets": {},
     "nuid": "f11faa7c-8632-4a13-8bf7-c4d108e9fc1c",
     "showTitle": false,
     "tableResultSettingsMap": {},
     "title": ""
    }
   },
   "outputs": [],
   "source": [
    "# OLD RECORDS\n",
    "df_old = df_join.filter(col(f\"{surrogate_key}\").isNotNull())\n",
    "\n",
    "# NEW RECORDS\n",
    "df_new = df_join.filter(col(f\"{surrogate_key}\").isNull())"
   ]
  },
  {
   "cell_type": "code",
   "execution_count": 0,
   "metadata": {
    "application/vnd.databricks.v1+cell": {
     "cellMetadata": {
      "byteLimit": 2048000,
      "rowLimit": 10000
     },
     "inputWidgets": {},
     "nuid": "71ae1c6b-4b35-436e-89bf-207828ebe8d2",
     "showTitle": false,
     "tableResultSettingsMap": {
      "0": {
       "dataGridStateBlob": "{\"version\":1,\"tableState\":{\"columnPinning\":{\"left\":[\"#row_number#\"],\"right\":[]},\"columnSizing\":{},\"columnVisibility\":{}},\"settings\":{\"columns\":{}},\"syncTimestamp\":1755031160650}",
       "filterBlob": null,
       "queryPlanFiltersBlob": null,
       "tableResultIndex": 0
      }
     },
     "title": ""
    }
   },
   "outputs": [
    {
     "output_type": "display_data",
     "data": {
      "text/html": [
       "<style scoped>\n",
       "  .table-result-container {\n",
       "    max-height: 300px;\n",
       "    overflow: auto;\n",
       "  }\n",
       "  table, th, td {\n",
       "    border: 1px solid black;\n",
       "    border-collapse: collapse;\n",
       "  }\n",
       "  th, td {\n",
       "    padding: 5px;\n",
       "  }\n",
       "  th {\n",
       "    text-align: left;\n",
       "  }\n",
       "</style><div class='table-result-container'><table class='table-result'><thead style='background-color: white'><tr><th>passenger_id</th><th>name</th><th>gender</th><th>nationality</th><th>modified_date</th><th>DimPassengersKey</th><th>create_date</th><th>update_date</th></tr></thead><tbody><tr><td>P0032</td><td>Daniel Douglas</td><td>Male</td><td>Singapore</td><td>2025-08-12T21:01:32.095Z</td><td>32</td><td>2025-08-12T20:39:25.949Z</td><td>2025-08-12T20:39:25.949Z</td></tr><tr><td>P0049</td><td>Justin Thomas</td><td>Female</td><td>Tokelau</td><td>2025-08-12T21:01:32.095Z</td><td>49</td><td>2025-08-12T20:39:25.949Z</td><td>2025-08-12T20:39:25.949Z</td></tr><tr><td>P0106</td><td>Joshua Shepherd Jr.</td><td>Female</td><td>Netherlands</td><td>2025-08-12T21:01:32.095Z</td><td>106</td><td>2025-08-12T20:39:25.949Z</td><td>2025-08-12T20:39:25.949Z</td></tr><tr><td>P0108</td><td>Brian Anderson</td><td>Female</td><td>Eritrea</td><td>2025-08-12T21:01:32.095Z</td><td>108</td><td>2025-08-12T20:39:25.949Z</td><td>2025-08-12T20:39:25.949Z</td></tr><tr><td>P0113</td><td>Brian Richardson</td><td>Male</td><td>Dominican Republic</td><td>2025-08-12T21:01:32.095Z</td><td>113</td><td>2025-08-12T20:39:25.949Z</td><td>2025-08-12T20:39:25.949Z</td></tr><tr><td>P0149</td><td>Katherine Bowen DVM</td><td>Male</td><td>Mexico</td><td>2025-08-12T21:01:32.095Z</td><td>149</td><td>2025-08-12T20:39:25.949Z</td><td>2025-08-12T20:39:25.949Z</td></tr><tr><td>P0154</td><td>Angel Thompson</td><td>Female</td><td>Gambia</td><td>2025-08-12T21:01:32.095Z</td><td>154</td><td>2025-08-12T20:39:25.949Z</td><td>2025-08-12T20:39:25.949Z</td></tr><tr><td>P0155</td><td>Robert Singleton</td><td>Female</td><td>Northern Mariana Islands</td><td>2025-08-12T21:01:32.095Z</td><td>155</td><td>2025-08-12T20:39:25.949Z</td><td>2025-08-12T20:39:25.949Z</td></tr><tr><td>P0158</td><td>Jamie Mcneil</td><td>Male</td><td>Burundi</td><td>2025-08-12T21:01:32.095Z</td><td>158</td><td>2025-08-12T20:39:25.949Z</td><td>2025-08-12T20:39:25.949Z</td></tr><tr><td>P0196</td><td>Monica Dillon</td><td>Female</td><td>Belarus</td><td>2025-08-12T21:01:32.095Z</td><td>196</td><td>2025-08-12T20:39:25.949Z</td><td>2025-08-12T20:39:25.949Z</td></tr></tbody></table></div>"
      ]
     },
     "metadata": {
      "application/vnd.databricks.v1+output": {
       "addedWidgets": {},
       "aggData": [],
       "aggError": "",
       "aggOverflow": false,
       "aggSchema": [],
       "aggSeriesLimitReached": false,
       "aggType": "",
       "arguments": {},
       "columnCustomDisplayInfos": {},
       "data": [
        [
         "P0032",
         "Daniel Douglas",
         "Male",
         "Singapore",
         "2025-08-12T21:01:32.095Z",
         32,
         "2025-08-12T20:39:25.949Z",
         "2025-08-12T20:39:25.949Z"
        ],
        [
         "P0049",
         "Justin Thomas",
         "Female",
         "Tokelau",
         "2025-08-12T21:01:32.095Z",
         49,
         "2025-08-12T20:39:25.949Z",
         "2025-08-12T20:39:25.949Z"
        ],
        [
         "P0106",
         "Joshua Shepherd Jr.",
         "Female",
         "Netherlands",
         "2025-08-12T21:01:32.095Z",
         106,
         "2025-08-12T20:39:25.949Z",
         "2025-08-12T20:39:25.949Z"
        ],
        [
         "P0108",
         "Brian Anderson",
         "Female",
         "Eritrea",
         "2025-08-12T21:01:32.095Z",
         108,
         "2025-08-12T20:39:25.949Z",
         "2025-08-12T20:39:25.949Z"
        ],
        [
         "P0113",
         "Brian Richardson",
         "Male",
         "Dominican Republic",
         "2025-08-12T21:01:32.095Z",
         113,
         "2025-08-12T20:39:25.949Z",
         "2025-08-12T20:39:25.949Z"
        ],
        [
         "P0149",
         "Katherine Bowen DVM",
         "Male",
         "Mexico",
         "2025-08-12T21:01:32.095Z",
         149,
         "2025-08-12T20:39:25.949Z",
         "2025-08-12T20:39:25.949Z"
        ],
        [
         "P0154",
         "Angel Thompson",
         "Female",
         "Gambia",
         "2025-08-12T21:01:32.095Z",
         154,
         "2025-08-12T20:39:25.949Z",
         "2025-08-12T20:39:25.949Z"
        ],
        [
         "P0155",
         "Robert Singleton",
         "Female",
         "Northern Mariana Islands",
         "2025-08-12T21:01:32.095Z",
         155,
         "2025-08-12T20:39:25.949Z",
         "2025-08-12T20:39:25.949Z"
        ],
        [
         "P0158",
         "Jamie Mcneil",
         "Male",
         "Burundi",
         "2025-08-12T21:01:32.095Z",
         158,
         "2025-08-12T20:39:25.949Z",
         "2025-08-12T20:39:25.949Z"
        ],
        [
         "P0196",
         "Monica Dillon",
         "Female",
         "Belarus",
         "2025-08-12T21:01:32.095Z",
         196,
         "2025-08-12T20:39:25.949Z",
         "2025-08-12T20:39:25.949Z"
        ]
       ],
       "datasetInfos": [],
       "dbfsResultPath": null,
       "isJsonSchema": true,
       "metadata": {},
       "overflow": false,
       "plotOptions": {
        "customPlotOptions": {},
        "displayType": "table",
        "pivotAggregation": null,
        "pivotColumns": null,
        "xColumns": null,
        "yColumns": null
       },
       "removedWidgets": [],
       "schema": [
        {
         "metadata": "{}",
         "name": "passenger_id",
         "type": "\"string\""
        },
        {
         "metadata": "{}",
         "name": "name",
         "type": "\"string\""
        },
        {
         "metadata": "{}",
         "name": "gender",
         "type": "\"string\""
        },
        {
         "metadata": "{}",
         "name": "nationality",
         "type": "\"string\""
        },
        {
         "metadata": "{}",
         "name": "modified_date",
         "type": "\"timestamp\""
        },
        {
         "metadata": "{}",
         "name": "DimPassengersKey",
         "type": "\"long\""
        },
        {
         "metadata": "{}",
         "name": "create_date",
         "type": "\"timestamp\""
        },
        {
         "metadata": "{}",
         "name": "update_date",
         "type": "\"timestamp\""
        }
       ],
       "type": "table"
      }
     },
     "output_type": "display_data"
    }
   ],
   "source": [
    "df_old.display()"
   ]
  },
  {
   "cell_type": "markdown",
   "metadata": {
    "application/vnd.databricks.v1+cell": {
     "cellMetadata": {
      "byteLimit": 2048000,
      "rowLimit": 10000
     },
     "inputWidgets": {},
     "nuid": "83fb31e6-d49a-46eb-9306-5567599554b6",
     "showTitle": false,
     "tableResultSettingsMap": {},
     "title": ""
    }
   },
   "source": [
    "## **ENRCHING DFs**"
   ]
  },
  {
   "cell_type": "markdown",
   "metadata": {
    "application/vnd.databricks.v1+cell": {
     "cellMetadata": {
      "byteLimit": 2048000,
      "rowLimit": 10000
     },
     "inputWidgets": {},
     "nuid": "6c26917a-e5c7-4cba-ae16-d8e465d48114",
     "showTitle": false,
     "tableResultSettingsMap": {},
     "title": ""
    }
   },
   "source": [
    "### **Preparing df_old**"
   ]
  },
  {
   "cell_type": "code",
   "execution_count": 0,
   "metadata": {
    "application/vnd.databricks.v1+cell": {
     "cellMetadata": {
      "byteLimit": 2048000,
      "rowLimit": 10000
     },
     "inputWidgets": {},
     "nuid": "6724a3f9-8bb3-4af1-bc89-3344b7f54d40",
     "showTitle": false,
     "tableResultSettingsMap": {},
     "title": ""
    }
   },
   "outputs": [],
   "source": [
    "# df_old enriched\n",
    "df_old_enr = df_old.withColumn(\"update_date\", current_timestamp())"
   ]
  },
  {
   "cell_type": "markdown",
   "metadata": {
    "application/vnd.databricks.v1+cell": {
     "cellMetadata": {
      "byteLimit": 2048000,
      "rowLimit": 10000
     },
     "inputWidgets": {},
     "nuid": "140e1eef-67e9-4b56-b496-c89791f90d56",
     "showTitle": false,
     "tableResultSettingsMap": {},
     "title": ""
    }
   },
   "source": [
    "### **Preparing df_new**"
   ]
  },
  {
   "cell_type": "code",
   "execution_count": 0,
   "metadata": {
    "application/vnd.databricks.v1+cell": {
     "cellMetadata": {
      "byteLimit": 2048000,
      "rowLimit": 10000
     },
     "inputWidgets": {},
     "nuid": "a7405b68-9d83-439a-bf0d-b559d14954da",
     "showTitle": false,
     "tableResultSettingsMap": {
      "0": {
       "dataGridStateBlob": "{\"version\":1,\"tableState\":{\"columnPinning\":{\"left\":[\"#row_number#\"],\"right\":[]},\"columnSizing\":{},\"columnVisibility\":{}},\"settings\":{\"columns\":{}},\"syncTimestamp\":1755031163205}",
       "filterBlob": null,
       "queryPlanFiltersBlob": null,
       "tableResultIndex": 0
      }
     },
     "title": ""
    }
   },
   "outputs": [
    {
     "output_type": "display_data",
     "data": {
      "text/html": [
       "<style scoped>\n",
       "  .table-result-container {\n",
       "    max-height: 300px;\n",
       "    overflow: auto;\n",
       "  }\n",
       "  table, th, td {\n",
       "    border: 1px solid black;\n",
       "    border-collapse: collapse;\n",
       "  }\n",
       "  th, td {\n",
       "    padding: 5px;\n",
       "  }\n",
       "  th {\n",
       "    text-align: left;\n",
       "  }\n",
       "</style><div class='table-result-container'><table class='table-result'><thead style='background-color: white'><tr><th>passenger_id</th><th>name</th><th>gender</th><th>nationality</th><th>modified_date</th><th>DimPassengersKey</th><th>create_date</th><th>update_date</th></tr></thead><tbody><tr><td>P0225</td><td>William Lopez</td><td>Male</td><td>Heard Island and McDonald Islands</td><td>2025-08-12T21:01:32.095Z</td><td>null</td><td>null</td><td>null</td></tr><tr><td>P0224</td><td>Jason Jensen</td><td>Female</td><td>Rwanda</td><td>2025-08-12T21:01:32.095Z</td><td>null</td><td>null</td><td>null</td></tr><tr><td>P0223</td><td>Nicholas Gomez</td><td>Female</td><td>Cook Islands</td><td>2025-08-12T21:01:32.095Z</td><td>null</td><td>null</td><td>null</td></tr><tr><td>P0222</td><td>Maria Taylor</td><td>Male</td><td>Lao People's Democratic Republic</td><td>2025-08-12T21:01:32.095Z</td><td>null</td><td>null</td><td>null</td></tr><tr><td>P0221</td><td>Amy Welch</td><td>Male</td><td>Croatia</td><td>2025-08-12T21:01:32.095Z</td><td>null</td><td>null</td><td>null</td></tr></tbody></table></div>"
      ]
     },
     "metadata": {
      "application/vnd.databricks.v1+output": {
       "addedWidgets": {},
       "aggData": [],
       "aggError": "",
       "aggOverflow": false,
       "aggSchema": [],
       "aggSeriesLimitReached": false,
       "aggType": "",
       "arguments": {},
       "columnCustomDisplayInfos": {},
       "data": [
        [
         "P0225",
         "William Lopez",
         "Male",
         "Heard Island and McDonald Islands",
         "2025-08-12T21:01:32.095Z",
         null,
         null,
         null
        ],
        [
         "P0224",
         "Jason Jensen",
         "Female",
         "Rwanda",
         "2025-08-12T21:01:32.095Z",
         null,
         null,
         null
        ],
        [
         "P0223",
         "Nicholas Gomez",
         "Female",
         "Cook Islands",
         "2025-08-12T21:01:32.095Z",
         null,
         null,
         null
        ],
        [
         "P0222",
         "Maria Taylor",
         "Male",
         "Lao People's Democratic Republic",
         "2025-08-12T21:01:32.095Z",
         null,
         null,
         null
        ],
        [
         "P0221",
         "Amy Welch",
         "Male",
         "Croatia",
         "2025-08-12T21:01:32.095Z",
         null,
         null,
         null
        ]
       ],
       "datasetInfos": [],
       "dbfsResultPath": null,
       "isJsonSchema": true,
       "metadata": {},
       "overflow": false,
       "plotOptions": {
        "customPlotOptions": {},
        "displayType": "table",
        "pivotAggregation": null,
        "pivotColumns": null,
        "xColumns": null,
        "yColumns": null
       },
       "removedWidgets": [],
       "schema": [
        {
         "metadata": "{}",
         "name": "passenger_id",
         "type": "\"string\""
        },
        {
         "metadata": "{}",
         "name": "name",
         "type": "\"string\""
        },
        {
         "metadata": "{}",
         "name": "gender",
         "type": "\"string\""
        },
        {
         "metadata": "{}",
         "name": "nationality",
         "type": "\"string\""
        },
        {
         "metadata": "{}",
         "name": "modified_date",
         "type": "\"timestamp\""
        },
        {
         "metadata": "{}",
         "name": "DimPassengersKey",
         "type": "\"long\""
        },
        {
         "metadata": "{}",
         "name": "create_date",
         "type": "\"timestamp\""
        },
        {
         "metadata": "{}",
         "name": "update_date",
         "type": "\"timestamp\""
        }
       ],
       "type": "table"
      }
     },
     "output_type": "display_data"
    }
   ],
   "source": [
    "df_new.display()"
   ]
  },
  {
   "cell_type": "code",
   "execution_count": 0,
   "metadata": {
    "application/vnd.databricks.v1+cell": {
     "cellMetadata": {
      "byteLimit": 2048000,
      "rowLimit": 10000
     },
     "inputWidgets": {},
     "nuid": "5be1b355-1fa8-4249-8031-28e2d9031c5e",
     "showTitle": false,
     "tableResultSettingsMap": {},
     "title": ""
    }
   },
   "outputs": [],
   "source": [
    "if spark.catalog.tableExists(f\"{catalog}.{target_schema}.{target_object}\"):\n",
    "    max_surrogate_key = spark.sql(f\"\"\"\n",
    "                                  SELECT max({surrogate_key}) FROM {catalog}.{target_schema}.{target_object}\n",
    "                                  \"\"\").collect()[0][0]\n",
    "    df_new_enr = df_new.withColumn(f\"{surrogate_key}\", lit(max_surrogate_key) + lit(1) + monotonically_increasing_id())\\\n",
    "                       .withColumn(\"create_date\", current_timestamp())\\\n",
    "                       .withColumn(\"update_date\", current_timestamp())\n",
    "else:\n",
    "    max_surrogate_key = 0\n",
    "    df_new_enr = df_new.withColumn(f\"{surrogate_key}\", lit(max_surrogate_key) + lit(1) + monotonically_increasing_id())\\\n",
    "                       .withColumn(\"create_date\", current_timestamp())\\\n",
    "                       .withColumn(\"update_date\", current_timestamp())"
   ]
  },
  {
   "cell_type": "code",
   "execution_count": 0,
   "metadata": {
    "application/vnd.databricks.v1+cell": {
     "cellMetadata": {
      "byteLimit": 2048000,
      "rowLimit": 10000
     },
     "inputWidgets": {},
     "nuid": "0a548591-9fc7-4609-a9c7-38b056174d18",
     "showTitle": false,
     "tableResultSettingsMap": {
      "0": {
       "dataGridStateBlob": "{\"version\":1,\"tableState\":{\"columnPinning\":{\"left\":[\"#row_number#\"],\"right\":[]},\"columnSizing\":{},\"columnVisibility\":{}},\"settings\":{\"columns\":{}},\"syncTimestamp\":1755031164724}",
       "filterBlob": null,
       "queryPlanFiltersBlob": null,
       "tableResultIndex": 0
      }
     },
     "title": ""
    }
   },
   "outputs": [
    {
     "output_type": "display_data",
     "data": {
      "text/html": [
       "<style scoped>\n",
       "  .table-result-container {\n",
       "    max-height: 300px;\n",
       "    overflow: auto;\n",
       "  }\n",
       "  table, th, td {\n",
       "    border: 1px solid black;\n",
       "    border-collapse: collapse;\n",
       "  }\n",
       "  th, td {\n",
       "    padding: 5px;\n",
       "  }\n",
       "  th {\n",
       "    text-align: left;\n",
       "  }\n",
       "</style><div class='table-result-container'><table class='table-result'><thead style='background-color: white'><tr><th>passenger_id</th><th>name</th><th>gender</th><th>nationality</th><th>modified_date</th><th>DimPassengersKey</th><th>create_date</th><th>update_date</th></tr></thead><tbody><tr><td>P0032</td><td>Daniel Douglas</td><td>Male</td><td>Singapore</td><td>2025-08-12T21:01:32.095Z</td><td>32</td><td>2025-08-12T20:39:25.949Z</td><td>2025-08-12T21:04:16.056Z</td></tr><tr><td>P0049</td><td>Justin Thomas</td><td>Female</td><td>Tokelau</td><td>2025-08-12T21:01:32.095Z</td><td>49</td><td>2025-08-12T20:39:25.949Z</td><td>2025-08-12T21:04:16.056Z</td></tr><tr><td>P0106</td><td>Joshua Shepherd Jr.</td><td>Female</td><td>Netherlands</td><td>2025-08-12T21:01:32.095Z</td><td>106</td><td>2025-08-12T20:39:25.949Z</td><td>2025-08-12T21:04:16.056Z</td></tr><tr><td>P0108</td><td>Brian Anderson</td><td>Female</td><td>Eritrea</td><td>2025-08-12T21:01:32.095Z</td><td>108</td><td>2025-08-12T20:39:25.949Z</td><td>2025-08-12T21:04:16.056Z</td></tr><tr><td>P0113</td><td>Brian Richardson</td><td>Male</td><td>Dominican Republic</td><td>2025-08-12T21:01:32.095Z</td><td>113</td><td>2025-08-12T20:39:25.949Z</td><td>2025-08-12T21:04:16.056Z</td></tr><tr><td>P0149</td><td>Katherine Bowen DVM</td><td>Male</td><td>Mexico</td><td>2025-08-12T21:01:32.095Z</td><td>149</td><td>2025-08-12T20:39:25.949Z</td><td>2025-08-12T21:04:16.056Z</td></tr><tr><td>P0154</td><td>Angel Thompson</td><td>Female</td><td>Gambia</td><td>2025-08-12T21:01:32.095Z</td><td>154</td><td>2025-08-12T20:39:25.949Z</td><td>2025-08-12T21:04:16.056Z</td></tr><tr><td>P0155</td><td>Robert Singleton</td><td>Female</td><td>Northern Mariana Islands</td><td>2025-08-12T21:01:32.095Z</td><td>155</td><td>2025-08-12T20:39:25.949Z</td><td>2025-08-12T21:04:16.056Z</td></tr><tr><td>P0158</td><td>Jamie Mcneil</td><td>Male</td><td>Burundi</td><td>2025-08-12T21:01:32.095Z</td><td>158</td><td>2025-08-12T20:39:25.949Z</td><td>2025-08-12T21:04:16.056Z</td></tr><tr><td>P0196</td><td>Monica Dillon</td><td>Female</td><td>Belarus</td><td>2025-08-12T21:01:32.095Z</td><td>196</td><td>2025-08-12T20:39:25.949Z</td><td>2025-08-12T21:04:16.056Z</td></tr></tbody></table></div>"
      ]
     },
     "metadata": {
      "application/vnd.databricks.v1+output": {
       "addedWidgets": {},
       "aggData": [],
       "aggError": "",
       "aggOverflow": false,
       "aggSchema": [],
       "aggSeriesLimitReached": false,
       "aggType": "",
       "arguments": {},
       "columnCustomDisplayInfos": {},
       "data": [
        [
         "P0032",
         "Daniel Douglas",
         "Male",
         "Singapore",
         "2025-08-12T21:01:32.095Z",
         32,
         "2025-08-12T20:39:25.949Z",
         "2025-08-12T21:04:16.056Z"
        ],
        [
         "P0049",
         "Justin Thomas",
         "Female",
         "Tokelau",
         "2025-08-12T21:01:32.095Z",
         49,
         "2025-08-12T20:39:25.949Z",
         "2025-08-12T21:04:16.056Z"
        ],
        [
         "P0106",
         "Joshua Shepherd Jr.",
         "Female",
         "Netherlands",
         "2025-08-12T21:01:32.095Z",
         106,
         "2025-08-12T20:39:25.949Z",
         "2025-08-12T21:04:16.056Z"
        ],
        [
         "P0108",
         "Brian Anderson",
         "Female",
         "Eritrea",
         "2025-08-12T21:01:32.095Z",
         108,
         "2025-08-12T20:39:25.949Z",
         "2025-08-12T21:04:16.056Z"
        ],
        [
         "P0113",
         "Brian Richardson",
         "Male",
         "Dominican Republic",
         "2025-08-12T21:01:32.095Z",
         113,
         "2025-08-12T20:39:25.949Z",
         "2025-08-12T21:04:16.056Z"
        ],
        [
         "P0149",
         "Katherine Bowen DVM",
         "Male",
         "Mexico",
         "2025-08-12T21:01:32.095Z",
         149,
         "2025-08-12T20:39:25.949Z",
         "2025-08-12T21:04:16.056Z"
        ],
        [
         "P0154",
         "Angel Thompson",
         "Female",
         "Gambia",
         "2025-08-12T21:01:32.095Z",
         154,
         "2025-08-12T20:39:25.949Z",
         "2025-08-12T21:04:16.056Z"
        ],
        [
         "P0155",
         "Robert Singleton",
         "Female",
         "Northern Mariana Islands",
         "2025-08-12T21:01:32.095Z",
         155,
         "2025-08-12T20:39:25.949Z",
         "2025-08-12T21:04:16.056Z"
        ],
        [
         "P0158",
         "Jamie Mcneil",
         "Male",
         "Burundi",
         "2025-08-12T21:01:32.095Z",
         158,
         "2025-08-12T20:39:25.949Z",
         "2025-08-12T21:04:16.056Z"
        ],
        [
         "P0196",
         "Monica Dillon",
         "Female",
         "Belarus",
         "2025-08-12T21:01:32.095Z",
         196,
         "2025-08-12T20:39:25.949Z",
         "2025-08-12T21:04:16.056Z"
        ]
       ],
       "datasetInfos": [],
       "dbfsResultPath": null,
       "isJsonSchema": true,
       "metadata": {},
       "overflow": false,
       "plotOptions": {
        "customPlotOptions": {},
        "displayType": "table",
        "pivotAggregation": null,
        "pivotColumns": null,
        "xColumns": null,
        "yColumns": null
       },
       "removedWidgets": [],
       "schema": [
        {
         "metadata": "{}",
         "name": "passenger_id",
         "type": "\"string\""
        },
        {
         "metadata": "{}",
         "name": "name",
         "type": "\"string\""
        },
        {
         "metadata": "{}",
         "name": "gender",
         "type": "\"string\""
        },
        {
         "metadata": "{}",
         "name": "nationality",
         "type": "\"string\""
        },
        {
         "metadata": "{}",
         "name": "modified_date",
         "type": "\"timestamp\""
        },
        {
         "metadata": "{}",
         "name": "DimPassengersKey",
         "type": "\"long\""
        },
        {
         "metadata": "{}",
         "name": "create_date",
         "type": "\"timestamp\""
        },
        {
         "metadata": "{}",
         "name": "update_date",
         "type": "\"timestamp\""
        }
       ],
       "type": "table"
      }
     },
     "output_type": "display_data"
    }
   ],
   "source": [
    "df_old_enr.display()"
   ]
  },
  {
   "cell_type": "markdown",
   "metadata": {
    "application/vnd.databricks.v1+cell": {
     "cellMetadata": {
      "byteLimit": 2048000,
      "rowLimit": 10000
     },
     "inputWidgets": {},
     "nuid": "4b95a8ec-ea81-4145-9873-acb10d7558c1",
     "showTitle": false,
     "tableResultSettingsMap": {},
     "title": ""
    }
   },
   "source": [
    "### **Unionng old and new records**"
   ]
  },
  {
   "cell_type": "code",
   "execution_count": 0,
   "metadata": {
    "application/vnd.databricks.v1+cell": {
     "cellMetadata": {
      "byteLimit": 2048000,
      "rowLimit": 10000
     },
     "inputWidgets": {},
     "nuid": "fdbabb3f-d507-47a3-a896-d87eccfaa7f8",
     "showTitle": false,
     "tableResultSettingsMap": {},
     "title": ""
    }
   },
   "outputs": [],
   "source": [
    "df_union = df_old_enr.unionByName(df_new_enr)"
   ]
  },
  {
   "cell_type": "code",
   "execution_count": 0,
   "metadata": {
    "application/vnd.databricks.v1+cell": {
     "cellMetadata": {
      "byteLimit": 2048000,
      "rowLimit": 10000
     },
     "inputWidgets": {},
     "nuid": "9186ea37-a3a2-47fd-8a05-99c6f7bda623",
     "showTitle": false,
     "tableResultSettingsMap": {
      "0": {
       "dataGridStateBlob": "{\"version\":1,\"tableState\":{\"columnPinning\":{\"left\":[\"#row_number#\"],\"right\":[]},\"columnSizing\":{},\"columnVisibility\":{}},\"settings\":{\"columns\":{}},\"syncTimestamp\":1755031164762}",
       "filterBlob": null,
       "queryPlanFiltersBlob": null,
       "tableResultIndex": 0
      }
     },
     "title": ""
    }
   },
   "outputs": [
    {
     "output_type": "display_data",
     "data": {
      "text/html": [
       "<style scoped>\n",
       "  .table-result-container {\n",
       "    max-height: 300px;\n",
       "    overflow: auto;\n",
       "  }\n",
       "  table, th, td {\n",
       "    border: 1px solid black;\n",
       "    border-collapse: collapse;\n",
       "  }\n",
       "  th, td {\n",
       "    padding: 5px;\n",
       "  }\n",
       "  th {\n",
       "    text-align: left;\n",
       "  }\n",
       "</style><div class='table-result-container'><table class='table-result'><thead style='background-color: white'><tr><th>passenger_id</th><th>name</th><th>gender</th><th>nationality</th><th>modified_date</th><th>DimPassengersKey</th><th>create_date</th><th>update_date</th></tr></thead><tbody><tr><td>P0032</td><td>Daniel Douglas</td><td>Male</td><td>Singapore</td><td>2025-08-12T21:01:32.095Z</td><td>32</td><td>2025-08-12T20:39:25.949Z</td><td>2025-08-12T21:04:17.541Z</td></tr><tr><td>P0049</td><td>Justin Thomas</td><td>Female</td><td>Tokelau</td><td>2025-08-12T21:01:32.095Z</td><td>49</td><td>2025-08-12T20:39:25.949Z</td><td>2025-08-12T21:04:17.541Z</td></tr><tr><td>P0106</td><td>Joshua Shepherd Jr.</td><td>Female</td><td>Netherlands</td><td>2025-08-12T21:01:32.095Z</td><td>106</td><td>2025-08-12T20:39:25.949Z</td><td>2025-08-12T21:04:17.541Z</td></tr><tr><td>P0108</td><td>Brian Anderson</td><td>Female</td><td>Eritrea</td><td>2025-08-12T21:01:32.095Z</td><td>108</td><td>2025-08-12T20:39:25.949Z</td><td>2025-08-12T21:04:17.541Z</td></tr><tr><td>P0113</td><td>Brian Richardson</td><td>Male</td><td>Dominican Republic</td><td>2025-08-12T21:01:32.095Z</td><td>113</td><td>2025-08-12T20:39:25.949Z</td><td>2025-08-12T21:04:17.541Z</td></tr><tr><td>P0149</td><td>Katherine Bowen DVM</td><td>Male</td><td>Mexico</td><td>2025-08-12T21:01:32.095Z</td><td>149</td><td>2025-08-12T20:39:25.949Z</td><td>2025-08-12T21:04:17.541Z</td></tr><tr><td>P0154</td><td>Angel Thompson</td><td>Female</td><td>Gambia</td><td>2025-08-12T21:01:32.095Z</td><td>154</td><td>2025-08-12T20:39:25.949Z</td><td>2025-08-12T21:04:17.541Z</td></tr><tr><td>P0155</td><td>Robert Singleton</td><td>Female</td><td>Northern Mariana Islands</td><td>2025-08-12T21:01:32.095Z</td><td>155</td><td>2025-08-12T20:39:25.949Z</td><td>2025-08-12T21:04:17.541Z</td></tr><tr><td>P0158</td><td>Jamie Mcneil</td><td>Male</td><td>Burundi</td><td>2025-08-12T21:01:32.095Z</td><td>158</td><td>2025-08-12T20:39:25.949Z</td><td>2025-08-12T21:04:17.541Z</td></tr><tr><td>P0196</td><td>Monica Dillon</td><td>Female</td><td>Belarus</td><td>2025-08-12T21:01:32.095Z</td><td>196</td><td>2025-08-12T20:39:25.949Z</td><td>2025-08-12T21:04:17.541Z</td></tr><tr><td>P0225</td><td>William Lopez</td><td>Male</td><td>Heard Island and McDonald Islands</td><td>2025-08-12T21:01:32.095Z</td><td>221</td><td>2025-08-12T21:04:17.541Z</td><td>2025-08-12T21:04:17.541Z</td></tr><tr><td>P0224</td><td>Jason Jensen</td><td>Female</td><td>Rwanda</td><td>2025-08-12T21:01:32.095Z</td><td>222</td><td>2025-08-12T21:04:17.541Z</td><td>2025-08-12T21:04:17.541Z</td></tr><tr><td>P0223</td><td>Nicholas Gomez</td><td>Female</td><td>Cook Islands</td><td>2025-08-12T21:01:32.095Z</td><td>223</td><td>2025-08-12T21:04:17.541Z</td><td>2025-08-12T21:04:17.541Z</td></tr><tr><td>P0222</td><td>Maria Taylor</td><td>Male</td><td>Lao People's Democratic Republic</td><td>2025-08-12T21:01:32.095Z</td><td>224</td><td>2025-08-12T21:04:17.541Z</td><td>2025-08-12T21:04:17.541Z</td></tr><tr><td>P0221</td><td>Amy Welch</td><td>Male</td><td>Croatia</td><td>2025-08-12T21:01:32.095Z</td><td>225</td><td>2025-08-12T21:04:17.541Z</td><td>2025-08-12T21:04:17.541Z</td></tr></tbody></table></div>"
      ]
     },
     "metadata": {
      "application/vnd.databricks.v1+output": {
       "addedWidgets": {},
       "aggData": [],
       "aggError": "",
       "aggOverflow": false,
       "aggSchema": [],
       "aggSeriesLimitReached": false,
       "aggType": "",
       "arguments": {},
       "columnCustomDisplayInfos": {},
       "data": [
        [
         "P0032",
         "Daniel Douglas",
         "Male",
         "Singapore",
         "2025-08-12T21:01:32.095Z",
         32,
         "2025-08-12T20:39:25.949Z",
         "2025-08-12T21:04:17.541Z"
        ],
        [
         "P0049",
         "Justin Thomas",
         "Female",
         "Tokelau",
         "2025-08-12T21:01:32.095Z",
         49,
         "2025-08-12T20:39:25.949Z",
         "2025-08-12T21:04:17.541Z"
        ],
        [
         "P0106",
         "Joshua Shepherd Jr.",
         "Female",
         "Netherlands",
         "2025-08-12T21:01:32.095Z",
         106,
         "2025-08-12T20:39:25.949Z",
         "2025-08-12T21:04:17.541Z"
        ],
        [
         "P0108",
         "Brian Anderson",
         "Female",
         "Eritrea",
         "2025-08-12T21:01:32.095Z",
         108,
         "2025-08-12T20:39:25.949Z",
         "2025-08-12T21:04:17.541Z"
        ],
        [
         "P0113",
         "Brian Richardson",
         "Male",
         "Dominican Republic",
         "2025-08-12T21:01:32.095Z",
         113,
         "2025-08-12T20:39:25.949Z",
         "2025-08-12T21:04:17.541Z"
        ],
        [
         "P0149",
         "Katherine Bowen DVM",
         "Male",
         "Mexico",
         "2025-08-12T21:01:32.095Z",
         149,
         "2025-08-12T20:39:25.949Z",
         "2025-08-12T21:04:17.541Z"
        ],
        [
         "P0154",
         "Angel Thompson",
         "Female",
         "Gambia",
         "2025-08-12T21:01:32.095Z",
         154,
         "2025-08-12T20:39:25.949Z",
         "2025-08-12T21:04:17.541Z"
        ],
        [
         "P0155",
         "Robert Singleton",
         "Female",
         "Northern Mariana Islands",
         "2025-08-12T21:01:32.095Z",
         155,
         "2025-08-12T20:39:25.949Z",
         "2025-08-12T21:04:17.541Z"
        ],
        [
         "P0158",
         "Jamie Mcneil",
         "Male",
         "Burundi",
         "2025-08-12T21:01:32.095Z",
         158,
         "2025-08-12T20:39:25.949Z",
         "2025-08-12T21:04:17.541Z"
        ],
        [
         "P0196",
         "Monica Dillon",
         "Female",
         "Belarus",
         "2025-08-12T21:01:32.095Z",
         196,
         "2025-08-12T20:39:25.949Z",
         "2025-08-12T21:04:17.541Z"
        ],
        [
         "P0225",
         "William Lopez",
         "Male",
         "Heard Island and McDonald Islands",
         "2025-08-12T21:01:32.095Z",
         221,
         "2025-08-12T21:04:17.541Z",
         "2025-08-12T21:04:17.541Z"
        ],
        [
         "P0224",
         "Jason Jensen",
         "Female",
         "Rwanda",
         "2025-08-12T21:01:32.095Z",
         222,
         "2025-08-12T21:04:17.541Z",
         "2025-08-12T21:04:17.541Z"
        ],
        [
         "P0223",
         "Nicholas Gomez",
         "Female",
         "Cook Islands",
         "2025-08-12T21:01:32.095Z",
         223,
         "2025-08-12T21:04:17.541Z",
         "2025-08-12T21:04:17.541Z"
        ],
        [
         "P0222",
         "Maria Taylor",
         "Male",
         "Lao People's Democratic Republic",
         "2025-08-12T21:01:32.095Z",
         224,
         "2025-08-12T21:04:17.541Z",
         "2025-08-12T21:04:17.541Z"
        ],
        [
         "P0221",
         "Amy Welch",
         "Male",
         "Croatia",
         "2025-08-12T21:01:32.095Z",
         225,
         "2025-08-12T21:04:17.541Z",
         "2025-08-12T21:04:17.541Z"
        ]
       ],
       "datasetInfos": [],
       "dbfsResultPath": null,
       "isJsonSchema": true,
       "metadata": {},
       "overflow": false,
       "plotOptions": {
        "customPlotOptions": {},
        "displayType": "table",
        "pivotAggregation": null,
        "pivotColumns": null,
        "xColumns": null,
        "yColumns": null
       },
       "removedWidgets": [],
       "schema": [
        {
         "metadata": "{}",
         "name": "passenger_id",
         "type": "\"string\""
        },
        {
         "metadata": "{}",
         "name": "name",
         "type": "\"string\""
        },
        {
         "metadata": "{}",
         "name": "gender",
         "type": "\"string\""
        },
        {
         "metadata": "{}",
         "name": "nationality",
         "type": "\"string\""
        },
        {
         "metadata": "{}",
         "name": "modified_date",
         "type": "\"timestamp\""
        },
        {
         "metadata": "{}",
         "name": "DimPassengersKey",
         "type": "\"long\""
        },
        {
         "metadata": "{}",
         "name": "create_date",
         "type": "\"timestamp\""
        },
        {
         "metadata": "{}",
         "name": "update_date",
         "type": "\"timestamp\""
        }
       ],
       "type": "table"
      }
     },
     "output_type": "display_data"
    }
   ],
   "source": [
    "df_union.display()"
   ]
  },
  {
   "cell_type": "markdown",
   "metadata": {
    "application/vnd.databricks.v1+cell": {
     "cellMetadata": {
      "byteLimit": 2048000,
      "rowLimit": 10000
     },
     "inputWidgets": {},
     "nuid": "6f841ff2-b133-4584-b977-3b432b9cd1f1",
     "showTitle": false,
     "tableResultSettingsMap": {},
     "title": ""
    }
   },
   "source": [
    "### **UPSERT**"
   ]
  },
  {
   "cell_type": "code",
   "execution_count": 0,
   "metadata": {
    "application/vnd.databricks.v1+cell": {
     "cellMetadata": {
      "byteLimit": 2048000,
      "rowLimit": 10000
     },
     "inputWidgets": {},
     "nuid": "e50cb71b-d49f-4a18-a673-565ab8be44b0",
     "showTitle": false,
     "tableResultSettingsMap": {},
     "title": ""
    }
   },
   "outputs": [],
   "source": [
    "from delta.tables import DeltaTable"
   ]
  },
  {
   "cell_type": "code",
   "execution_count": 0,
   "metadata": {
    "application/vnd.databricks.v1+cell": {
     "cellMetadata": {
      "byteLimit": 2048000,
      "rowLimit": 10000
     },
     "inputWidgets": {},
     "nuid": "c9c80f76-decf-4291-9e80-fb35e5227562",
     "showTitle": false,
     "tableResultSettingsMap": {},
     "title": ""
    }
   },
   "outputs": [],
   "source": [
    "if spark.catalog.tableExists(f\"{catalog}.{target_schema}.{target_object}\"):\n",
    "    dlt_obj = DeltaTable.forName(spark, f\"{catalog}.{target_schema}.{target_object}\")\n",
    "    dlt_obj.alias(\"trg\").merge(df_union.alias(\"src\"), f\"trg.{surrogate_key} = src.{surrogate_key}\")\\\n",
    "                        .whenMatchedUpdateAll(condition = f\"src.{cdc_col} >= trg.{cdc_col}\")\\\n",
    "                        .whenNotMatchedInsertAll()\\\n",
    "                        .execute()\n",
    "else: \n",
    "    df_union.write.format(\"delta\")\\\n",
    "            .mode(\"append\")\\\n",
    "            .saveAsTable(f\"{catalog}.{target_schema}.{target_object}\")"
   ]
  },
  {
   "cell_type": "code",
   "execution_count": 0,
   "metadata": {
    "application/vnd.databricks.v1+cell": {
     "cellMetadata": {
      "byteLimit": 2048000,
      "implicitDf": true,
      "rowLimit": 10000
     },
     "inputWidgets": {},
     "nuid": "f9994683-7221-49ef-84a3-07221b0aa5b2",
     "showTitle": false,
     "tableResultSettingsMap": {},
     "title": ""
    }
   },
   "outputs": [
    {
     "output_type": "display_data",
     "data": {
      "text/html": [
       "<style scoped>\n",
       "  .table-result-container {\n",
       "    max-height: 300px;\n",
       "    overflow: auto;\n",
       "  }\n",
       "  table, th, td {\n",
       "    border: 1px solid black;\n",
       "    border-collapse: collapse;\n",
       "  }\n",
       "  th, td {\n",
       "    padding: 5px;\n",
       "  }\n",
       "  th {\n",
       "    text-align: left;\n",
       "  }\n",
       "</style><div class='table-result-container'><table class='table-result'><thead style='background-color: white'><tr><th>flight_id</th><th>airline</th><th>origin</th><th>destination</th><th>flight_date</th><th>modified_date</th><th>DimFlightsKey</th><th>create_date</th><th>update_date</th></tr></thead><tbody><tr><td>F0001</td><td>Delta</td><td>Kellyfort</td><td>South Kathleen</td><td>2025-05-04</td><td>2025-08-06T21:41:44.844Z</td><td>1</td><td>2025-08-12T20:06:43.130Z</td><td>2025-08-12T20:27:32.353Z</td></tr><tr><td>F0002</td><td>Qatar Airways</td><td>Lake Stephen</td><td>New Vincent</td><td>2025-04-29</td><td>2025-08-06T21:41:44.844Z</td><td>2</td><td>2025-08-12T20:06:43.130Z</td><td>2025-08-12T20:27:32.353Z</td></tr><tr><td>F0003</td><td>Lufthansa</td><td>East Patrickborough</td><td>North Mary</td><td>2025-05-11</td><td>2025-08-06T21:41:44.844Z</td><td>3</td><td>2025-08-12T20:06:43.130Z</td><td>2025-08-12T20:27:32.353Z</td></tr><tr><td>F0004</td><td>Delta</td><td>Maddenshire</td><td>Johnchester</td><td>2025-05-16</td><td>2025-08-06T21:41:44.844Z</td><td>4</td><td>2025-08-12T20:06:43.130Z</td><td>2025-08-12T20:27:32.353Z</td></tr><tr><td>F0005</td><td>Qatar Airways</td><td>Bennettside</td><td>New Mistyhaven</td><td>2025-06-13</td><td>2025-08-06T21:41:44.844Z</td><td>5</td><td>2025-08-12T20:06:43.130Z</td><td>2025-08-12T20:27:32.353Z</td></tr><tr><td>F0006</td><td>Air Canada</td><td>New Richardside</td><td>South Jamesborough</td><td>2025-05-16</td><td>2025-08-06T21:41:44.844Z</td><td>6</td><td>2025-08-12T20:06:43.130Z</td><td>2025-08-12T20:27:32.353Z</td></tr><tr><td>F0007</td><td>Delta</td><td>Berryport</td><td>Miguelburgh</td><td>2025-05-24</td><td>2025-08-06T21:41:44.844Z</td><td>7</td><td>2025-08-12T20:06:43.130Z</td><td>2025-08-12T20:27:32.353Z</td></tr><tr><td>F0008</td><td>Lufthansa</td><td>Briannachester</td><td>Cervantesland</td><td>2025-05-26</td><td>2025-08-06T21:41:44.844Z</td><td>8</td><td>2025-08-12T20:06:43.130Z</td><td>2025-08-12T20:27:32.353Z</td></tr><tr><td>F0009</td><td>Delta</td><td>Alexandraborough</td><td>North Alexishaven</td><td>2025-06-10</td><td>2025-08-06T21:41:44.844Z</td><td>9</td><td>2025-08-12T20:06:43.130Z</td><td>2025-08-12T20:27:32.353Z</td></tr><tr><td>F0010</td><td>Emirates</td><td>Kruegerchester</td><td>Martintown</td><td>2025-05-20</td><td>2025-08-06T21:41:44.844Z</td><td>10</td><td>2025-08-12T20:06:43.130Z</td><td>2025-08-12T20:27:32.353Z</td></tr><tr><td>F0011</td><td>Lufthansa</td><td>Port Joannahaven</td><td>North Jasonton</td><td>2025-05-30</td><td>2025-08-06T21:41:44.844Z</td><td>11</td><td>2025-08-12T20:06:43.130Z</td><td>2025-08-12T20:27:32.353Z</td></tr><tr><td>F0012</td><td>Air Canada</td><td>New Hunter</td><td>East Maria</td><td>2025-04-23</td><td>2025-08-06T21:41:44.844Z</td><td>12</td><td>2025-08-12T20:06:43.130Z</td><td>2025-08-12T20:27:32.353Z</td></tr><tr><td>F0013</td><td>Air Canada</td><td>East Brian</td><td>Wayneton</td><td>2025-05-21</td><td>2025-08-06T21:41:44.844Z</td><td>13</td><td>2025-08-12T20:06:43.130Z</td><td>2025-08-12T20:27:32.353Z</td></tr><tr><td>F0014</td><td>Air Canada</td><td>Toddland</td><td>Gonzalezport</td><td>2025-05-28</td><td>2025-08-06T21:41:44.844Z</td><td>14</td><td>2025-08-12T20:06:43.130Z</td><td>2025-08-12T20:27:32.353Z</td></tr><tr><td>F0015</td><td>Delta</td><td>West Ginaton</td><td>Youngmouth</td><td>2025-05-21</td><td>2025-08-06T21:41:44.844Z</td><td>15</td><td>2025-08-12T20:06:43.130Z</td><td>2025-08-12T20:27:32.353Z</td></tr><tr><td>F0016</td><td>Qatar Airways</td><td>Smithborough</td><td>Randallview</td><td>2025-05-02</td><td>2025-08-06T21:41:44.844Z</td><td>16</td><td>2025-08-12T20:06:43.130Z</td><td>2025-08-12T20:27:32.353Z</td></tr><tr><td>F0017</td><td>Delta</td><td>Wallermouth</td><td>New Rogerberg</td><td>2025-05-04</td><td>2025-08-06T21:41:44.844Z</td><td>17</td><td>2025-08-12T20:06:43.130Z</td><td>2025-08-12T20:27:32.353Z</td></tr><tr><td>F0018</td><td>Air Canada</td><td>Schultzborough</td><td>Danielton</td><td>2025-06-01</td><td>2025-08-06T21:41:44.844Z</td><td>18</td><td>2025-08-12T20:06:43.130Z</td><td>2025-08-12T20:27:32.353Z</td></tr><tr><td>F0019</td><td>Lufthansa</td><td>Lake Scott</td><td>Christineborough</td><td>2025-05-18</td><td>2025-08-06T21:41:44.844Z</td><td>19</td><td>2025-08-12T20:06:43.130Z</td><td>2025-08-12T20:27:32.353Z</td></tr><tr><td>F0020</td><td>Lufthansa</td><td>North Jack</td><td>Loweville</td><td>2025-06-02</td><td>2025-08-06T21:41:44.844Z</td><td>20</td><td>2025-08-12T20:06:43.130Z</td><td>2025-08-12T20:27:32.353Z</td></tr><tr><td>F0021</td><td>Emirates</td><td>South Sara</td><td>North Annaport</td><td>2025-05-29</td><td>2025-08-06T21:41:44.844Z</td><td>21</td><td>2025-08-12T20:06:43.130Z</td><td>2025-08-12T20:27:32.353Z</td></tr><tr><td>F0022</td><td>Air Canada</td><td>Reedchester</td><td>Cruzton</td><td>2025-04-27</td><td>2025-08-06T21:41:44.844Z</td><td>22</td><td>2025-08-12T20:06:43.130Z</td><td>2025-08-12T20:27:32.353Z</td></tr><tr><td>F0023</td><td>Lufthansa</td><td>Port Jeremyfurt</td><td>Lake Walterside</td><td>2025-05-11</td><td>2025-08-06T21:41:44.844Z</td><td>23</td><td>2025-08-12T20:06:43.130Z</td><td>2025-08-12T20:27:32.353Z</td></tr><tr><td>F0024</td><td>Lufthansa</td><td>Leestad</td><td>Port Debra</td><td>2025-05-09</td><td>2025-08-06T21:41:44.844Z</td><td>24</td><td>2025-08-12T20:06:43.130Z</td><td>2025-08-12T20:27:32.353Z</td></tr><tr><td>F0025</td><td>Qatar Airways</td><td>Chelseaberg</td><td>North Michaelshire</td><td>2025-06-01</td><td>2025-08-06T21:41:44.844Z</td><td>25</td><td>2025-08-12T20:06:43.130Z</td><td>2025-08-12T20:27:32.353Z</td></tr><tr><td>F0026</td><td>Air Canada</td><td>New Deborahfort</td><td>New Sabrina</td><td>2025-05-10</td><td>2025-08-06T21:41:44.844Z</td><td>26</td><td>2025-08-12T20:06:43.130Z</td><td>2025-08-12T20:27:32.353Z</td></tr><tr><td>F0027</td><td>Delta</td><td>Acevedoville</td><td>Ericchester</td><td>2025-05-14</td><td>2025-08-06T21:41:44.844Z</td><td>27</td><td>2025-08-12T20:06:43.130Z</td><td>2025-08-12T20:27:32.353Z</td></tr><tr><td>F0028</td><td>Delta</td><td>South Michaelberg</td><td>South Markbury</td><td>2025-05-30</td><td>2025-08-06T21:41:44.844Z</td><td>28</td><td>2025-08-12T20:06:43.130Z</td><td>2025-08-12T20:27:32.353Z</td></tr><tr><td>F0029</td><td>Qatar Airways</td><td>Shortberg</td><td>Julieburgh</td><td>2025-05-11</td><td>2025-08-06T21:41:44.844Z</td><td>29</td><td>2025-08-12T20:06:43.130Z</td><td>2025-08-12T20:27:32.353Z</td></tr><tr><td>F0030</td><td>Delta</td><td>Angelamouth</td><td>Sosaside</td><td>2025-06-16</td><td>2025-08-06T21:41:44.844Z</td><td>30</td><td>2025-08-12T20:06:43.130Z</td><td>2025-08-12T20:27:32.353Z</td></tr><tr><td>F0031</td><td>Emirates</td><td>Billview</td><td>Jonathonborough</td><td>2025-06-14</td><td>2025-08-06T21:41:44.844Z</td><td>31</td><td>2025-08-12T20:06:43.130Z</td><td>2025-08-12T20:27:32.353Z</td></tr><tr><td>F0032</td><td>Emirates</td><td>Bushhaven</td><td>Patriciamouth</td><td>2025-05-22</td><td>2025-08-06T21:41:44.844Z</td><td>32</td><td>2025-08-12T20:06:43.130Z</td><td>2025-08-12T20:27:32.353Z</td></tr><tr><td>F0033</td><td>Air Canada</td><td>Sandersshire</td><td>Lake Joseside</td><td>2025-06-21</td><td>2025-08-06T21:41:44.844Z</td><td>33</td><td>2025-08-12T20:06:43.130Z</td><td>2025-08-12T20:27:32.353Z</td></tr><tr><td>F0034</td><td>Emirates</td><td>Johnsonville</td><td>Cooperland</td><td>2025-05-18</td><td>2025-08-06T21:41:44.844Z</td><td>34</td><td>2025-08-12T20:06:43.130Z</td><td>2025-08-12T20:27:32.353Z</td></tr><tr><td>F0035</td><td>Lufthansa</td><td>Karenshire</td><td>North Anthonymouth</td><td>2025-05-21</td><td>2025-08-06T21:41:44.844Z</td><td>35</td><td>2025-08-12T20:06:43.130Z</td><td>2025-08-12T20:27:32.353Z</td></tr><tr><td>F0036</td><td>Lufthansa</td><td>Armstrongbury</td><td>North Natashamouth</td><td>2025-05-05</td><td>2025-08-06T21:41:44.844Z</td><td>36</td><td>2025-08-12T20:06:43.130Z</td><td>2025-08-12T20:27:32.353Z</td></tr><tr><td>F0037</td><td>Air Canada</td><td>Yangville</td><td>Jacksonview</td><td>2025-04-29</td><td>2025-08-06T21:41:44.844Z</td><td>37</td><td>2025-08-12T20:06:43.130Z</td><td>2025-08-12T20:27:32.353Z</td></tr><tr><td>F0038</td><td>Delta</td><td>Port Nicole</td><td>South Corey</td><td>2025-05-22</td><td>2025-08-06T21:41:44.844Z</td><td>38</td><td>2025-08-12T20:06:43.130Z</td><td>2025-08-12T20:27:32.353Z</td></tr><tr><td>F0039</td><td>Air Canada</td><td>Paultown</td><td>Kellyton</td><td>2025-05-19</td><td>2025-08-06T21:41:44.844Z</td><td>39</td><td>2025-08-12T20:06:43.130Z</td><td>2025-08-12T20:27:32.353Z</td></tr><tr><td>F0040</td><td>Delta</td><td>Ianport</td><td>Lake Reginaldside</td><td>2025-04-23</td><td>2025-08-06T21:41:44.844Z</td><td>40</td><td>2025-08-12T20:06:43.130Z</td><td>2025-08-12T20:27:32.353Z</td></tr><tr><td>F0041</td><td>Air Canada</td><td>Lake Stanleyside</td><td>Port Scott</td><td>2025-06-14</td><td>2025-08-06T21:41:44.844Z</td><td>41</td><td>2025-08-12T20:06:43.130Z</td><td>2025-08-12T20:27:32.353Z</td></tr><tr><td>F0042</td><td>Air Canada</td><td>Port William</td><td>Darrenmouth</td><td>2025-05-11</td><td>2025-08-06T21:41:44.844Z</td><td>42</td><td>2025-08-12T20:06:43.130Z</td><td>2025-08-12T20:27:32.353Z</td></tr><tr><td>F0043</td><td>Lufthansa</td><td>Kimberlyborough</td><td>New Annfort</td><td>2025-05-15</td><td>2025-08-06T21:41:44.844Z</td><td>43</td><td>2025-08-12T20:06:43.130Z</td><td>2025-08-12T20:27:32.353Z</td></tr><tr><td>F0044</td><td>Qatar Airways</td><td>East Kaylaburgh</td><td>Lake Carolynchester</td><td>2025-06-01</td><td>2025-08-06T21:41:44.844Z</td><td>44</td><td>2025-08-12T20:06:43.130Z</td><td>2025-08-12T20:27:32.353Z</td></tr><tr><td>F0045</td><td>Emirates</td><td>North Michaelville</td><td>Russellton</td><td>2025-05-04</td><td>2025-08-06T21:41:44.844Z</td><td>45</td><td>2025-08-12T20:06:43.130Z</td><td>2025-08-12T20:27:32.353Z</td></tr><tr><td>F0046</td><td>Qatar Airways</td><td>West David</td><td>North Becky</td><td>2025-04-30</td><td>2025-08-06T21:41:44.844Z</td><td>46</td><td>2025-08-12T20:06:43.130Z</td><td>2025-08-12T20:27:32.353Z</td></tr><tr><td>F0047</td><td>Lufthansa</td><td>New Cory</td><td>Lorettashire</td><td>2025-05-05</td><td>2025-08-06T21:41:44.844Z</td><td>47</td><td>2025-08-12T20:06:43.130Z</td><td>2025-08-12T20:27:32.353Z</td></tr><tr><td>F0048</td><td>Lufthansa</td><td>Cooperview</td><td>Michelleburgh</td><td>2025-05-24</td><td>2025-08-06T21:41:44.844Z</td><td>48</td><td>2025-08-12T20:06:43.130Z</td><td>2025-08-12T20:27:32.353Z</td></tr><tr><td>F0049</td><td>Emirates</td><td>New Elizabethmouth</td><td>Lake Heathermouth</td><td>2025-05-06</td><td>2025-08-06T21:41:44.844Z</td><td>49</td><td>2025-08-12T20:06:43.130Z</td><td>2025-08-12T20:27:32.353Z</td></tr><tr><td>F0050</td><td>Air Canada</td><td>East Gailtown</td><td>Stevenville</td><td>2025-04-28</td><td>2025-08-06T21:41:44.844Z</td><td>50</td><td>2025-08-12T20:06:43.130Z</td><td>2025-08-12T20:27:32.353Z</td></tr><tr><td>F0051</td><td>Qatar Airways</td><td>Lisafurt</td><td>New Robert</td><td>2025-05-07</td><td>2025-08-06T21:41:44.844Z</td><td>51</td><td>2025-08-12T20:06:43.130Z</td><td>2025-08-12T20:27:32.353Z</td></tr><tr><td>F0052</td><td>Qatar Airways</td><td>Lake Richard</td><td>Brookston</td><td>2025-05-28</td><td>2025-08-06T21:41:44.844Z</td><td>52</td><td>2025-08-12T20:06:43.130Z</td><td>2025-08-12T20:27:32.353Z</td></tr><tr><td>F0053</td><td>Qatar Airways</td><td>West Dylanbury</td><td>North Wendy</td><td>2025-05-24</td><td>2025-08-06T21:41:44.844Z</td><td>53</td><td>2025-08-12T20:06:43.130Z</td><td>2025-08-12T20:27:32.353Z</td></tr><tr><td>F0054</td><td>Air Canada</td><td>Seanmouth</td><td>North Kathyton</td><td>2025-05-09</td><td>2025-08-06T21:41:44.844Z</td><td>54</td><td>2025-08-12T20:06:43.130Z</td><td>2025-08-12T20:27:32.353Z</td></tr><tr><td>F0055</td><td>Air Canada</td><td>Spencerborough</td><td>Randyville</td><td>2025-06-09</td><td>2025-08-06T21:41:44.844Z</td><td>55</td><td>2025-08-12T20:06:43.130Z</td><td>2025-08-12T20:27:32.353Z</td></tr><tr><td>F0056</td><td>Lufthansa</td><td>South Natalie</td><td>Schaefertown</td><td>2025-05-03</td><td>2025-08-06T21:41:44.844Z</td><td>56</td><td>2025-08-12T20:06:43.130Z</td><td>2025-08-12T20:27:32.353Z</td></tr><tr><td>F0057</td><td>Air Canada</td><td>Samanthashire</td><td>Fisherstad</td><td>2025-06-09</td><td>2025-08-06T21:41:44.844Z</td><td>57</td><td>2025-08-12T20:06:43.130Z</td><td>2025-08-12T20:27:32.353Z</td></tr><tr><td>F0058</td><td>Delta</td><td>North Brittanyborough</td><td>West Kellystad</td><td>2025-06-10</td><td>2025-08-06T21:41:44.844Z</td><td>58</td><td>2025-08-12T20:06:43.130Z</td><td>2025-08-12T20:27:32.353Z</td></tr><tr><td>F0059</td><td>Lufthansa</td><td>South Jeffrey</td><td>Jamesland</td><td>2025-05-10</td><td>2025-08-06T21:41:44.844Z</td><td>59</td><td>2025-08-12T20:06:43.130Z</td><td>2025-08-12T20:27:32.353Z</td></tr><tr><td>F0060</td><td>Air Canada</td><td>Port Angelicaborough</td><td>East Daniel</td><td>2025-05-21</td><td>2025-08-06T21:41:44.844Z</td><td>60</td><td>2025-08-12T20:06:43.130Z</td><td>2025-08-12T20:27:32.353Z</td></tr><tr><td>F0061</td><td>Lufthansa</td><td>Dawnshire</td><td>Stevenmouth</td><td>2025-04-24</td><td>2025-08-06T21:41:44.844Z</td><td>61</td><td>2025-08-12T20:06:43.130Z</td><td>2025-08-12T20:27:32.353Z</td></tr><tr><td>F0062</td><td>Lufthansa</td><td>East Samanthafurt</td><td>Lake Troy</td><td>2025-05-12</td><td>2025-08-06T21:41:44.844Z</td><td>62</td><td>2025-08-12T20:06:43.130Z</td><td>2025-08-12T20:27:32.353Z</td></tr><tr><td>F0063</td><td>Lufthansa</td><td>Floresshire</td><td>New Anita</td><td>2025-06-03</td><td>2025-08-06T21:41:44.844Z</td><td>63</td><td>2025-08-12T20:06:43.130Z</td><td>2025-08-12T20:27:32.353Z</td></tr><tr><td>F0064</td><td>Delta</td><td>East Joshuastad</td><td>North Austinland</td><td>2025-05-25</td><td>2025-08-06T21:41:44.844Z</td><td>64</td><td>2025-08-12T20:06:43.130Z</td><td>2025-08-12T20:27:32.353Z</td></tr><tr><td>F0065</td><td>Emirates</td><td>East Paulland</td><td>Barnesberg</td><td>2025-04-29</td><td>2025-08-06T21:41:44.844Z</td><td>65</td><td>2025-08-12T20:06:43.130Z</td><td>2025-08-12T20:27:32.353Z</td></tr><tr><td>F0066</td><td>Qatar Airways</td><td>Stephenberg</td><td>Marcborough</td><td>2025-06-04</td><td>2025-08-06T21:41:44.844Z</td><td>66</td><td>2025-08-12T20:06:43.130Z</td><td>2025-08-12T20:27:32.353Z</td></tr><tr><td>F0067</td><td>Delta</td><td>Campbellborough</td><td>South Jason</td><td>2025-05-13</td><td>2025-08-06T21:41:44.844Z</td><td>67</td><td>2025-08-12T20:06:43.130Z</td><td>2025-08-12T20:27:32.353Z</td></tr><tr><td>F0068</td><td>Qatar Airways</td><td>Lake Seanport</td><td>Fieldsstad</td><td>2025-06-17</td><td>2025-08-06T21:41:44.844Z</td><td>68</td><td>2025-08-12T20:06:43.130Z</td><td>2025-08-12T20:27:32.353Z</td></tr><tr><td>F0069</td><td>Qatar Airways</td><td>Johnsonburgh</td><td>Woodmouth</td><td>2025-06-14</td><td>2025-08-06T21:41:44.844Z</td><td>69</td><td>2025-08-12T20:06:43.130Z</td><td>2025-08-12T20:27:32.353Z</td></tr><tr><td>F0070</td><td>Air Canada</td><td>Glennhaven</td><td>Port Darrenchester</td><td>2025-05-04</td><td>2025-08-06T21:41:44.844Z</td><td>70</td><td>2025-08-12T20:06:43.130Z</td><td>2025-08-12T20:27:32.353Z</td></tr><tr><td>F0071</td><td>Delta</td><td>Jefferyberg</td><td>Wendyshire</td><td>2025-06-17</td><td>2025-08-06T21:41:44.844Z</td><td>71</td><td>2025-08-12T20:06:43.130Z</td><td>2025-08-12T20:27:32.353Z</td></tr><tr><td>F0072</td><td>Emirates</td><td>Heiditown</td><td>Port Sabrinaburgh</td><td>2025-05-22</td><td>2025-08-06T21:41:44.844Z</td><td>72</td><td>2025-08-12T20:06:43.130Z</td><td>2025-08-12T20:27:32.353Z</td></tr><tr><td>F0073</td><td>Lufthansa</td><td>South Jasonville</td><td>Clarkeshire</td><td>2025-06-09</td><td>2025-08-06T21:41:44.844Z</td><td>73</td><td>2025-08-12T20:06:43.130Z</td><td>2025-08-12T20:27:32.353Z</td></tr><tr><td>F0074</td><td>Air Canada</td><td>Duffyville</td><td>Port Vanessa</td><td>2025-05-28</td><td>2025-08-06T21:41:44.844Z</td><td>74</td><td>2025-08-12T20:06:43.130Z</td><td>2025-08-12T20:27:32.353Z</td></tr><tr><td>F0075</td><td>Qatar Airways</td><td>New Danielhaven</td><td>Cunninghamfurt</td><td>2025-04-27</td><td>2025-08-06T21:41:44.844Z</td><td>75</td><td>2025-08-12T20:06:43.130Z</td><td>2025-08-12T20:27:32.353Z</td></tr><tr><td>F0076</td><td>Lufthansa</td><td>Johnsonchester</td><td>New Michael</td><td>2025-05-14</td><td>2025-08-06T21:41:44.844Z</td><td>76</td><td>2025-08-12T20:06:43.130Z</td><td>2025-08-12T20:27:32.353Z</td></tr><tr><td>F0077</td><td>Qatar Airways</td><td>Samuelfort</td><td>Port Ashley</td><td>2025-06-12</td><td>2025-08-06T21:41:44.844Z</td><td>77</td><td>2025-08-12T20:06:43.130Z</td><td>2025-08-12T20:27:32.353Z</td></tr><tr><td>F0078</td><td>Qatar Airways</td><td>Howardbury</td><td>Burchburgh</td><td>2025-05-09</td><td>2025-08-06T21:41:44.844Z</td><td>78</td><td>2025-08-12T20:06:43.130Z</td><td>2025-08-12T20:27:32.353Z</td></tr><tr><td>F0079</td><td>Delta</td><td>Jonesburgh</td><td>Andradeville</td><td>2025-06-17</td><td>2025-08-06T21:41:44.844Z</td><td>79</td><td>2025-08-12T20:06:43.130Z</td><td>2025-08-12T20:27:32.353Z</td></tr><tr><td>F0080</td><td>Emirates</td><td>Sonyaberg</td><td>East Sarah</td><td>2025-06-13</td><td>2025-08-06T21:41:44.844Z</td><td>80</td><td>2025-08-12T20:06:43.130Z</td><td>2025-08-12T20:27:32.353Z</td></tr><tr><td>F0081</td><td>Air Canada</td><td>North Barry</td><td>Josephborough</td><td>2025-04-24</td><td>2025-08-06T21:41:44.844Z</td><td>81</td><td>2025-08-12T20:06:43.130Z</td><td>2025-08-12T20:27:32.353Z</td></tr><tr><td>F0082</td><td>Qatar Airways</td><td>North Erikamouth</td><td>Danielfort</td><td>2025-05-19</td><td>2025-08-06T21:41:44.844Z</td><td>82</td><td>2025-08-12T20:06:43.130Z</td><td>2025-08-12T20:27:32.353Z</td></tr><tr><td>F0083</td><td>Lufthansa</td><td>Jasonborough</td><td>Port Audreyville</td><td>2025-05-30</td><td>2025-08-06T21:41:44.844Z</td><td>83</td><td>2025-08-12T20:06:43.130Z</td><td>2025-08-12T20:27:32.353Z</td></tr><tr><td>F0084</td><td>Delta</td><td>Franklinmouth</td><td>Lake Joseph</td><td>2025-05-30</td><td>2025-08-06T21:41:44.844Z</td><td>84</td><td>2025-08-12T20:06:43.130Z</td><td>2025-08-12T20:27:32.353Z</td></tr><tr><td>F0085</td><td>Lufthansa</td><td>Hillton</td><td>Castroborough</td><td>2025-05-19</td><td>2025-08-06T21:41:44.844Z</td><td>85</td><td>2025-08-12T20:06:43.130Z</td><td>2025-08-12T20:27:32.353Z</td></tr><tr><td>F0086</td><td>Delta</td><td>Port Chelsea</td><td>Robertchester</td><td>2025-05-08</td><td>2025-08-06T21:41:44.844Z</td><td>86</td><td>2025-08-12T20:06:43.130Z</td><td>2025-08-12T20:27:32.353Z</td></tr><tr><td>F0087</td><td>Emirates</td><td>Kellyland</td><td>New Jonathanmouth</td><td>2025-04-23</td><td>2025-08-06T21:41:44.844Z</td><td>87</td><td>2025-08-12T20:06:43.130Z</td><td>2025-08-12T20:27:32.353Z</td></tr><tr><td>F0088</td><td>Qatar Airways</td><td>North Miguel</td><td>Lake Allisonfurt</td><td>2025-05-28</td><td>2025-08-06T21:41:44.844Z</td><td>88</td><td>2025-08-12T20:06:43.130Z</td><td>2025-08-12T20:27:32.353Z</td></tr><tr><td>F0089</td><td>Qatar Airways</td><td>Robinsonberg</td><td>Adrianchester</td><td>2025-05-21</td><td>2025-08-06T21:41:44.844Z</td><td>89</td><td>2025-08-12T20:06:43.130Z</td><td>2025-08-12T20:27:32.353Z</td></tr><tr><td>F0090</td><td>Delta</td><td>East Rachelport</td><td>Davisport</td><td>2025-05-23</td><td>2025-08-06T21:41:44.844Z</td><td>90</td><td>2025-08-12T20:06:43.130Z</td><td>2025-08-12T20:27:32.353Z</td></tr><tr><td>F0091</td><td>Lufthansa</td><td>Lake Scott</td><td>Williamshire</td><td>2025-06-04</td><td>2025-08-06T21:41:44.844Z</td><td>91</td><td>2025-08-12T20:06:43.130Z</td><td>2025-08-12T20:27:32.353Z</td></tr><tr><td>F0092</td><td>Lufthansa</td><td>Austinborough</td><td>Bautistafort</td><td>2025-05-29</td><td>2025-08-06T21:41:44.844Z</td><td>92</td><td>2025-08-12T20:06:43.130Z</td><td>2025-08-12T20:27:32.353Z</td></tr><tr><td>F0093</td><td>Air Canada</td><td>Frenchside</td><td>West Christopher</td><td>2025-05-28</td><td>2025-08-06T21:41:44.844Z</td><td>93</td><td>2025-08-12T20:06:43.130Z</td><td>2025-08-12T20:27:32.353Z</td></tr><tr><td>F0094</td><td>Emirates</td><td>South Amyfurt</td><td>Jimenezview</td><td>2025-06-14</td><td>2025-08-06T21:41:44.844Z</td><td>94</td><td>2025-08-12T20:06:43.130Z</td><td>2025-08-12T20:27:32.353Z</td></tr><tr><td>F0095</td><td>Qatar Airways</td><td>North Dawnberg</td><td>East Sarahmouth</td><td>2025-05-26</td><td>2025-08-06T21:41:44.844Z</td><td>95</td><td>2025-08-12T20:06:43.130Z</td><td>2025-08-12T20:27:32.353Z</td></tr><tr><td>F0096</td><td>Lufthansa</td><td>Coreyfort</td><td>West Joseph</td><td>2025-06-06</td><td>2025-08-06T21:41:44.844Z</td><td>96</td><td>2025-08-12T20:06:43.130Z</td><td>2025-08-12T20:27:32.353Z</td></tr><tr><td>F0097</td><td>Emirates</td><td>Billyport</td><td>Brentton</td><td>2025-05-18</td><td>2025-08-06T21:41:44.844Z</td><td>97</td><td>2025-08-12T20:06:43.130Z</td><td>2025-08-12T20:27:32.353Z</td></tr><tr><td>F0098</td><td>Air Canada</td><td>Wallerburgh</td><td>Lake Karen</td><td>2025-05-01</td><td>2025-08-06T21:41:44.844Z</td><td>98</td><td>2025-08-12T20:06:43.130Z</td><td>2025-08-12T20:27:32.353Z</td></tr><tr><td>F0099</td><td>Air Canada</td><td>Lake Connor</td><td>Matthewberg</td><td>2025-04-28</td><td>2025-08-06T21:41:44.844Z</td><td>99</td><td>2025-08-12T20:06:43.130Z</td><td>2025-08-12T20:27:32.353Z</td></tr><tr><td>F0100</td><td>Qatar Airways</td><td>Port Anthony</td><td>Thompsonfort</td><td>2025-05-31</td><td>2025-08-06T21:41:44.844Z</td><td>100</td><td>2025-08-12T20:06:43.130Z</td><td>2025-08-12T20:27:32.353Z</td></tr><tr><td>F0101</td><td>Qatar Airways</td><td>Lake Joshuamouth</td><td>Johnshire</td><td>2025-07-14</td><td>2025-08-06T21:41:44.844Z</td><td>101</td><td>2025-08-12T20:06:43.130Z</td><td>2025-08-12T20:27:32.353Z</td></tr><tr><td>F0102</td><td>Delta</td><td>Schroederbury</td><td>Sethfort</td><td>2025-06-25</td><td>2025-08-06T21:41:44.844Z</td><td>102</td><td>2025-08-12T20:06:43.130Z</td><td>2025-08-12T20:27:32.353Z</td></tr><tr><td>F0103</td><td>Qatar Airways</td><td>Jameschester</td><td>Ashleyberg</td><td>2025-07-15</td><td>2025-08-06T21:41:44.844Z</td><td>103</td><td>2025-08-12T20:06:43.130Z</td><td>2025-08-12T20:27:32.353Z</td></tr><tr><td>F0104</td><td>Qatar Airways</td><td>Huangstad</td><td>Catherinehaven</td><td>2025-06-29</td><td>2025-08-06T21:41:44.844Z</td><td>104</td><td>2025-08-12T20:06:43.130Z</td><td>2025-08-12T20:27:32.353Z</td></tr><tr><td>F0105</td><td>Air Canada</td><td>Aprilton</td><td>Victorville</td><td>2025-07-05</td><td>2025-08-06T21:41:44.844Z</td><td>105</td><td>2025-08-12T20:06:43.130Z</td><td>2025-08-12T20:27:32.353Z</td></tr><tr><td>F0106</td><td>Lufthansa</td><td>East Austinmouth</td><td>New Toddburgh</td><td>2025-06-22</td><td>2025-08-06T21:41:44.844Z</td><td>106</td><td>2025-08-12T20:06:43.130Z</td><td>2025-08-12T20:27:32.353Z</td></tr><tr><td>F0107</td><td>Air Canada</td><td>Mitchelltown</td><td>Johnsonbury</td><td>2025-07-01</td><td>2025-08-06T21:41:44.844Z</td><td>107</td><td>2025-08-12T20:06:43.130Z</td><td>2025-08-12T20:27:32.353Z</td></tr><tr><td>F0108</td><td>Lufthansa</td><td>New Jennifer</td><td>Lake Tracie</td><td>2025-06-28</td><td>2025-08-06T21:41:44.844Z</td><td>108</td><td>2025-08-12T20:06:43.130Z</td><td>2025-08-12T20:27:32.353Z</td></tr><tr><td>F0109</td><td>Air Canada</td><td>Williamsland</td><td>South Carolberg</td><td>2025-06-14</td><td>2025-08-06T21:41:44.844Z</td><td>109</td><td>2025-08-12T20:06:43.130Z</td><td>2025-08-12T20:27:32.353Z</td></tr><tr><td>F0110</td><td>Emirates</td><td>Churchport</td><td>Wrightton</td><td>2025-07-15</td><td>2025-08-06T21:41:44.844Z</td><td>110</td><td>2025-08-12T20:06:43.130Z</td><td>2025-08-12T20:27:32.353Z</td></tr></tbody></table></div>"
      ]
     },
     "metadata": {
      "application/vnd.databricks.v1+output": {
       "addedWidgets": {},
       "aggData": [],
       "aggError": "",
       "aggOverflow": false,
       "aggSchema": [],
       "aggSeriesLimitReached": false,
       "aggType": "",
       "arguments": {},
       "columnCustomDisplayInfos": {},
       "data": [
        [
         "F0001",
         "Delta",
         "Kellyfort",
         "South Kathleen",
         "2025-05-04",
         "2025-08-06T21:41:44.844Z",
         1,
         "2025-08-12T20:06:43.130Z",
         "2025-08-12T20:27:32.353Z"
        ],
        [
         "F0002",
         "Qatar Airways",
         "Lake Stephen",
         "New Vincent",
         "2025-04-29",
         "2025-08-06T21:41:44.844Z",
         2,
         "2025-08-12T20:06:43.130Z",
         "2025-08-12T20:27:32.353Z"
        ],
        [
         "F0003",
         "Lufthansa",
         "East Patrickborough",
         "North Mary",
         "2025-05-11",
         "2025-08-06T21:41:44.844Z",
         3,
         "2025-08-12T20:06:43.130Z",
         "2025-08-12T20:27:32.353Z"
        ],
        [
         "F0004",
         "Delta",
         "Maddenshire",
         "Johnchester",
         "2025-05-16",
         "2025-08-06T21:41:44.844Z",
         4,
         "2025-08-12T20:06:43.130Z",
         "2025-08-12T20:27:32.353Z"
        ],
        [
         "F0005",
         "Qatar Airways",
         "Bennettside",
         "New Mistyhaven",
         "2025-06-13",
         "2025-08-06T21:41:44.844Z",
         5,
         "2025-08-12T20:06:43.130Z",
         "2025-08-12T20:27:32.353Z"
        ],
        [
         "F0006",
         "Air Canada",
         "New Richardside",
         "South Jamesborough",
         "2025-05-16",
         "2025-08-06T21:41:44.844Z",
         6,
         "2025-08-12T20:06:43.130Z",
         "2025-08-12T20:27:32.353Z"
        ],
        [
         "F0007",
         "Delta",
         "Berryport",
         "Miguelburgh",
         "2025-05-24",
         "2025-08-06T21:41:44.844Z",
         7,
         "2025-08-12T20:06:43.130Z",
         "2025-08-12T20:27:32.353Z"
        ],
        [
         "F0008",
         "Lufthansa",
         "Briannachester",
         "Cervantesland",
         "2025-05-26",
         "2025-08-06T21:41:44.844Z",
         8,
         "2025-08-12T20:06:43.130Z",
         "2025-08-12T20:27:32.353Z"
        ],
        [
         "F0009",
         "Delta",
         "Alexandraborough",
         "North Alexishaven",
         "2025-06-10",
         "2025-08-06T21:41:44.844Z",
         9,
         "2025-08-12T20:06:43.130Z",
         "2025-08-12T20:27:32.353Z"
        ],
        [
         "F0010",
         "Emirates",
         "Kruegerchester",
         "Martintown",
         "2025-05-20",
         "2025-08-06T21:41:44.844Z",
         10,
         "2025-08-12T20:06:43.130Z",
         "2025-08-12T20:27:32.353Z"
        ],
        [
         "F0011",
         "Lufthansa",
         "Port Joannahaven",
         "North Jasonton",
         "2025-05-30",
         "2025-08-06T21:41:44.844Z",
         11,
         "2025-08-12T20:06:43.130Z",
         "2025-08-12T20:27:32.353Z"
        ],
        [
         "F0012",
         "Air Canada",
         "New Hunter",
         "East Maria",
         "2025-04-23",
         "2025-08-06T21:41:44.844Z",
         12,
         "2025-08-12T20:06:43.130Z",
         "2025-08-12T20:27:32.353Z"
        ],
        [
         "F0013",
         "Air Canada",
         "East Brian",
         "Wayneton",
         "2025-05-21",
         "2025-08-06T21:41:44.844Z",
         13,
         "2025-08-12T20:06:43.130Z",
         "2025-08-12T20:27:32.353Z"
        ],
        [
         "F0014",
         "Air Canada",
         "Toddland",
         "Gonzalezport",
         "2025-05-28",
         "2025-08-06T21:41:44.844Z",
         14,
         "2025-08-12T20:06:43.130Z",
         "2025-08-12T20:27:32.353Z"
        ],
        [
         "F0015",
         "Delta",
         "West Ginaton",
         "Youngmouth",
         "2025-05-21",
         "2025-08-06T21:41:44.844Z",
         15,
         "2025-08-12T20:06:43.130Z",
         "2025-08-12T20:27:32.353Z"
        ],
        [
         "F0016",
         "Qatar Airways",
         "Smithborough",
         "Randallview",
         "2025-05-02",
         "2025-08-06T21:41:44.844Z",
         16,
         "2025-08-12T20:06:43.130Z",
         "2025-08-12T20:27:32.353Z"
        ],
        [
         "F0017",
         "Delta",
         "Wallermouth",
         "New Rogerberg",
         "2025-05-04",
         "2025-08-06T21:41:44.844Z",
         17,
         "2025-08-12T20:06:43.130Z",
         "2025-08-12T20:27:32.353Z"
        ],
        [
         "F0018",
         "Air Canada",
         "Schultzborough",
         "Danielton",
         "2025-06-01",
         "2025-08-06T21:41:44.844Z",
         18,
         "2025-08-12T20:06:43.130Z",
         "2025-08-12T20:27:32.353Z"
        ],
        [
         "F0019",
         "Lufthansa",
         "Lake Scott",
         "Christineborough",
         "2025-05-18",
         "2025-08-06T21:41:44.844Z",
         19,
         "2025-08-12T20:06:43.130Z",
         "2025-08-12T20:27:32.353Z"
        ],
        [
         "F0020",
         "Lufthansa",
         "North Jack",
         "Loweville",
         "2025-06-02",
         "2025-08-06T21:41:44.844Z",
         20,
         "2025-08-12T20:06:43.130Z",
         "2025-08-12T20:27:32.353Z"
        ],
        [
         "F0021",
         "Emirates",
         "South Sara",
         "North Annaport",
         "2025-05-29",
         "2025-08-06T21:41:44.844Z",
         21,
         "2025-08-12T20:06:43.130Z",
         "2025-08-12T20:27:32.353Z"
        ],
        [
         "F0022",
         "Air Canada",
         "Reedchester",
         "Cruzton",
         "2025-04-27",
         "2025-08-06T21:41:44.844Z",
         22,
         "2025-08-12T20:06:43.130Z",
         "2025-08-12T20:27:32.353Z"
        ],
        [
         "F0023",
         "Lufthansa",
         "Port Jeremyfurt",
         "Lake Walterside",
         "2025-05-11",
         "2025-08-06T21:41:44.844Z",
         23,
         "2025-08-12T20:06:43.130Z",
         "2025-08-12T20:27:32.353Z"
        ],
        [
         "F0024",
         "Lufthansa",
         "Leestad",
         "Port Debra",
         "2025-05-09",
         "2025-08-06T21:41:44.844Z",
         24,
         "2025-08-12T20:06:43.130Z",
         "2025-08-12T20:27:32.353Z"
        ],
        [
         "F0025",
         "Qatar Airways",
         "Chelseaberg",
         "North Michaelshire",
         "2025-06-01",
         "2025-08-06T21:41:44.844Z",
         25,
         "2025-08-12T20:06:43.130Z",
         "2025-08-12T20:27:32.353Z"
        ],
        [
         "F0026",
         "Air Canada",
         "New Deborahfort",
         "New Sabrina",
         "2025-05-10",
         "2025-08-06T21:41:44.844Z",
         26,
         "2025-08-12T20:06:43.130Z",
         "2025-08-12T20:27:32.353Z"
        ],
        [
         "F0027",
         "Delta",
         "Acevedoville",
         "Ericchester",
         "2025-05-14",
         "2025-08-06T21:41:44.844Z",
         27,
         "2025-08-12T20:06:43.130Z",
         "2025-08-12T20:27:32.353Z"
        ],
        [
         "F0028",
         "Delta",
         "South Michaelberg",
         "South Markbury",
         "2025-05-30",
         "2025-08-06T21:41:44.844Z",
         28,
         "2025-08-12T20:06:43.130Z",
         "2025-08-12T20:27:32.353Z"
        ],
        [
         "F0029",
         "Qatar Airways",
         "Shortberg",
         "Julieburgh",
         "2025-05-11",
         "2025-08-06T21:41:44.844Z",
         29,
         "2025-08-12T20:06:43.130Z",
         "2025-08-12T20:27:32.353Z"
        ],
        [
         "F0030",
         "Delta",
         "Angelamouth",
         "Sosaside",
         "2025-06-16",
         "2025-08-06T21:41:44.844Z",
         30,
         "2025-08-12T20:06:43.130Z",
         "2025-08-12T20:27:32.353Z"
        ],
        [
         "F0031",
         "Emirates",
         "Billview",
         "Jonathonborough",
         "2025-06-14",
         "2025-08-06T21:41:44.844Z",
         31,
         "2025-08-12T20:06:43.130Z",
         "2025-08-12T20:27:32.353Z"
        ],
        [
         "F0032",
         "Emirates",
         "Bushhaven",
         "Patriciamouth",
         "2025-05-22",
         "2025-08-06T21:41:44.844Z",
         32,
         "2025-08-12T20:06:43.130Z",
         "2025-08-12T20:27:32.353Z"
        ],
        [
         "F0033",
         "Air Canada",
         "Sandersshire",
         "Lake Joseside",
         "2025-06-21",
         "2025-08-06T21:41:44.844Z",
         33,
         "2025-08-12T20:06:43.130Z",
         "2025-08-12T20:27:32.353Z"
        ],
        [
         "F0034",
         "Emirates",
         "Johnsonville",
         "Cooperland",
         "2025-05-18",
         "2025-08-06T21:41:44.844Z",
         34,
         "2025-08-12T20:06:43.130Z",
         "2025-08-12T20:27:32.353Z"
        ],
        [
         "F0035",
         "Lufthansa",
         "Karenshire",
         "North Anthonymouth",
         "2025-05-21",
         "2025-08-06T21:41:44.844Z",
         35,
         "2025-08-12T20:06:43.130Z",
         "2025-08-12T20:27:32.353Z"
        ],
        [
         "F0036",
         "Lufthansa",
         "Armstrongbury",
         "North Natashamouth",
         "2025-05-05",
         "2025-08-06T21:41:44.844Z",
         36,
         "2025-08-12T20:06:43.130Z",
         "2025-08-12T20:27:32.353Z"
        ],
        [
         "F0037",
         "Air Canada",
         "Yangville",
         "Jacksonview",
         "2025-04-29",
         "2025-08-06T21:41:44.844Z",
         37,
         "2025-08-12T20:06:43.130Z",
         "2025-08-12T20:27:32.353Z"
        ],
        [
         "F0038",
         "Delta",
         "Port Nicole",
         "South Corey",
         "2025-05-22",
         "2025-08-06T21:41:44.844Z",
         38,
         "2025-08-12T20:06:43.130Z",
         "2025-08-12T20:27:32.353Z"
        ],
        [
         "F0039",
         "Air Canada",
         "Paultown",
         "Kellyton",
         "2025-05-19",
         "2025-08-06T21:41:44.844Z",
         39,
         "2025-08-12T20:06:43.130Z",
         "2025-08-12T20:27:32.353Z"
        ],
        [
         "F0040",
         "Delta",
         "Ianport",
         "Lake Reginaldside",
         "2025-04-23",
         "2025-08-06T21:41:44.844Z",
         40,
         "2025-08-12T20:06:43.130Z",
         "2025-08-12T20:27:32.353Z"
        ],
        [
         "F0041",
         "Air Canada",
         "Lake Stanleyside",
         "Port Scott",
         "2025-06-14",
         "2025-08-06T21:41:44.844Z",
         41,
         "2025-08-12T20:06:43.130Z",
         "2025-08-12T20:27:32.353Z"
        ],
        [
         "F0042",
         "Air Canada",
         "Port William",
         "Darrenmouth",
         "2025-05-11",
         "2025-08-06T21:41:44.844Z",
         42,
         "2025-08-12T20:06:43.130Z",
         "2025-08-12T20:27:32.353Z"
        ],
        [
         "F0043",
         "Lufthansa",
         "Kimberlyborough",
         "New Annfort",
         "2025-05-15",
         "2025-08-06T21:41:44.844Z",
         43,
         "2025-08-12T20:06:43.130Z",
         "2025-08-12T20:27:32.353Z"
        ],
        [
         "F0044",
         "Qatar Airways",
         "East Kaylaburgh",
         "Lake Carolynchester",
         "2025-06-01",
         "2025-08-06T21:41:44.844Z",
         44,
         "2025-08-12T20:06:43.130Z",
         "2025-08-12T20:27:32.353Z"
        ],
        [
         "F0045",
         "Emirates",
         "North Michaelville",
         "Russellton",
         "2025-05-04",
         "2025-08-06T21:41:44.844Z",
         45,
         "2025-08-12T20:06:43.130Z",
         "2025-08-12T20:27:32.353Z"
        ],
        [
         "F0046",
         "Qatar Airways",
         "West David",
         "North Becky",
         "2025-04-30",
         "2025-08-06T21:41:44.844Z",
         46,
         "2025-08-12T20:06:43.130Z",
         "2025-08-12T20:27:32.353Z"
        ],
        [
         "F0047",
         "Lufthansa",
         "New Cory",
         "Lorettashire",
         "2025-05-05",
         "2025-08-06T21:41:44.844Z",
         47,
         "2025-08-12T20:06:43.130Z",
         "2025-08-12T20:27:32.353Z"
        ],
        [
         "F0048",
         "Lufthansa",
         "Cooperview",
         "Michelleburgh",
         "2025-05-24",
         "2025-08-06T21:41:44.844Z",
         48,
         "2025-08-12T20:06:43.130Z",
         "2025-08-12T20:27:32.353Z"
        ],
        [
         "F0049",
         "Emirates",
         "New Elizabethmouth",
         "Lake Heathermouth",
         "2025-05-06",
         "2025-08-06T21:41:44.844Z",
         49,
         "2025-08-12T20:06:43.130Z",
         "2025-08-12T20:27:32.353Z"
        ],
        [
         "F0050",
         "Air Canada",
         "East Gailtown",
         "Stevenville",
         "2025-04-28",
         "2025-08-06T21:41:44.844Z",
         50,
         "2025-08-12T20:06:43.130Z",
         "2025-08-12T20:27:32.353Z"
        ],
        [
         "F0051",
         "Qatar Airways",
         "Lisafurt",
         "New Robert",
         "2025-05-07",
         "2025-08-06T21:41:44.844Z",
         51,
         "2025-08-12T20:06:43.130Z",
         "2025-08-12T20:27:32.353Z"
        ],
        [
         "F0052",
         "Qatar Airways",
         "Lake Richard",
         "Brookston",
         "2025-05-28",
         "2025-08-06T21:41:44.844Z",
         52,
         "2025-08-12T20:06:43.130Z",
         "2025-08-12T20:27:32.353Z"
        ],
        [
         "F0053",
         "Qatar Airways",
         "West Dylanbury",
         "North Wendy",
         "2025-05-24",
         "2025-08-06T21:41:44.844Z",
         53,
         "2025-08-12T20:06:43.130Z",
         "2025-08-12T20:27:32.353Z"
        ],
        [
         "F0054",
         "Air Canada",
         "Seanmouth",
         "North Kathyton",
         "2025-05-09",
         "2025-08-06T21:41:44.844Z",
         54,
         "2025-08-12T20:06:43.130Z",
         "2025-08-12T20:27:32.353Z"
        ],
        [
         "F0055",
         "Air Canada",
         "Spencerborough",
         "Randyville",
         "2025-06-09",
         "2025-08-06T21:41:44.844Z",
         55,
         "2025-08-12T20:06:43.130Z",
         "2025-08-12T20:27:32.353Z"
        ],
        [
         "F0056",
         "Lufthansa",
         "South Natalie",
         "Schaefertown",
         "2025-05-03",
         "2025-08-06T21:41:44.844Z",
         56,
         "2025-08-12T20:06:43.130Z",
         "2025-08-12T20:27:32.353Z"
        ],
        [
         "F0057",
         "Air Canada",
         "Samanthashire",
         "Fisherstad",
         "2025-06-09",
         "2025-08-06T21:41:44.844Z",
         57,
         "2025-08-12T20:06:43.130Z",
         "2025-08-12T20:27:32.353Z"
        ],
        [
         "F0058",
         "Delta",
         "North Brittanyborough",
         "West Kellystad",
         "2025-06-10",
         "2025-08-06T21:41:44.844Z",
         58,
         "2025-08-12T20:06:43.130Z",
         "2025-08-12T20:27:32.353Z"
        ],
        [
         "F0059",
         "Lufthansa",
         "South Jeffrey",
         "Jamesland",
         "2025-05-10",
         "2025-08-06T21:41:44.844Z",
         59,
         "2025-08-12T20:06:43.130Z",
         "2025-08-12T20:27:32.353Z"
        ],
        [
         "F0060",
         "Air Canada",
         "Port Angelicaborough",
         "East Daniel",
         "2025-05-21",
         "2025-08-06T21:41:44.844Z",
         60,
         "2025-08-12T20:06:43.130Z",
         "2025-08-12T20:27:32.353Z"
        ],
        [
         "F0061",
         "Lufthansa",
         "Dawnshire",
         "Stevenmouth",
         "2025-04-24",
         "2025-08-06T21:41:44.844Z",
         61,
         "2025-08-12T20:06:43.130Z",
         "2025-08-12T20:27:32.353Z"
        ],
        [
         "F0062",
         "Lufthansa",
         "East Samanthafurt",
         "Lake Troy",
         "2025-05-12",
         "2025-08-06T21:41:44.844Z",
         62,
         "2025-08-12T20:06:43.130Z",
         "2025-08-12T20:27:32.353Z"
        ],
        [
         "F0063",
         "Lufthansa",
         "Floresshire",
         "New Anita",
         "2025-06-03",
         "2025-08-06T21:41:44.844Z",
         63,
         "2025-08-12T20:06:43.130Z",
         "2025-08-12T20:27:32.353Z"
        ],
        [
         "F0064",
         "Delta",
         "East Joshuastad",
         "North Austinland",
         "2025-05-25",
         "2025-08-06T21:41:44.844Z",
         64,
         "2025-08-12T20:06:43.130Z",
         "2025-08-12T20:27:32.353Z"
        ],
        [
         "F0065",
         "Emirates",
         "East Paulland",
         "Barnesberg",
         "2025-04-29",
         "2025-08-06T21:41:44.844Z",
         65,
         "2025-08-12T20:06:43.130Z",
         "2025-08-12T20:27:32.353Z"
        ],
        [
         "F0066",
         "Qatar Airways",
         "Stephenberg",
         "Marcborough",
         "2025-06-04",
         "2025-08-06T21:41:44.844Z",
         66,
         "2025-08-12T20:06:43.130Z",
         "2025-08-12T20:27:32.353Z"
        ],
        [
         "F0067",
         "Delta",
         "Campbellborough",
         "South Jason",
         "2025-05-13",
         "2025-08-06T21:41:44.844Z",
         67,
         "2025-08-12T20:06:43.130Z",
         "2025-08-12T20:27:32.353Z"
        ],
        [
         "F0068",
         "Qatar Airways",
         "Lake Seanport",
         "Fieldsstad",
         "2025-06-17",
         "2025-08-06T21:41:44.844Z",
         68,
         "2025-08-12T20:06:43.130Z",
         "2025-08-12T20:27:32.353Z"
        ],
        [
         "F0069",
         "Qatar Airways",
         "Johnsonburgh",
         "Woodmouth",
         "2025-06-14",
         "2025-08-06T21:41:44.844Z",
         69,
         "2025-08-12T20:06:43.130Z",
         "2025-08-12T20:27:32.353Z"
        ],
        [
         "F0070",
         "Air Canada",
         "Glennhaven",
         "Port Darrenchester",
         "2025-05-04",
         "2025-08-06T21:41:44.844Z",
         70,
         "2025-08-12T20:06:43.130Z",
         "2025-08-12T20:27:32.353Z"
        ],
        [
         "F0071",
         "Delta",
         "Jefferyberg",
         "Wendyshire",
         "2025-06-17",
         "2025-08-06T21:41:44.844Z",
         71,
         "2025-08-12T20:06:43.130Z",
         "2025-08-12T20:27:32.353Z"
        ],
        [
         "F0072",
         "Emirates",
         "Heiditown",
         "Port Sabrinaburgh",
         "2025-05-22",
         "2025-08-06T21:41:44.844Z",
         72,
         "2025-08-12T20:06:43.130Z",
         "2025-08-12T20:27:32.353Z"
        ],
        [
         "F0073",
         "Lufthansa",
         "South Jasonville",
         "Clarkeshire",
         "2025-06-09",
         "2025-08-06T21:41:44.844Z",
         73,
         "2025-08-12T20:06:43.130Z",
         "2025-08-12T20:27:32.353Z"
        ],
        [
         "F0074",
         "Air Canada",
         "Duffyville",
         "Port Vanessa",
         "2025-05-28",
         "2025-08-06T21:41:44.844Z",
         74,
         "2025-08-12T20:06:43.130Z",
         "2025-08-12T20:27:32.353Z"
        ],
        [
         "F0075",
         "Qatar Airways",
         "New Danielhaven",
         "Cunninghamfurt",
         "2025-04-27",
         "2025-08-06T21:41:44.844Z",
         75,
         "2025-08-12T20:06:43.130Z",
         "2025-08-12T20:27:32.353Z"
        ],
        [
         "F0076",
         "Lufthansa",
         "Johnsonchester",
         "New Michael",
         "2025-05-14",
         "2025-08-06T21:41:44.844Z",
         76,
         "2025-08-12T20:06:43.130Z",
         "2025-08-12T20:27:32.353Z"
        ],
        [
         "F0077",
         "Qatar Airways",
         "Samuelfort",
         "Port Ashley",
         "2025-06-12",
         "2025-08-06T21:41:44.844Z",
         77,
         "2025-08-12T20:06:43.130Z",
         "2025-08-12T20:27:32.353Z"
        ],
        [
         "F0078",
         "Qatar Airways",
         "Howardbury",
         "Burchburgh",
         "2025-05-09",
         "2025-08-06T21:41:44.844Z",
         78,
         "2025-08-12T20:06:43.130Z",
         "2025-08-12T20:27:32.353Z"
        ],
        [
         "F0079",
         "Delta",
         "Jonesburgh",
         "Andradeville",
         "2025-06-17",
         "2025-08-06T21:41:44.844Z",
         79,
         "2025-08-12T20:06:43.130Z",
         "2025-08-12T20:27:32.353Z"
        ],
        [
         "F0080",
         "Emirates",
         "Sonyaberg",
         "East Sarah",
         "2025-06-13",
         "2025-08-06T21:41:44.844Z",
         80,
         "2025-08-12T20:06:43.130Z",
         "2025-08-12T20:27:32.353Z"
        ],
        [
         "F0081",
         "Air Canada",
         "North Barry",
         "Josephborough",
         "2025-04-24",
         "2025-08-06T21:41:44.844Z",
         81,
         "2025-08-12T20:06:43.130Z",
         "2025-08-12T20:27:32.353Z"
        ],
        [
         "F0082",
         "Qatar Airways",
         "North Erikamouth",
         "Danielfort",
         "2025-05-19",
         "2025-08-06T21:41:44.844Z",
         82,
         "2025-08-12T20:06:43.130Z",
         "2025-08-12T20:27:32.353Z"
        ],
        [
         "F0083",
         "Lufthansa",
         "Jasonborough",
         "Port Audreyville",
         "2025-05-30",
         "2025-08-06T21:41:44.844Z",
         83,
         "2025-08-12T20:06:43.130Z",
         "2025-08-12T20:27:32.353Z"
        ],
        [
         "F0084",
         "Delta",
         "Franklinmouth",
         "Lake Joseph",
         "2025-05-30",
         "2025-08-06T21:41:44.844Z",
         84,
         "2025-08-12T20:06:43.130Z",
         "2025-08-12T20:27:32.353Z"
        ],
        [
         "F0085",
         "Lufthansa",
         "Hillton",
         "Castroborough",
         "2025-05-19",
         "2025-08-06T21:41:44.844Z",
         85,
         "2025-08-12T20:06:43.130Z",
         "2025-08-12T20:27:32.353Z"
        ],
        [
         "F0086",
         "Delta",
         "Port Chelsea",
         "Robertchester",
         "2025-05-08",
         "2025-08-06T21:41:44.844Z",
         86,
         "2025-08-12T20:06:43.130Z",
         "2025-08-12T20:27:32.353Z"
        ],
        [
         "F0087",
         "Emirates",
         "Kellyland",
         "New Jonathanmouth",
         "2025-04-23",
         "2025-08-06T21:41:44.844Z",
         87,
         "2025-08-12T20:06:43.130Z",
         "2025-08-12T20:27:32.353Z"
        ],
        [
         "F0088",
         "Qatar Airways",
         "North Miguel",
         "Lake Allisonfurt",
         "2025-05-28",
         "2025-08-06T21:41:44.844Z",
         88,
         "2025-08-12T20:06:43.130Z",
         "2025-08-12T20:27:32.353Z"
        ],
        [
         "F0089",
         "Qatar Airways",
         "Robinsonberg",
         "Adrianchester",
         "2025-05-21",
         "2025-08-06T21:41:44.844Z",
         89,
         "2025-08-12T20:06:43.130Z",
         "2025-08-12T20:27:32.353Z"
        ],
        [
         "F0090",
         "Delta",
         "East Rachelport",
         "Davisport",
         "2025-05-23",
         "2025-08-06T21:41:44.844Z",
         90,
         "2025-08-12T20:06:43.130Z",
         "2025-08-12T20:27:32.353Z"
        ],
        [
         "F0091",
         "Lufthansa",
         "Lake Scott",
         "Williamshire",
         "2025-06-04",
         "2025-08-06T21:41:44.844Z",
         91,
         "2025-08-12T20:06:43.130Z",
         "2025-08-12T20:27:32.353Z"
        ],
        [
         "F0092",
         "Lufthansa",
         "Austinborough",
         "Bautistafort",
         "2025-05-29",
         "2025-08-06T21:41:44.844Z",
         92,
         "2025-08-12T20:06:43.130Z",
         "2025-08-12T20:27:32.353Z"
        ],
        [
         "F0093",
         "Air Canada",
         "Frenchside",
         "West Christopher",
         "2025-05-28",
         "2025-08-06T21:41:44.844Z",
         93,
         "2025-08-12T20:06:43.130Z",
         "2025-08-12T20:27:32.353Z"
        ],
        [
         "F0094",
         "Emirates",
         "South Amyfurt",
         "Jimenezview",
         "2025-06-14",
         "2025-08-06T21:41:44.844Z",
         94,
         "2025-08-12T20:06:43.130Z",
         "2025-08-12T20:27:32.353Z"
        ],
        [
         "F0095",
         "Qatar Airways",
         "North Dawnberg",
         "East Sarahmouth",
         "2025-05-26",
         "2025-08-06T21:41:44.844Z",
         95,
         "2025-08-12T20:06:43.130Z",
         "2025-08-12T20:27:32.353Z"
        ],
        [
         "F0096",
         "Lufthansa",
         "Coreyfort",
         "West Joseph",
         "2025-06-06",
         "2025-08-06T21:41:44.844Z",
         96,
         "2025-08-12T20:06:43.130Z",
         "2025-08-12T20:27:32.353Z"
        ],
        [
         "F0097",
         "Emirates",
         "Billyport",
         "Brentton",
         "2025-05-18",
         "2025-08-06T21:41:44.844Z",
         97,
         "2025-08-12T20:06:43.130Z",
         "2025-08-12T20:27:32.353Z"
        ],
        [
         "F0098",
         "Air Canada",
         "Wallerburgh",
         "Lake Karen",
         "2025-05-01",
         "2025-08-06T21:41:44.844Z",
         98,
         "2025-08-12T20:06:43.130Z",
         "2025-08-12T20:27:32.353Z"
        ],
        [
         "F0099",
         "Air Canada",
         "Lake Connor",
         "Matthewberg",
         "2025-04-28",
         "2025-08-06T21:41:44.844Z",
         99,
         "2025-08-12T20:06:43.130Z",
         "2025-08-12T20:27:32.353Z"
        ],
        [
         "F0100",
         "Qatar Airways",
         "Port Anthony",
         "Thompsonfort",
         "2025-05-31",
         "2025-08-06T21:41:44.844Z",
         100,
         "2025-08-12T20:06:43.130Z",
         "2025-08-12T20:27:32.353Z"
        ],
        [
         "F0101",
         "Qatar Airways",
         "Lake Joshuamouth",
         "Johnshire",
         "2025-07-14",
         "2025-08-06T21:41:44.844Z",
         101,
         "2025-08-12T20:06:43.130Z",
         "2025-08-12T20:27:32.353Z"
        ],
        [
         "F0102",
         "Delta",
         "Schroederbury",
         "Sethfort",
         "2025-06-25",
         "2025-08-06T21:41:44.844Z",
         102,
         "2025-08-12T20:06:43.130Z",
         "2025-08-12T20:27:32.353Z"
        ],
        [
         "F0103",
         "Qatar Airways",
         "Jameschester",
         "Ashleyberg",
         "2025-07-15",
         "2025-08-06T21:41:44.844Z",
         103,
         "2025-08-12T20:06:43.130Z",
         "2025-08-12T20:27:32.353Z"
        ],
        [
         "F0104",
         "Qatar Airways",
         "Huangstad",
         "Catherinehaven",
         "2025-06-29",
         "2025-08-06T21:41:44.844Z",
         104,
         "2025-08-12T20:06:43.130Z",
         "2025-08-12T20:27:32.353Z"
        ],
        [
         "F0105",
         "Air Canada",
         "Aprilton",
         "Victorville",
         "2025-07-05",
         "2025-08-06T21:41:44.844Z",
         105,
         "2025-08-12T20:06:43.130Z",
         "2025-08-12T20:27:32.353Z"
        ],
        [
         "F0106",
         "Lufthansa",
         "East Austinmouth",
         "New Toddburgh",
         "2025-06-22",
         "2025-08-06T21:41:44.844Z",
         106,
         "2025-08-12T20:06:43.130Z",
         "2025-08-12T20:27:32.353Z"
        ],
        [
         "F0107",
         "Air Canada",
         "Mitchelltown",
         "Johnsonbury",
         "2025-07-01",
         "2025-08-06T21:41:44.844Z",
         107,
         "2025-08-12T20:06:43.130Z",
         "2025-08-12T20:27:32.353Z"
        ],
        [
         "F0108",
         "Lufthansa",
         "New Jennifer",
         "Lake Tracie",
         "2025-06-28",
         "2025-08-06T21:41:44.844Z",
         108,
         "2025-08-12T20:06:43.130Z",
         "2025-08-12T20:27:32.353Z"
        ],
        [
         "F0109",
         "Air Canada",
         "Williamsland",
         "South Carolberg",
         "2025-06-14",
         "2025-08-06T21:41:44.844Z",
         109,
         "2025-08-12T20:06:43.130Z",
         "2025-08-12T20:27:32.353Z"
        ],
        [
         "F0110",
         "Emirates",
         "Churchport",
         "Wrightton",
         "2025-07-15",
         "2025-08-06T21:41:44.844Z",
         110,
         "2025-08-12T20:06:43.130Z",
         "2025-08-12T20:27:32.353Z"
        ]
       ],
       "datasetInfos": [
        {
         "name": "_sqldf",
         "schema": {
          "fields": [
           {
            "metadata": {},
            "name": "flight_id",
            "nullable": true,
            "type": "string"
           },
           {
            "metadata": {},
            "name": "airline",
            "nullable": true,
            "type": "string"
           },
           {
            "metadata": {},
            "name": "origin",
            "nullable": true,
            "type": "string"
           },
           {
            "metadata": {},
            "name": "destination",
            "nullable": true,
            "type": "string"
           },
           {
            "metadata": {
             "__detected_date_formats": "yyyy-M-d"
            },
            "name": "flight_date",
            "nullable": true,
            "type": "string"
           },
           {
            "metadata": {},
            "name": "modified_date",
            "nullable": true,
            "type": "timestamp"
           },
           {
            "metadata": {},
            "name": "DimFlightsKey",
            "nullable": true,
            "type": "long"
           },
           {
            "metadata": {},
            "name": "create_date",
            "nullable": true,
            "type": "timestamp"
           },
           {
            "metadata": {},
            "name": "update_date",
            "nullable": true,
            "type": "timestamp"
           }
          ],
          "type": "struct"
         },
         "tableIdentifier": null,
         "typeStr": "pyspark.sql.connect.dataframe.DataFrame"
        }
       ],
       "dbfsResultPath": null,
       "isJsonSchema": true,
       "metadata": {
        "createTempViewForImplicitDf": true,
        "dataframeName": "_sqldf",
        "executionCount": 228
       },
       "overflow": false,
       "plotOptions": {
        "customPlotOptions": {},
        "displayType": "table",
        "pivotAggregation": null,
        "pivotColumns": null,
        "xColumns": null,
        "yColumns": null
       },
       "removedWidgets": [],
       "schema": [
        {
         "metadata": "{}",
         "name": "flight_id",
         "type": "\"string\""
        },
        {
         "metadata": "{}",
         "name": "airline",
         "type": "\"string\""
        },
        {
         "metadata": "{}",
         "name": "origin",
         "type": "\"string\""
        },
        {
         "metadata": "{}",
         "name": "destination",
         "type": "\"string\""
        },
        {
         "metadata": "{\"__detected_date_formats\": \"yyyy-M-d\"}",
         "name": "flight_date",
         "type": "\"string\""
        },
        {
         "metadata": "{}",
         "name": "modified_date",
         "type": "\"timestamp\""
        },
        {
         "metadata": "{}",
         "name": "DimFlightsKey",
         "type": "\"long\""
        },
        {
         "metadata": "{}",
         "name": "create_date",
         "type": "\"timestamp\""
        },
        {
         "metadata": "{}",
         "name": "update_date",
         "type": "\"timestamp\""
        }
       ],
       "type": "table"
      }
     },
     "output_type": "display_data"
    }
   ],
   "source": [
    "%sql\n",
    "SELECT * FROM gold.dimflights"
   ]
  },
  {
   "cell_type": "code",
   "execution_count": 0,
   "metadata": {
    "application/vnd.databricks.v1+cell": {
     "cellMetadata": {
      "byteLimit": 2048000,
      "implicitDf": true,
      "rowLimit": 10000
     },
     "inputWidgets": {},
     "nuid": "19f35f48-8833-47d0-99c6-05340652101b",
     "showTitle": false,
     "tableResultSettingsMap": {
      "0": {
       "dataGridStateBlob": "{\"version\":1,\"tableState\":{\"columnPinning\":{\"left\":[\"#row_number#\"],\"right\":[]},\"columnSizing\":{},\"columnVisibility\":{}},\"settings\":{\"columns\":{}},\"syncTimestamp\":1755031079792}",
       "filterBlob": null,
       "queryPlanFiltersBlob": null,
       "tableResultIndex": 0
      }
     },
     "title": ""
    }
   },
   "outputs": [
    {
     "output_type": "display_data",
     "data": {
      "text/html": [
       "<style scoped>\n",
       "  .table-result-container {\n",
       "    max-height: 300px;\n",
       "    overflow: auto;\n",
       "  }\n",
       "  table, th, td {\n",
       "    border: 1px solid black;\n",
       "    border-collapse: collapse;\n",
       "  }\n",
       "  th, td {\n",
       "    padding: 5px;\n",
       "  }\n",
       "  th {\n",
       "    text-align: left;\n",
       "  }\n",
       "</style><div class='table-result-container'><table class='table-result'><thead style='background-color: white'><tr><th>passenger_id</th><th>name</th><th>gender</th><th>nationality</th><th>modified_date</th><th>DimPassengersKey</th><th>create_date</th><th>update_date</th></tr></thead><tbody><tr><td>P0049</td><td>Justin Thomas</td><td>Female</td><td>Tokelau</td><td>2025-08-12T21:01:32.095Z</td><td>49</td><td>2025-08-12T20:39:25.949Z</td><td>2025-08-12T21:04:19.806Z</td></tr></tbody></table></div>"
      ]
     },
     "metadata": {
      "application/vnd.databricks.v1+output": {
       "addedWidgets": {},
       "aggData": [],
       "aggError": "",
       "aggOverflow": false,
       "aggSchema": [],
       "aggSeriesLimitReached": false,
       "aggType": "",
       "arguments": {},
       "columnCustomDisplayInfos": {},
       "data": [
        [
         "P0049",
         "Justin Thomas",
         "Female",
         "Tokelau",
         "2025-08-12T21:01:32.095Z",
         49,
         "2025-08-12T20:39:25.949Z",
         "2025-08-12T21:04:19.806Z"
        ]
       ],
       "datasetInfos": [
        {
         "name": "_sqldf",
         "schema": {
          "fields": [
           {
            "metadata": {},
            "name": "passenger_id",
            "nullable": true,
            "type": "string"
           },
           {
            "metadata": {},
            "name": "name",
            "nullable": true,
            "type": "string"
           },
           {
            "metadata": {},
            "name": "gender",
            "nullable": true,
            "type": "string"
           },
           {
            "metadata": {},
            "name": "nationality",
            "nullable": true,
            "type": "string"
           },
           {
            "metadata": {},
            "name": "modified_date",
            "nullable": true,
            "type": "timestamp"
           },
           {
            "metadata": {},
            "name": "DimPassengersKey",
            "nullable": true,
            "type": "long"
           },
           {
            "metadata": {},
            "name": "create_date",
            "nullable": true,
            "type": "timestamp"
           },
           {
            "metadata": {},
            "name": "update_date",
            "nullable": true,
            "type": "timestamp"
           }
          ],
          "type": "struct"
         },
         "tableIdentifier": null,
         "typeStr": "pyspark.sql.connect.dataframe.DataFrame"
        }
       ],
       "dbfsResultPath": null,
       "isJsonSchema": true,
       "metadata": {
        "createTempViewForImplicitDf": true,
        "dataframeName": "_sqldf",
        "executionCount": 229
       },
       "overflow": false,
       "plotOptions": {
        "customPlotOptions": {},
        "displayType": "table",
        "pivotAggregation": null,
        "pivotColumns": null,
        "xColumns": null,
        "yColumns": null
       },
       "removedWidgets": [],
       "schema": [
        {
         "metadata": "{}",
         "name": "passenger_id",
         "type": "\"string\""
        },
        {
         "metadata": "{}",
         "name": "name",
         "type": "\"string\""
        },
        {
         "metadata": "{}",
         "name": "gender",
         "type": "\"string\""
        },
        {
         "metadata": "{}",
         "name": "nationality",
         "type": "\"string\""
        },
        {
         "metadata": "{}",
         "name": "modified_date",
         "type": "\"timestamp\""
        },
        {
         "metadata": "{}",
         "name": "DimPassengersKey",
         "type": "\"long\""
        },
        {
         "metadata": "{}",
         "name": "create_date",
         "type": "\"timestamp\""
        },
        {
         "metadata": "{}",
         "name": "update_date",
         "type": "\"timestamp\""
        }
       ],
       "type": "table"
      }
     },
     "output_type": "display_data"
    }
   ],
   "source": [
    "%sql\n",
    "SELECT * FROM workspace.gold.dimpassengers where passenger_id = 'P0049'"
   ]
  },
  {
   "cell_type": "code",
   "execution_count": 0,
   "metadata": {
    "application/vnd.databricks.v1+cell": {
     "cellMetadata": {
      "byteLimit": 2048000,
      "rowLimit": 10000
     },
     "inputWidgets": {},
     "nuid": "28a948b3-c49d-4305-b66d-62f379c50199",
     "showTitle": false,
     "tableResultSettingsMap": {},
     "title": ""
    }
   },
   "outputs": [],
   "source": []
  }
 ],
 "metadata": {
  "application/vnd.databricks.v1+notebook": {
   "computePreferences": null,
   "dashboards": [],
   "environmentMetadata": {
    "base_environment": "",
    "environment_version": "2"
   },
   "inputWidgetPreferences": null,
   "language": "python",
   "notebookMetadata": {
    "mostRecentlyExecutedCommandWithImplicitDF": {
     "commandId": 6763961898816341,
     "dataframes": [
      "_sqldf"
     ]
    },
    "pythonIndentUnit": 4
   },
   "notebookName": "GOLD_DIMS",
   "widgets": {
    "backdated_refresh": {
     "currentValue": "",
     "nuid": "57305cc6-0b62-4656-8003-854b922666c2",
     "typedWidgetInfo": {
      "autoCreated": false,
      "defaultValue": "",
      "label": null,
      "name": "backdated_refresh",
      "options": {
       "widgetDisplayType": "Text",
       "validationRegex": null
      },
      "parameterDataType": "String"
     },
     "widgetInfo": {
      "widgetType": "text",
      "defaultValue": "",
      "label": null,
      "name": "backdated_refresh",
      "options": {
       "widgetType": "text",
       "autoCreated": null,
       "validationRegex": null
      }
     }
    },
    "cdccols": {
     "currentValue": "",
     "nuid": "4b14f77f-e4a7-4b9c-a1d7-d562d64cfd09",
     "typedWidgetInfo": {
      "autoCreated": false,
      "defaultValue": "",
      "label": null,
      "name": "cdccols",
      "options": {
       "widgetDisplayType": "Text",
       "validationRegex": null
      },
      "parameterDataType": "String"
     },
     "widgetInfo": {
      "widgetType": "text",
      "defaultValue": "",
      "label": null,
      "name": "cdccols",
      "options": {
       "widgetType": "text",
       "autoCreated": null,
       "validationRegex": null
      }
     }
    },
    "keycols": {
     "currentValue": "[\"flight_id\"]",
     "nuid": "883e5aaf-eb97-4a94-96f9-3b0cd5c3bc9e",
     "typedWidgetInfo": {
      "autoCreated": false,
      "defaultValue": "",
      "label": null,
      "name": "keycols",
      "options": {
       "widgetDisplayType": "Text",
       "validationRegex": null
      },
      "parameterDataType": "String"
     },
     "widgetInfo": {
      "widgetType": "text",
      "defaultValue": "",
      "label": null,
      "name": "keycols",
      "options": {
       "widgetType": "text",
       "autoCreated": null,
       "validationRegex": null
      }
     }
    },
    "source_object": {
     "currentValue": "",
     "nuid": "9c6c253a-1fc6-4b14-a9a4-75b2baf90dcb",
     "typedWidgetInfo": {
      "autoCreated": false,
      "defaultValue": "",
      "label": null,
      "name": "source_object",
      "options": {
       "widgetDisplayType": "Text",
       "validationRegex": null
      },
      "parameterDataType": "String"
     },
     "widgetInfo": {
      "widgetType": "text",
      "defaultValue": "",
      "label": null,
      "name": "source_object",
      "options": {
       "widgetType": "text",
       "autoCreated": null,
       "validationRegex": null
      }
     }
    },
    "source_schema": {
     "currentValue": "",
     "nuid": "4f8a21bb-444f-4b3b-acec-89a344afda30",
     "typedWidgetInfo": {
      "autoCreated": false,
      "defaultValue": "",
      "label": "",
      "name": "source_schema",
      "options": {
       "widgetDisplayType": "Text",
       "validationRegex": null
      },
      "parameterDataType": "String"
     },
     "widgetInfo": {
      "widgetType": "text",
      "defaultValue": "",
      "label": "",
      "name": "source_schema",
      "options": {
       "widgetType": "text",
       "autoCreated": false,
       "validationRegex": null
      }
     }
    },
    "target_object": {
     "currentValue": "",
     "nuid": "ae680f4a-e30b-4839-958e-ff445daddee0",
     "typedWidgetInfo": {
      "autoCreated": false,
      "defaultValue": "",
      "label": null,
      "name": "target_object",
      "options": {
       "widgetDisplayType": "Text",
       "validationRegex": null
      },
      "parameterDataType": "String"
     },
     "widgetInfo": {
      "widgetType": "text",
      "defaultValue": "",
      "label": null,
      "name": "target_object",
      "options": {
       "widgetType": "text",
       "autoCreated": null,
       "validationRegex": null
      }
     }
    },
    "target_schema": {
     "currentValue": "",
     "nuid": "d59e3014-4f76-4108-aded-df096ca5c7e8",
     "typedWidgetInfo": {
      "autoCreated": false,
      "defaultValue": "",
      "label": null,
      "name": "target_schema",
      "options": {
       "widgetDisplayType": "Text",
       "validationRegex": null
      },
      "parameterDataType": "String"
     },
     "widgetInfo": {
      "widgetType": "text",
      "defaultValue": "",
      "label": null,
      "name": "target_schema",
      "options": {
       "widgetType": "text",
       "autoCreated": null,
       "validationRegex": null
      }
     }
    }
   }
  },
  "language_info": {
   "name": "python"
  }
 },
 "nbformat": 4,
 "nbformat_minor": 0
}